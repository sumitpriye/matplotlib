{
 "cells": [
  {
   "cell_type": "code",
   "execution_count": 1,
   "id": "c3103fa2",
   "metadata": {},
   "outputs": [
    {
     "name": "stderr",
     "output_type": "stream",
     "text": [
      "C:\\Users\\lenovo\\Anaconda3\\lib\\site-packages\\numpy\\_distributor_init.py:30: UserWarning: loaded more than 1 DLL from .libs:\n",
      "C:\\Users\\lenovo\\Anaconda3\\lib\\site-packages\\numpy\\.libs\\libopenblas.EL2C6PLE4ZYW3ECEVIV3OXXGRN2NRFM2.gfortran-win_amd64.dll\n",
      "C:\\Users\\lenovo\\Anaconda3\\lib\\site-packages\\numpy\\.libs\\libopenblas.WCDJNK7YVMPZQ2ME2ZZHJJRJ3JIKNDB7.gfortran-win_amd64.dll\n",
      "  warnings.warn(\"loaded more than 1 DLL from .libs:\"\n"
     ]
    }
   ],
   "source": [
    "import pandas as pd"
   ]
  },
  {
   "cell_type": "code",
   "execution_count": 3,
   "id": "c5d73937",
   "metadata": {},
   "outputs": [
    {
     "data": {
      "text/html": [
       "<div>\n",
       "<style scoped>\n",
       "    .dataframe tbody tr th:only-of-type {\n",
       "        vertical-align: middle;\n",
       "    }\n",
       "\n",
       "    .dataframe tbody tr th {\n",
       "        vertical-align: top;\n",
       "    }\n",
       "\n",
       "    .dataframe thead th {\n",
       "        text-align: right;\n",
       "    }\n",
       "</style>\n",
       "<table border=\"1\" class=\"dataframe\">\n",
       "  <thead>\n",
       "    <tr style=\"text-align: right;\">\n",
       "      <th></th>\n",
       "      <th>Player_Name</th>\n",
       "      <th>IPL_Team</th>\n",
       "      <th>Matches_Played</th>\n",
       "      <th>Runs_Scored</th>\n",
       "    </tr>\n",
       "  </thead>\n",
       "  <tbody>\n",
       "    <tr>\n",
       "      <th>0</th>\n",
       "      <td>MS Dhoni</td>\n",
       "      <td>CSK</td>\n",
       "      <td>12</td>\n",
       "      <td>300</td>\n",
       "    </tr>\n",
       "    <tr>\n",
       "      <th>1</th>\n",
       "      <td>Virat</td>\n",
       "      <td>RCB</td>\n",
       "      <td>12</td>\n",
       "      <td>350</td>\n",
       "    </tr>\n",
       "    <tr>\n",
       "      <th>2</th>\n",
       "      <td>Faf Du plesis</td>\n",
       "      <td>RCB</td>\n",
       "      <td>12</td>\n",
       "      <td>625</td>\n",
       "    </tr>\n",
       "    <tr>\n",
       "      <th>3</th>\n",
       "      <td>Surya</td>\n",
       "      <td>MI</td>\n",
       "      <td>12</td>\n",
       "      <td>575</td>\n",
       "    </tr>\n",
       "    <tr>\n",
       "      <th>4</th>\n",
       "      <td>Yashashwi</td>\n",
       "      <td>RR</td>\n",
       "      <td>12</td>\n",
       "      <td>600</td>\n",
       "    </tr>\n",
       "  </tbody>\n",
       "</table>\n",
       "</div>"
      ],
      "text/plain": [
       "     Player_Name IPL_Team  Matches_Played  Runs_Scored\n",
       "0       MS Dhoni      CSK              12          300\n",
       "1          Virat      RCB              12          350\n",
       "2  Faf Du plesis      RCB              12          625\n",
       "3          Surya       MI              12          575\n",
       "4      Yashashwi       RR              12          600"
      ]
     },
     "execution_count": 3,
     "metadata": {},
     "output_type": "execute_result"
    }
   ],
   "source": [
    "data = [('MS Dhoni','CSK', 12, 300 ), ('Virat', 'RCB', 12, 350), ('Faf Du plesis', 'RCB',12, 625), ('Surya', 'MI', 12, 575), ('Yashashwi', 'RR',12,600)]\n",
    "\n",
    "df = pd.DataFrame(data, columns=['Player_Name','IPL_Team','Matches_Played','Runs_Scored'])\n",
    "df\n"
   ]
  },
  {
   "cell_type": "code",
   "execution_count": 14,
   "id": "39c124cb",
   "metadata": {},
   "outputs": [
    {
     "data": {
      "text/plain": [
       "2    Faf Du plesis\n",
       "Name: Player_Name, dtype: object"
      ]
     },
     "execution_count": 14,
     "metadata": {},
     "output_type": "execute_result"
    }
   ],
   "source": [
    "# What is the maximum runs scored by anyone?\n",
    "# Who has scored the max runs?\n",
    "\n",
    "df.Player_Name[df['Runs_Scored'] == df.Runs_Scored.max()]"
   ]
  },
  {
   "cell_type": "code",
   "execution_count": 18,
   "id": "69995c96",
   "metadata": {},
   "outputs": [
    {
     "data": {
      "text/plain": [
       "'Faf Du plesis'"
      ]
     },
     "execution_count": 18,
     "metadata": {},
     "output_type": "execute_result"
    }
   ],
   "source": [
    "player_name = df.loc[df['Runs_Scored'].idxmax(), 'Player_Name']\n",
    "player_name"
   ]
  },
  {
   "cell_type": "code",
   "execution_count": 20,
   "id": "2f605f0c",
   "metadata": {},
   "outputs": [
    {
     "data": {
      "text/plain": [
       "2"
      ]
     },
     "execution_count": 20,
     "metadata": {},
     "output_type": "execute_result"
    }
   ],
   "source": [
    "df['Runs_Scored'].idxmax()"
   ]
  },
  {
   "cell_type": "code",
   "execution_count": 22,
   "id": "09401161",
   "metadata": {},
   "outputs": [
    {
     "data": {
      "text/plain": [
       "'Faf Du plesis'"
      ]
     },
     "execution_count": 22,
     "metadata": {},
     "output_type": "execute_result"
    }
   ],
   "source": [
    "df.loc[2, 'Player_Name']"
   ]
  },
  {
   "cell_type": "code",
   "execution_count": 23,
   "id": "e1061e33",
   "metadata": {},
   "outputs": [
    {
     "data": {
      "text/html": [
       "<div>\n",
       "<style scoped>\n",
       "    .dataframe tbody tr th:only-of-type {\n",
       "        vertical-align: middle;\n",
       "    }\n",
       "\n",
       "    .dataframe tbody tr th {\n",
       "        vertical-align: top;\n",
       "    }\n",
       "\n",
       "    .dataframe thead th {\n",
       "        text-align: right;\n",
       "    }\n",
       "</style>\n",
       "<table border=\"1\" class=\"dataframe\">\n",
       "  <thead>\n",
       "    <tr style=\"text-align: right;\">\n",
       "      <th></th>\n",
       "      <th>Player_Name</th>\n",
       "      <th>IPL_Team</th>\n",
       "      <th>Matches_Played</th>\n",
       "      <th>Runs_Scored</th>\n",
       "    </tr>\n",
       "  </thead>\n",
       "  <tbody>\n",
       "    <tr>\n",
       "      <th>0</th>\n",
       "      <td>MS Dhoni</td>\n",
       "      <td>CSK</td>\n",
       "      <td>12</td>\n",
       "      <td>300</td>\n",
       "    </tr>\n",
       "    <tr>\n",
       "      <th>1</th>\n",
       "      <td>Virat</td>\n",
       "      <td>RCB</td>\n",
       "      <td>12</td>\n",
       "      <td>350</td>\n",
       "    </tr>\n",
       "    <tr>\n",
       "      <th>2</th>\n",
       "      <td>Faf Du plesis</td>\n",
       "      <td>RCB</td>\n",
       "      <td>12</td>\n",
       "      <td>625</td>\n",
       "    </tr>\n",
       "    <tr>\n",
       "      <th>3</th>\n",
       "      <td>Surya</td>\n",
       "      <td>MI</td>\n",
       "      <td>12</td>\n",
       "      <td>575</td>\n",
       "    </tr>\n",
       "    <tr>\n",
       "      <th>4</th>\n",
       "      <td>Yashashwi</td>\n",
       "      <td>RR</td>\n",
       "      <td>12</td>\n",
       "      <td>600</td>\n",
       "    </tr>\n",
       "  </tbody>\n",
       "</table>\n",
       "</div>"
      ],
      "text/plain": [
       "     Player_Name IPL_Team  Matches_Played  Runs_Scored\n",
       "0       MS Dhoni      CSK              12          300\n",
       "1          Virat      RCB              12          350\n",
       "2  Faf Du plesis      RCB              12          625\n",
       "3          Surya       MI              12          575\n",
       "4      Yashashwi       RR              12          600"
      ]
     },
     "execution_count": 23,
     "metadata": {},
     "output_type": "execute_result"
    }
   ],
   "source": [
    "df"
   ]
  },
  {
   "cell_type": "code",
   "execution_count": 34,
   "id": "92bee53d",
   "metadata": {},
   "outputs": [
    {
     "name": "stderr",
     "output_type": "stream",
     "text": [
      "C:\\Users\\lenovo\\AppData\\Local\\Temp/ipykernel_29776/793136726.py:1: FutureWarning: The frame.append method is deprecated and will be removed from pandas in a future version. Use pandas.concat instead.\n",
      "  df = df.append({'Player_Name':'Sanju Samson','IPL_Team':'RR', 'Matches_Played':12, 'Runs_Scored':425}, ignore_index=True)\n"
     ]
    }
   ],
   "source": [
    "df = df.append({'Player_Name':'Sanju Samson','IPL_Team':'RR', 'Matches_Played':12, 'Runs_Scored':425}, ignore_index=True)"
   ]
  },
  {
   "cell_type": "code",
   "execution_count": 39,
   "id": "54f5a957",
   "metadata": {},
   "outputs": [
    {
     "data": {
      "text/html": [
       "<div>\n",
       "<style scoped>\n",
       "    .dataframe tbody tr th:only-of-type {\n",
       "        vertical-align: middle;\n",
       "    }\n",
       "\n",
       "    .dataframe tbody tr th {\n",
       "        vertical-align: top;\n",
       "    }\n",
       "\n",
       "    .dataframe thead th {\n",
       "        text-align: right;\n",
       "    }\n",
       "</style>\n",
       "<table border=\"1\" class=\"dataframe\">\n",
       "  <thead>\n",
       "    <tr style=\"text-align: right;\">\n",
       "      <th></th>\n",
       "      <th>Player_Name</th>\n",
       "      <th>IPL_Team</th>\n",
       "      <th>Matches_Played</th>\n",
       "      <th>Runs_Scored</th>\n",
       "    </tr>\n",
       "  </thead>\n",
       "  <tbody>\n",
       "    <tr>\n",
       "      <th>0</th>\n",
       "      <td>MS Dhoni</td>\n",
       "      <td>CSK</td>\n",
       "      <td>12</td>\n",
       "      <td>300</td>\n",
       "    </tr>\n",
       "    <tr>\n",
       "      <th>1</th>\n",
       "      <td>Virat</td>\n",
       "      <td>RCB</td>\n",
       "      <td>12</td>\n",
       "      <td>350</td>\n",
       "    </tr>\n",
       "    <tr>\n",
       "      <th>2</th>\n",
       "      <td>Faf Du plesis</td>\n",
       "      <td>RCB</td>\n",
       "      <td>12</td>\n",
       "      <td>625</td>\n",
       "    </tr>\n",
       "    <tr>\n",
       "      <th>3</th>\n",
       "      <td>Surya</td>\n",
       "      <td>MI</td>\n",
       "      <td>12</td>\n",
       "      <td>575</td>\n",
       "    </tr>\n",
       "    <tr>\n",
       "      <th>4</th>\n",
       "      <td>Yashashwi</td>\n",
       "      <td>RR</td>\n",
       "      <td>12</td>\n",
       "      <td>600</td>\n",
       "    </tr>\n",
       "    <tr>\n",
       "      <th>5</th>\n",
       "      <td>Sanju Samson</td>\n",
       "      <td>RR</td>\n",
       "      <td>12</td>\n",
       "      <td>425</td>\n",
       "    </tr>\n",
       "  </tbody>\n",
       "</table>\n",
       "</div>"
      ],
      "text/plain": [
       "     Player_Name IPL_Team  Matches_Played  Runs_Scored\n",
       "0       MS Dhoni      CSK              12          300\n",
       "1          Virat      RCB              12          350\n",
       "2  Faf Du plesis      RCB              12          625\n",
       "3          Surya       MI              12          575\n",
       "4      Yashashwi       RR              12          600\n",
       "5   Sanju Samson       RR              12          425"
      ]
     },
     "execution_count": 39,
     "metadata": {},
     "output_type": "execute_result"
    }
   ],
   "source": [
    "df"
   ]
  },
  {
   "cell_type": "code",
   "execution_count": 43,
   "id": "f6b163fd",
   "metadata": {},
   "outputs": [],
   "source": [
    "df.loc[len(df)] = ['Shubman Gill', 'GT', 12, 610]"
   ]
  },
  {
   "cell_type": "code",
   "execution_count": 46,
   "id": "e6780bd6",
   "metadata": {},
   "outputs": [
    {
     "data": {
      "text/html": [
       "<div>\n",
       "<style scoped>\n",
       "    .dataframe tbody tr th:only-of-type {\n",
       "        vertical-align: middle;\n",
       "    }\n",
       "\n",
       "    .dataframe tbody tr th {\n",
       "        vertical-align: top;\n",
       "    }\n",
       "\n",
       "    .dataframe thead th {\n",
       "        text-align: right;\n",
       "    }\n",
       "</style>\n",
       "<table border=\"1\" class=\"dataframe\">\n",
       "  <thead>\n",
       "    <tr style=\"text-align: right;\">\n",
       "      <th></th>\n",
       "      <th>Player_Name</th>\n",
       "      <th>IPL_Team</th>\n",
       "      <th>Matches_Played</th>\n",
       "      <th>Runs_Scored</th>\n",
       "    </tr>\n",
       "  </thead>\n",
       "  <tbody>\n",
       "    <tr>\n",
       "      <th>0</th>\n",
       "      <td>MS Dhoni</td>\n",
       "      <td>CSK</td>\n",
       "      <td>12</td>\n",
       "      <td>300</td>\n",
       "    </tr>\n",
       "    <tr>\n",
       "      <th>1</th>\n",
       "      <td>Virat</td>\n",
       "      <td>RCB</td>\n",
       "      <td>12</td>\n",
       "      <td>350</td>\n",
       "    </tr>\n",
       "    <tr>\n",
       "      <th>2</th>\n",
       "      <td>Faf Du plesis</td>\n",
       "      <td>RCB</td>\n",
       "      <td>12</td>\n",
       "      <td>625</td>\n",
       "    </tr>\n",
       "    <tr>\n",
       "      <th>3</th>\n",
       "      <td>Surya</td>\n",
       "      <td>MI</td>\n",
       "      <td>12</td>\n",
       "      <td>575</td>\n",
       "    </tr>\n",
       "    <tr>\n",
       "      <th>4</th>\n",
       "      <td>Yashashwi</td>\n",
       "      <td>RR</td>\n",
       "      <td>12</td>\n",
       "      <td>600</td>\n",
       "    </tr>\n",
       "    <tr>\n",
       "      <th>5</th>\n",
       "      <td>Sanju Samson</td>\n",
       "      <td>RR</td>\n",
       "      <td>12</td>\n",
       "      <td>425</td>\n",
       "    </tr>\n",
       "    <tr>\n",
       "      <th>6</th>\n",
       "      <td>Shubman Gill</td>\n",
       "      <td>GT</td>\n",
       "      <td>12</td>\n",
       "      <td>610</td>\n",
       "    </tr>\n",
       "  </tbody>\n",
       "</table>\n",
       "</div>"
      ],
      "text/plain": [
       "     Player_Name IPL_Team  Matches_Played  Runs_Scored\n",
       "0       MS Dhoni      CSK              12          300\n",
       "1          Virat      RCB              12          350\n",
       "2  Faf Du plesis      RCB              12          625\n",
       "3          Surya       MI              12          575\n",
       "4      Yashashwi       RR              12          600\n",
       "5   Sanju Samson       RR              12          425\n",
       "6   Shubman Gill       GT              12          610"
      ]
     },
     "execution_count": 46,
     "metadata": {},
     "output_type": "execute_result"
    }
   ],
   "source": [
    "df"
   ]
  },
  {
   "cell_type": "code",
   "execution_count": 47,
   "id": "6d6b1e94",
   "metadata": {},
   "outputs": [
    {
     "data": {
      "text/plain": [
       "0         MS Dhoni\n",
       "1            Virat\n",
       "2    Faf Du plesis\n",
       "3            Surya\n",
       "4        Yashashwi\n",
       "5     Sanju Samson\n",
       "6     Shubman Gill\n",
       "Name: Player_Name, dtype: object"
      ]
     },
     "execution_count": 47,
     "metadata": {},
     "output_type": "execute_result"
    }
   ],
   "source": [
    "df['Player_Name']"
   ]
  },
  {
   "cell_type": "code",
   "execution_count": 51,
   "id": "740c62cd",
   "metadata": {},
   "outputs": [
    {
     "data": {
      "text/plain": [
       "['MS Dhoni',\n",
       " 'Virat',\n",
       " 'Faf Du plesis',\n",
       " 'Surya',\n",
       " 'Yashashwi',\n",
       " 'Sanju Samson',\n",
       " 'Shubman Gill']"
      ]
     },
     "execution_count": 51,
     "metadata": {},
     "output_type": "execute_result"
    }
   ],
   "source": [
    "df['Player_Name'].tolist()"
   ]
  },
  {
   "cell_type": "code",
   "execution_count": 52,
   "id": "4dd40b79",
   "metadata": {},
   "outputs": [
    {
     "data": {
      "text/plain": [
       "array(['MS Dhoni', 'Virat', 'Faf Du plesis', 'Surya', 'Yashashwi',\n",
       "       'Sanju Samson', 'Shubman Gill'], dtype=object)"
      ]
     },
     "execution_count": 52,
     "metadata": {},
     "output_type": "execute_result"
    }
   ],
   "source": [
    "df['Player_Name'].values"
   ]
  },
  {
   "cell_type": "code",
   "execution_count": 53,
   "id": "c0c7267b",
   "metadata": {},
   "outputs": [
    {
     "data": {
      "text/plain": [
       "['MS Dhoni',\n",
       " 'Virat',\n",
       " 'Faf Du plesis',\n",
       " 'Surya',\n",
       " 'Yashashwi',\n",
       " 'Sanju Samson',\n",
       " 'Shubman Gill']"
      ]
     },
     "execution_count": 53,
     "metadata": {},
     "output_type": "execute_result"
    }
   ],
   "source": [
    "df['Player_Name'].values.tolist()"
   ]
  },
  {
   "cell_type": "code",
   "execution_count": 56,
   "id": "d4e30a50",
   "metadata": {},
   "outputs": [
    {
     "data": {
      "text/html": [
       "<div>\n",
       "<style scoped>\n",
       "    .dataframe tbody tr th:only-of-type {\n",
       "        vertical-align: middle;\n",
       "    }\n",
       "\n",
       "    .dataframe tbody tr th {\n",
       "        vertical-align: top;\n",
       "    }\n",
       "\n",
       "    .dataframe thead th {\n",
       "        text-align: right;\n",
       "    }\n",
       "</style>\n",
       "<table border=\"1\" class=\"dataframe\">\n",
       "  <thead>\n",
       "    <tr style=\"text-align: right;\">\n",
       "      <th></th>\n",
       "      <th>Player_Name</th>\n",
       "    </tr>\n",
       "  </thead>\n",
       "  <tbody>\n",
       "    <tr>\n",
       "      <th>0</th>\n",
       "      <td>MS Dhoni</td>\n",
       "    </tr>\n",
       "    <tr>\n",
       "      <th>1</th>\n",
       "      <td>Virat</td>\n",
       "    </tr>\n",
       "    <tr>\n",
       "      <th>2</th>\n",
       "      <td>Faf Du plesis</td>\n",
       "    </tr>\n",
       "    <tr>\n",
       "      <th>3</th>\n",
       "      <td>Surya</td>\n",
       "    </tr>\n",
       "    <tr>\n",
       "      <th>4</th>\n",
       "      <td>Yashashwi</td>\n",
       "    </tr>\n",
       "    <tr>\n",
       "      <th>5</th>\n",
       "      <td>Sanju Samson</td>\n",
       "    </tr>\n",
       "    <tr>\n",
       "      <th>6</th>\n",
       "      <td>Shubman Gill</td>\n",
       "    </tr>\n",
       "  </tbody>\n",
       "</table>\n",
       "</div>"
      ],
      "text/plain": [
       "     Player_Name\n",
       "0       MS Dhoni\n",
       "1          Virat\n",
       "2  Faf Du plesis\n",
       "3          Surya\n",
       "4      Yashashwi\n",
       "5   Sanju Samson\n",
       "6   Shubman Gill"
      ]
     },
     "execution_count": 56,
     "metadata": {},
     "output_type": "execute_result"
    }
   ],
   "source": [
    "df[['Player_Name']]"
   ]
  },
  {
   "cell_type": "code",
   "execution_count": 57,
   "id": "9e3f35fe",
   "metadata": {},
   "outputs": [
    {
     "data": {
      "text/plain": [
       "pandas.core.series.Series"
      ]
     },
     "execution_count": 57,
     "metadata": {},
     "output_type": "execute_result"
    }
   ],
   "source": [
    "type(df['Player_Name'])"
   ]
  },
  {
   "cell_type": "code",
   "execution_count": 64,
   "id": "2e022ebe",
   "metadata": {},
   "outputs": [
    {
     "data": {
      "text/html": [
       "<div>\n",
       "<style scoped>\n",
       "    .dataframe tbody tr th:only-of-type {\n",
       "        vertical-align: middle;\n",
       "    }\n",
       "\n",
       "    .dataframe tbody tr th {\n",
       "        vertical-align: top;\n",
       "    }\n",
       "\n",
       "    .dataframe thead th {\n",
       "        text-align: right;\n",
       "    }\n",
       "</style>\n",
       "<table border=\"1\" class=\"dataframe\">\n",
       "  <thead>\n",
       "    <tr style=\"text-align: right;\">\n",
       "      <th></th>\n",
       "      <th>Player_Name</th>\n",
       "      <th>IPL_Team</th>\n",
       "    </tr>\n",
       "  </thead>\n",
       "  <tbody>\n",
       "    <tr>\n",
       "      <th>0</th>\n",
       "      <td>MS Dhoni</td>\n",
       "      <td>CSK</td>\n",
       "    </tr>\n",
       "    <tr>\n",
       "      <th>1</th>\n",
       "      <td>Virat</td>\n",
       "      <td>RCB</td>\n",
       "    </tr>\n",
       "    <tr>\n",
       "      <th>2</th>\n",
       "      <td>Faf Du plesis</td>\n",
       "      <td>RCB</td>\n",
       "    </tr>\n",
       "    <tr>\n",
       "      <th>3</th>\n",
       "      <td>Surya</td>\n",
       "      <td>MI</td>\n",
       "    </tr>\n",
       "    <tr>\n",
       "      <th>4</th>\n",
       "      <td>Yashashwi</td>\n",
       "      <td>RR</td>\n",
       "    </tr>\n",
       "    <tr>\n",
       "      <th>5</th>\n",
       "      <td>Sanju Samson</td>\n",
       "      <td>RR</td>\n",
       "    </tr>\n",
       "    <tr>\n",
       "      <th>6</th>\n",
       "      <td>Shubman Gill</td>\n",
       "      <td>GT</td>\n",
       "    </tr>\n",
       "  </tbody>\n",
       "</table>\n",
       "</div>"
      ],
      "text/plain": [
       "     Player_Name IPL_Team\n",
       "0       MS Dhoni      CSK\n",
       "1          Virat      RCB\n",
       "2  Faf Du plesis      RCB\n",
       "3          Surya       MI\n",
       "4      Yashashwi       RR\n",
       "5   Sanju Samson       RR\n",
       "6   Shubman Gill       GT"
      ]
     },
     "execution_count": 64,
     "metadata": {},
     "output_type": "execute_result"
    }
   ],
   "source": [
    "df[['Player_Name','IPL_Team']]"
   ]
  },
  {
   "cell_type": "code",
   "execution_count": 65,
   "id": "9b28453e",
   "metadata": {},
   "outputs": [],
   "source": [
    "df.to_csv('players.csv')"
   ]
  },
  {
   "cell_type": "code",
   "execution_count": 69,
   "id": "cbaa082b",
   "metadata": {},
   "outputs": [],
   "source": [
    "df1= pd.read_csv('players.csv',header=None )"
   ]
  },
  {
   "cell_type": "code",
   "execution_count": 70,
   "id": "c635c8a9",
   "metadata": {},
   "outputs": [
    {
     "data": {
      "text/html": [
       "<div>\n",
       "<style scoped>\n",
       "    .dataframe tbody tr th:only-of-type {\n",
       "        vertical-align: middle;\n",
       "    }\n",
       "\n",
       "    .dataframe tbody tr th {\n",
       "        vertical-align: top;\n",
       "    }\n",
       "\n",
       "    .dataframe thead th {\n",
       "        text-align: right;\n",
       "    }\n",
       "</style>\n",
       "<table border=\"1\" class=\"dataframe\">\n",
       "  <thead>\n",
       "    <tr style=\"text-align: right;\">\n",
       "      <th></th>\n",
       "      <th>0</th>\n",
       "      <th>1</th>\n",
       "      <th>2</th>\n",
       "      <th>3</th>\n",
       "      <th>4</th>\n",
       "    </tr>\n",
       "  </thead>\n",
       "  <tbody>\n",
       "    <tr>\n",
       "      <th>0</th>\n",
       "      <td>0</td>\n",
       "      <td>MS Dhoni</td>\n",
       "      <td>CSK</td>\n",
       "      <td>12</td>\n",
       "      <td>300</td>\n",
       "    </tr>\n",
       "    <tr>\n",
       "      <th>1</th>\n",
       "      <td>1</td>\n",
       "      <td>Virat</td>\n",
       "      <td>RCB</td>\n",
       "      <td>12</td>\n",
       "      <td>350</td>\n",
       "    </tr>\n",
       "    <tr>\n",
       "      <th>2</th>\n",
       "      <td>2</td>\n",
       "      <td>Faf Du plesis</td>\n",
       "      <td>RCB</td>\n",
       "      <td>12</td>\n",
       "      <td>625</td>\n",
       "    </tr>\n",
       "    <tr>\n",
       "      <th>3</th>\n",
       "      <td>3</td>\n",
       "      <td>Surya</td>\n",
       "      <td>MI</td>\n",
       "      <td>12</td>\n",
       "      <td>575</td>\n",
       "    </tr>\n",
       "    <tr>\n",
       "      <th>4</th>\n",
       "      <td>4</td>\n",
       "      <td>Yashashwi</td>\n",
       "      <td>RR</td>\n",
       "      <td>12</td>\n",
       "      <td>600</td>\n",
       "    </tr>\n",
       "    <tr>\n",
       "      <th>5</th>\n",
       "      <td>5</td>\n",
       "      <td>Sanju Samson</td>\n",
       "      <td>RR</td>\n",
       "      <td>12</td>\n",
       "      <td>425</td>\n",
       "    </tr>\n",
       "    <tr>\n",
       "      <th>6</th>\n",
       "      <td>6</td>\n",
       "      <td>Shubman Gill</td>\n",
       "      <td>GT</td>\n",
       "      <td>12</td>\n",
       "      <td>610</td>\n",
       "    </tr>\n",
       "  </tbody>\n",
       "</table>\n",
       "</div>"
      ],
      "text/plain": [
       "   0              1    2   3    4\n",
       "0  0       MS Dhoni  CSK  12  300\n",
       "1  1          Virat  RCB  12  350\n",
       "2  2  Faf Du plesis  RCB  12  625\n",
       "3  3          Surya   MI  12  575\n",
       "4  4      Yashashwi   RR  12  600\n",
       "5  5   Sanju Samson   RR  12  425\n",
       "6  6   Shubman Gill   GT  12  610"
      ]
     },
     "execution_count": 70,
     "metadata": {},
     "output_type": "execute_result"
    }
   ],
   "source": [
    "df1"
   ]
  },
  {
   "cell_type": "code",
   "execution_count": 76,
   "id": "6ae34065",
   "metadata": {},
   "outputs": [
    {
     "data": {
      "text/html": [
       "<div>\n",
       "<style scoped>\n",
       "    .dataframe tbody tr th:only-of-type {\n",
       "        vertical-align: middle;\n",
       "    }\n",
       "\n",
       "    .dataframe tbody tr th {\n",
       "        vertical-align: top;\n",
       "    }\n",
       "\n",
       "    .dataframe thead th {\n",
       "        text-align: right;\n",
       "    }\n",
       "</style>\n",
       "<table border=\"1\" class=\"dataframe\">\n",
       "  <thead>\n",
       "    <tr style=\"text-align: right;\">\n",
       "      <th></th>\n",
       "      <th>0</th>\n",
       "      <th>MS Dhoni</th>\n",
       "      <th>CSK</th>\n",
       "      <th>12</th>\n",
       "      <th>300</th>\n",
       "    </tr>\n",
       "  </thead>\n",
       "  <tbody>\n",
       "    <tr>\n",
       "      <th>0</th>\n",
       "      <td>1</td>\n",
       "      <td>Virat</td>\n",
       "      <td>RCB</td>\n",
       "      <td>12</td>\n",
       "      <td>350</td>\n",
       "    </tr>\n",
       "    <tr>\n",
       "      <th>1</th>\n",
       "      <td>2</td>\n",
       "      <td>Faf Du plesis</td>\n",
       "      <td>RCB</td>\n",
       "      <td>12</td>\n",
       "      <td>625</td>\n",
       "    </tr>\n",
       "    <tr>\n",
       "      <th>2</th>\n",
       "      <td>3</td>\n",
       "      <td>Surya</td>\n",
       "      <td>MI</td>\n",
       "      <td>12</td>\n",
       "      <td>575</td>\n",
       "    </tr>\n",
       "    <tr>\n",
       "      <th>3</th>\n",
       "      <td>4</td>\n",
       "      <td>Yashashwi</td>\n",
       "      <td>RR</td>\n",
       "      <td>12</td>\n",
       "      <td>600</td>\n",
       "    </tr>\n",
       "    <tr>\n",
       "      <th>4</th>\n",
       "      <td>5</td>\n",
       "      <td>Sanju Samson</td>\n",
       "      <td>RR</td>\n",
       "      <td>12</td>\n",
       "      <td>425</td>\n",
       "    </tr>\n",
       "    <tr>\n",
       "      <th>5</th>\n",
       "      <td>6</td>\n",
       "      <td>Shubman Gill</td>\n",
       "      <td>GT</td>\n",
       "      <td>12</td>\n",
       "      <td>610</td>\n",
       "    </tr>\n",
       "  </tbody>\n",
       "</table>\n",
       "</div>"
      ],
      "text/plain": [
       "   0       MS Dhoni  CSK  12  300\n",
       "0  1          Virat  RCB  12  350\n",
       "1  2  Faf Du plesis  RCB  12  625\n",
       "2  3          Surya   MI  12  575\n",
       "3  4      Yashashwi   RR  12  600\n",
       "4  5   Sanju Samson   RR  12  425\n",
       "5  6   Shubman Gill   GT  12  610"
      ]
     },
     "execution_count": 76,
     "metadata": {},
     "output_type": "execute_result"
    }
   ],
   "source": [
    "df2 = pd.read_csv('players.tsv', sep='\\t')\n",
    "df2"
   ]
  },
  {
   "cell_type": "code",
   "execution_count": 77,
   "id": "4c006c2f",
   "metadata": {},
   "outputs": [
    {
     "data": {
      "text/html": [
       "<div>\n",
       "<style scoped>\n",
       "    .dataframe tbody tr th:only-of-type {\n",
       "        vertical-align: middle;\n",
       "    }\n",
       "\n",
       "    .dataframe tbody tr th {\n",
       "        vertical-align: top;\n",
       "    }\n",
       "\n",
       "    .dataframe thead th {\n",
       "        text-align: right;\n",
       "    }\n",
       "</style>\n",
       "<table border=\"1\" class=\"dataframe\">\n",
       "  <thead>\n",
       "    <tr style=\"text-align: right;\">\n",
       "      <th></th>\n",
       "      <th>0\\tMS Dhoni\\tCSK\\t12\\t300</th>\n",
       "    </tr>\n",
       "  </thead>\n",
       "  <tbody>\n",
       "    <tr>\n",
       "      <th>0</th>\n",
       "      <td>1\\tVirat\\tRCB\\t12\\t350</td>\n",
       "    </tr>\n",
       "    <tr>\n",
       "      <th>1</th>\n",
       "      <td>2\\tFaf Du plesis\\tRCB\\t12\\t625</td>\n",
       "    </tr>\n",
       "    <tr>\n",
       "      <th>2</th>\n",
       "      <td>3\\tSurya\\tMI\\t12\\t575</td>\n",
       "    </tr>\n",
       "    <tr>\n",
       "      <th>3</th>\n",
       "      <td>4\\tYashashwi\\tRR\\t12\\t600</td>\n",
       "    </tr>\n",
       "    <tr>\n",
       "      <th>4</th>\n",
       "      <td>5\\tSanju Samson\\tRR\\t12\\t425</td>\n",
       "    </tr>\n",
       "    <tr>\n",
       "      <th>5</th>\n",
       "      <td>6\\tShubman Gill\\tGT\\t12\\t610</td>\n",
       "    </tr>\n",
       "  </tbody>\n",
       "</table>\n",
       "</div>"
      ],
      "text/plain": [
       "        0\\tMS Dhoni\\tCSK\\t12\\t300\n",
       "0          1\\tVirat\\tRCB\\t12\\t350\n",
       "1  2\\tFaf Du plesis\\tRCB\\t12\\t625\n",
       "2           3\\tSurya\\tMI\\t12\\t575\n",
       "3       4\\tYashashwi\\tRR\\t12\\t600\n",
       "4    5\\tSanju Samson\\tRR\\t12\\t425\n",
       "5    6\\tShubman Gill\\tGT\\t12\\t610"
      ]
     },
     "execution_count": 77,
     "metadata": {},
     "output_type": "execute_result"
    }
   ],
   "source": [
    "df3 = pd.read_csv('players.tsv')\n",
    "df3"
   ]
  },
  {
   "cell_type": "code",
   "execution_count": 90,
   "id": "765136b1",
   "metadata": {},
   "outputs": [
    {
     "data": {
      "text/html": [
       "<div>\n",
       "<style scoped>\n",
       "    .dataframe tbody tr th:only-of-type {\n",
       "        vertical-align: middle;\n",
       "    }\n",
       "\n",
       "    .dataframe tbody tr th {\n",
       "        vertical-align: top;\n",
       "    }\n",
       "\n",
       "    .dataframe thead th {\n",
       "        text-align: right;\n",
       "    }\n",
       "</style>\n",
       "<table border=\"1\" class=\"dataframe\">\n",
       "  <thead>\n",
       "    <tr style=\"text-align: right;\">\n",
       "      <th></th>\n",
       "      <th>Player</th>\n",
       "      <th>Team</th>\n",
       "      <th>Matches</th>\n",
       "      <th>Runs</th>\n",
       "    </tr>\n",
       "  </thead>\n",
       "  <tbody>\n",
       "    <tr>\n",
       "      <th>0</th>\n",
       "      <td>MS Dhoni</td>\n",
       "      <td>CSK</td>\n",
       "      <td>12</td>\n",
       "      <td>300</td>\n",
       "    </tr>\n",
       "    <tr>\n",
       "      <th>1</th>\n",
       "      <td>Virat</td>\n",
       "      <td>RCB</td>\n",
       "      <td>12</td>\n",
       "      <td>350</td>\n",
       "    </tr>\n",
       "    <tr>\n",
       "      <th>2</th>\n",
       "      <td>Faf Du plesis</td>\n",
       "      <td>RCB</td>\n",
       "      <td>12</td>\n",
       "      <td>625</td>\n",
       "    </tr>\n",
       "    <tr>\n",
       "      <th>3</th>\n",
       "      <td>Surya</td>\n",
       "      <td>MI</td>\n",
       "      <td>12</td>\n",
       "      <td>575</td>\n",
       "    </tr>\n",
       "    <tr>\n",
       "      <th>4</th>\n",
       "      <td>Yashashwi</td>\n",
       "      <td>RR</td>\n",
       "      <td>12</td>\n",
       "      <td>600</td>\n",
       "    </tr>\n",
       "    <tr>\n",
       "      <th>5</th>\n",
       "      <td>Sanju Samson</td>\n",
       "      <td>RR</td>\n",
       "      <td>12</td>\n",
       "      <td>425</td>\n",
       "    </tr>\n",
       "    <tr>\n",
       "      <th>6</th>\n",
       "      <td>Shubman Gill</td>\n",
       "      <td>GT</td>\n",
       "      <td>12</td>\n",
       "      <td>610</td>\n",
       "    </tr>\n",
       "  </tbody>\n",
       "</table>\n",
       "</div>"
      ],
      "text/plain": [
       "          Player Team  Matches  Runs\n",
       "0       MS Dhoni  CSK       12   300\n",
       "1          Virat  RCB       12   350\n",
       "2  Faf Du plesis  RCB       12   625\n",
       "3          Surya   MI       12   575\n",
       "4      Yashashwi   RR       12   600\n",
       "5   Sanju Samson   RR       12   425\n",
       "6   Shubman Gill   GT       12   610"
      ]
     },
     "execution_count": 90,
     "metadata": {},
     "output_type": "execute_result"
    }
   ],
   "source": [
    "df3 = pd.read_csv('players.csv',sep='\\t', header=None, names=['Player','Team','Matches','Runs'] )\n",
    "df3"
   ]
  },
  {
   "cell_type": "code",
   "execution_count": 93,
   "id": "1f07a272",
   "metadata": {},
   "outputs": [
    {
     "data": {
      "text/html": [
       "<div>\n",
       "<style scoped>\n",
       "    .dataframe tbody tr th:only-of-type {\n",
       "        vertical-align: middle;\n",
       "    }\n",
       "\n",
       "    .dataframe tbody tr th {\n",
       "        vertical-align: top;\n",
       "    }\n",
       "\n",
       "    .dataframe thead th {\n",
       "        text-align: right;\n",
       "    }\n",
       "</style>\n",
       "<table border=\"1\" class=\"dataframe\">\n",
       "  <thead>\n",
       "    <tr style=\"text-align: right;\">\n",
       "      <th></th>\n",
       "      <th>Player</th>\n",
       "      <th>Team</th>\n",
       "      <th>Matches</th>\n",
       "      <th>Runs</th>\n",
       "      <th>Age</th>\n",
       "    </tr>\n",
       "  </thead>\n",
       "  <tbody>\n",
       "    <tr>\n",
       "      <th>0</th>\n",
       "      <td>MS Dhoni</td>\n",
       "      <td>CSK</td>\n",
       "      <td>12</td>\n",
       "      <td>300</td>\n",
       "      <td>NaN</td>\n",
       "    </tr>\n",
       "    <tr>\n",
       "      <th>1</th>\n",
       "      <td>Virat</td>\n",
       "      <td>RCB</td>\n",
       "      <td>12</td>\n",
       "      <td>350</td>\n",
       "      <td>NaN</td>\n",
       "    </tr>\n",
       "    <tr>\n",
       "      <th>2</th>\n",
       "      <td>Faf Du plesis</td>\n",
       "      <td>RCB</td>\n",
       "      <td>12</td>\n",
       "      <td>625</td>\n",
       "      <td>NaN</td>\n",
       "    </tr>\n",
       "    <tr>\n",
       "      <th>3</th>\n",
       "      <td>Surya</td>\n",
       "      <td>MI</td>\n",
       "      <td>12</td>\n",
       "      <td>575</td>\n",
       "      <td>NaN</td>\n",
       "    </tr>\n",
       "    <tr>\n",
       "      <th>4</th>\n",
       "      <td>Yashashwi</td>\n",
       "      <td>RR</td>\n",
       "      <td>12</td>\n",
       "      <td>600</td>\n",
       "      <td>NaN</td>\n",
       "    </tr>\n",
       "    <tr>\n",
       "      <th>5</th>\n",
       "      <td>Sanju Samson</td>\n",
       "      <td>RR</td>\n",
       "      <td>12</td>\n",
       "      <td>425</td>\n",
       "      <td>NaN</td>\n",
       "    </tr>\n",
       "    <tr>\n",
       "      <th>6</th>\n",
       "      <td>Shubman Gill</td>\n",
       "      <td>GT</td>\n",
       "      <td>12</td>\n",
       "      <td>610</td>\n",
       "      <td>NaN</td>\n",
       "    </tr>\n",
       "  </tbody>\n",
       "</table>\n",
       "</div>"
      ],
      "text/plain": [
       "          Player Team  Matches  Runs  Age\n",
       "0       MS Dhoni  CSK       12   300  NaN\n",
       "1          Virat  RCB       12   350  NaN\n",
       "2  Faf Du plesis  RCB       12   625  NaN\n",
       "3          Surya   MI       12   575  NaN\n",
       "4      Yashashwi   RR       12   600  NaN\n",
       "5   Sanju Samson   RR       12   425  NaN\n",
       "6   Shubman Gill   GT       12   610  NaN"
      ]
     },
     "execution_count": 93,
     "metadata": {},
     "output_type": "execute_result"
    }
   ],
   "source": [
    "df4 = pd.read_csv('players.csv',sep='\\t', header=None, names=['Player','Team','Matches','Runs','Age'] )\n",
    "df4"
   ]
  },
  {
   "cell_type": "code",
   "execution_count": 97,
   "id": "a0ff0ac8",
   "metadata": {},
   "outputs": [
    {
     "data": {
      "text/html": [
       "<div>\n",
       "<style scoped>\n",
       "    .dataframe tbody tr th:only-of-type {\n",
       "        vertical-align: middle;\n",
       "    }\n",
       "\n",
       "    .dataframe tbody tr th {\n",
       "        vertical-align: top;\n",
       "    }\n",
       "\n",
       "    .dataframe thead th {\n",
       "        text-align: right;\n",
       "    }\n",
       "</style>\n",
       "<table border=\"1\" class=\"dataframe\">\n",
       "  <thead>\n",
       "    <tr style=\"text-align: right;\">\n",
       "      <th></th>\n",
       "      <th>Player</th>\n",
       "      <th>Team</th>\n",
       "      <th>Matches</th>\n",
       "      <th>Runs</th>\n",
       "    </tr>\n",
       "  </thead>\n",
       "  <tbody>\n",
       "    <tr>\n",
       "      <th>0</th>\n",
       "      <td>MS Dhoni</td>\n",
       "      <td>CSK</td>\n",
       "      <td>12</td>\n",
       "      <td>300</td>\n",
       "    </tr>\n",
       "    <tr>\n",
       "      <th>1</th>\n",
       "      <td>Virat</td>\n",
       "      <td>RCB</td>\n",
       "      <td>12</td>\n",
       "      <td>350</td>\n",
       "    </tr>\n",
       "    <tr>\n",
       "      <th>2</th>\n",
       "      <td>Faf Du plesis</td>\n",
       "      <td>RCB</td>\n",
       "      <td>12</td>\n",
       "      <td>625</td>\n",
       "    </tr>\n",
       "    <tr>\n",
       "      <th>3</th>\n",
       "      <td>Surya</td>\n",
       "      <td>MI</td>\n",
       "      <td>12</td>\n",
       "      <td>575</td>\n",
       "    </tr>\n",
       "    <tr>\n",
       "      <th>4</th>\n",
       "      <td>Yashashwi</td>\n",
       "      <td>RR</td>\n",
       "      <td>12</td>\n",
       "      <td>600</td>\n",
       "    </tr>\n",
       "    <tr>\n",
       "      <th>5</th>\n",
       "      <td>Sanju Samson</td>\n",
       "      <td>RR</td>\n",
       "      <td>12</td>\n",
       "      <td>425</td>\n",
       "    </tr>\n",
       "    <tr>\n",
       "      <th>6</th>\n",
       "      <td>Shubman Gill</td>\n",
       "      <td>GT</td>\n",
       "      <td>12</td>\n",
       "      <td>610</td>\n",
       "    </tr>\n",
       "  </tbody>\n",
       "</table>\n",
       "</div>"
      ],
      "text/plain": [
       "          Player Team  Matches  Runs\n",
       "0       MS Dhoni  CSK       12   300\n",
       "1          Virat  RCB       12   350\n",
       "2  Faf Du plesis  RCB       12   625\n",
       "3          Surya   MI       12   575\n",
       "4      Yashashwi   RR       12   600\n",
       "5   Sanju Samson   RR       12   425\n",
       "6   Shubman Gill   GT       12   610"
      ]
     },
     "execution_count": 97,
     "metadata": {},
     "output_type": "execute_result"
    }
   ],
   "source": [
    "df5 = pd.read_csv('players.csv',sep='\\t', header=None, names=['Player','Team','Matches','Runs'] )\n",
    "df5"
   ]
  },
  {
   "cell_type": "code",
   "execution_count": 101,
   "id": "bf5a2ed5",
   "metadata": {},
   "outputs": [
    {
     "ename": "TypeError",
     "evalue": "read_csv() got an unexpected keyword argument 'sheet_name'",
     "output_type": "error",
     "traceback": [
      "\u001b[1;31m---------------------------------------------------------------------------\u001b[0m",
      "\u001b[1;31mTypeError\u001b[0m                                 Traceback (most recent call last)",
      "\u001b[1;32m~\\AppData\\Local\\Temp/ipykernel_29776/605678693.py\u001b[0m in \u001b[0;36m<module>\u001b[1;34m\u001b[0m\n\u001b[1;32m----> 1\u001b[1;33m \u001b[0mdf6\u001b[0m \u001b[1;33m=\u001b[0m \u001b[0mpd\u001b[0m\u001b[1;33m.\u001b[0m\u001b[0mread_csv\u001b[0m\u001b[1;33m(\u001b[0m\u001b[1;34m'players.csv'\u001b[0m\u001b[1;33m,\u001b[0m\u001b[0msep\u001b[0m\u001b[1;33m=\u001b[0m\u001b[1;34m'\\t'\u001b[0m\u001b[1;33m,\u001b[0m \u001b[0mheader\u001b[0m\u001b[1;33m=\u001b[0m\u001b[1;32mNone\u001b[0m\u001b[1;33m,\u001b[0m \u001b[0mnames\u001b[0m\u001b[1;33m=\u001b[0m\u001b[1;33m[\u001b[0m\u001b[1;34m'Player'\u001b[0m\u001b[1;33m,\u001b[0m\u001b[1;34m'Team'\u001b[0m\u001b[1;33m,\u001b[0m\u001b[1;34m'Matches'\u001b[0m\u001b[1;33m,\u001b[0m\u001b[1;34m'Runs'\u001b[0m\u001b[1;33m]\u001b[0m\u001b[1;33m,\u001b[0m\u001b[0mna_values\u001b[0m\u001b[1;33m=\u001b[0m\u001b[1;33m[\u001b[0m\u001b[1;34m'RCB'\u001b[0m\u001b[1;33m]\u001b[0m\u001b[1;33m,\u001b[0m \u001b[0msheet_name\u001b[0m\u001b[1;33m=\u001b[0m\u001b[1;34m''\u001b[0m\u001b[1;33m)\u001b[0m\u001b[1;33m\u001b[0m\u001b[1;33m\u001b[0m\u001b[0m\n\u001b[0m",
      "\u001b[1;32m~\\Anaconda3\\lib\\site-packages\\pandas\\util\\_decorators.py\u001b[0m in \u001b[0;36mwrapper\u001b[1;34m(*args, **kwargs)\u001b[0m\n\u001b[0;32m    209\u001b[0m                 \u001b[1;32melse\u001b[0m\u001b[1;33m:\u001b[0m\u001b[1;33m\u001b[0m\u001b[1;33m\u001b[0m\u001b[0m\n\u001b[0;32m    210\u001b[0m                     \u001b[0mkwargs\u001b[0m\u001b[1;33m[\u001b[0m\u001b[0mnew_arg_name\u001b[0m\u001b[1;33m]\u001b[0m \u001b[1;33m=\u001b[0m \u001b[0mnew_arg_value\u001b[0m\u001b[1;33m\u001b[0m\u001b[1;33m\u001b[0m\u001b[0m\n\u001b[1;32m--> 211\u001b[1;33m             \u001b[1;32mreturn\u001b[0m \u001b[0mfunc\u001b[0m\u001b[1;33m(\u001b[0m\u001b[1;33m*\u001b[0m\u001b[0margs\u001b[0m\u001b[1;33m,\u001b[0m \u001b[1;33m**\u001b[0m\u001b[0mkwargs\u001b[0m\u001b[1;33m)\u001b[0m\u001b[1;33m\u001b[0m\u001b[1;33m\u001b[0m\u001b[0m\n\u001b[0m\u001b[0;32m    212\u001b[0m \u001b[1;33m\u001b[0m\u001b[0m\n\u001b[0;32m    213\u001b[0m         \u001b[1;32mreturn\u001b[0m \u001b[0mcast\u001b[0m\u001b[1;33m(\u001b[0m\u001b[0mF\u001b[0m\u001b[1;33m,\u001b[0m \u001b[0mwrapper\u001b[0m\u001b[1;33m)\u001b[0m\u001b[1;33m\u001b[0m\u001b[1;33m\u001b[0m\u001b[0m\n",
      "\u001b[1;32m~\\Anaconda3\\lib\\site-packages\\pandas\\util\\_decorators.py\u001b[0m in \u001b[0;36mwrapper\u001b[1;34m(*args, **kwargs)\u001b[0m\n\u001b[0;32m    329\u001b[0m                     \u001b[0mstacklevel\u001b[0m\u001b[1;33m=\u001b[0m\u001b[0mfind_stack_level\u001b[0m\u001b[1;33m(\u001b[0m\u001b[1;33m)\u001b[0m\u001b[1;33m,\u001b[0m\u001b[1;33m\u001b[0m\u001b[1;33m\u001b[0m\u001b[0m\n\u001b[0;32m    330\u001b[0m                 )\n\u001b[1;32m--> 331\u001b[1;33m             \u001b[1;32mreturn\u001b[0m \u001b[0mfunc\u001b[0m\u001b[1;33m(\u001b[0m\u001b[1;33m*\u001b[0m\u001b[0margs\u001b[0m\u001b[1;33m,\u001b[0m \u001b[1;33m**\u001b[0m\u001b[0mkwargs\u001b[0m\u001b[1;33m)\u001b[0m\u001b[1;33m\u001b[0m\u001b[1;33m\u001b[0m\u001b[0m\n\u001b[0m\u001b[0;32m    332\u001b[0m \u001b[1;33m\u001b[0m\u001b[0m\n\u001b[0;32m    333\u001b[0m         \u001b[1;31m# error: \"Callable[[VarArg(Any), KwArg(Any)], Any]\" has no\u001b[0m\u001b[1;33m\u001b[0m\u001b[1;33m\u001b[0m\u001b[0m\n",
      "\u001b[1;31mTypeError\u001b[0m: read_csv() got an unexpected keyword argument 'sheet_name'"
     ]
    }
   ],
   "source": [
    "df6 = pd.read_csv('players.csv',sep='\\t', header=None, names=['Player','Team','Matches','Runs'],na_values=['RCB'])"
   ]
  },
  {
   "cell_type": "code",
   "execution_count": 99,
   "id": "d9500a40",
   "metadata": {},
   "outputs": [
    {
     "data": {
      "text/html": [
       "<div>\n",
       "<style scoped>\n",
       "    .dataframe tbody tr th:only-of-type {\n",
       "        vertical-align: middle;\n",
       "    }\n",
       "\n",
       "    .dataframe tbody tr th {\n",
       "        vertical-align: top;\n",
       "    }\n",
       "\n",
       "    .dataframe thead th {\n",
       "        text-align: right;\n",
       "    }\n",
       "</style>\n",
       "<table border=\"1\" class=\"dataframe\">\n",
       "  <thead>\n",
       "    <tr style=\"text-align: right;\">\n",
       "      <th></th>\n",
       "      <th>Player</th>\n",
       "      <th>Team</th>\n",
       "      <th>Matches</th>\n",
       "      <th>Runs</th>\n",
       "    </tr>\n",
       "  </thead>\n",
       "  <tbody>\n",
       "    <tr>\n",
       "      <th>0</th>\n",
       "      <td>MS Dhoni</td>\n",
       "      <td>CSK</td>\n",
       "      <td>12</td>\n",
       "      <td>300</td>\n",
       "    </tr>\n",
       "    <tr>\n",
       "      <th>1</th>\n",
       "      <td>Virat</td>\n",
       "      <td>NaN</td>\n",
       "      <td>12</td>\n",
       "      <td>350</td>\n",
       "    </tr>\n",
       "    <tr>\n",
       "      <th>2</th>\n",
       "      <td>Faf Du plesis</td>\n",
       "      <td>NaN</td>\n",
       "      <td>12</td>\n",
       "      <td>625</td>\n",
       "    </tr>\n",
       "    <tr>\n",
       "      <th>3</th>\n",
       "      <td>Surya</td>\n",
       "      <td>MI</td>\n",
       "      <td>12</td>\n",
       "      <td>575</td>\n",
       "    </tr>\n",
       "    <tr>\n",
       "      <th>4</th>\n",
       "      <td>Yashashwi</td>\n",
       "      <td>RR</td>\n",
       "      <td>12</td>\n",
       "      <td>600</td>\n",
       "    </tr>\n",
       "    <tr>\n",
       "      <th>5</th>\n",
       "      <td>Sanju Samson</td>\n",
       "      <td>RR</td>\n",
       "      <td>12</td>\n",
       "      <td>425</td>\n",
       "    </tr>\n",
       "    <tr>\n",
       "      <th>6</th>\n",
       "      <td>Shubman Gill</td>\n",
       "      <td>GT</td>\n",
       "      <td>12</td>\n",
       "      <td>610</td>\n",
       "    </tr>\n",
       "  </tbody>\n",
       "</table>\n",
       "</div>"
      ],
      "text/plain": [
       "          Player Team  Matches  Runs\n",
       "0       MS Dhoni  CSK       12   300\n",
       "1          Virat  NaN       12   350\n",
       "2  Faf Du plesis  NaN       12   625\n",
       "3          Surya   MI       12   575\n",
       "4      Yashashwi   RR       12   600\n",
       "5   Sanju Samson   RR       12   425\n",
       "6   Shubman Gill   GT       12   610"
      ]
     },
     "execution_count": 99,
     "metadata": {},
     "output_type": "execute_result"
    }
   ],
   "source": [
    "df6"
   ]
  },
  {
   "cell_type": "code",
   "execution_count": 100,
   "id": "1187e0b3",
   "metadata": {},
   "outputs": [
    {
     "data": {
      "text/plain": [
       "'C:\\\\Data Science_Final\\\\Matplotlib'"
      ]
     },
     "execution_count": 100,
     "metadata": {},
     "output_type": "execute_result"
    }
   ],
   "source": [
    "pwd()"
   ]
  },
  {
   "cell_type": "code",
   "execution_count": 102,
   "id": "cc802baf",
   "metadata": {},
   "outputs": [
    {
     "data": {
      "text/html": [
       "<div>\n",
       "<style scoped>\n",
       "    .dataframe tbody tr th:only-of-type {\n",
       "        vertical-align: middle;\n",
       "    }\n",
       "\n",
       "    .dataframe tbody tr th {\n",
       "        vertical-align: top;\n",
       "    }\n",
       "\n",
       "    .dataframe thead th {\n",
       "        text-align: right;\n",
       "    }\n",
       "</style>\n",
       "<table border=\"1\" class=\"dataframe\">\n",
       "  <thead>\n",
       "    <tr style=\"text-align: right;\">\n",
       "      <th></th>\n",
       "      <th>Player_Name</th>\n",
       "      <th>IPL_Team</th>\n",
       "      <th>Matches_Played</th>\n",
       "      <th>Runs_Scored</th>\n",
       "    </tr>\n",
       "  </thead>\n",
       "  <tbody>\n",
       "    <tr>\n",
       "      <th>0</th>\n",
       "      <td>MS Dhoni</td>\n",
       "      <td>CSK</td>\n",
       "      <td>12</td>\n",
       "      <td>300</td>\n",
       "    </tr>\n",
       "    <tr>\n",
       "      <th>1</th>\n",
       "      <td>Virat</td>\n",
       "      <td>RCB</td>\n",
       "      <td>12</td>\n",
       "      <td>350</td>\n",
       "    </tr>\n",
       "    <tr>\n",
       "      <th>2</th>\n",
       "      <td>Faf Du plesis</td>\n",
       "      <td>RCB</td>\n",
       "      <td>12</td>\n",
       "      <td>625</td>\n",
       "    </tr>\n",
       "    <tr>\n",
       "      <th>3</th>\n",
       "      <td>Surya</td>\n",
       "      <td>MI</td>\n",
       "      <td>12</td>\n",
       "      <td>575</td>\n",
       "    </tr>\n",
       "    <tr>\n",
       "      <th>4</th>\n",
       "      <td>Yashashwi</td>\n",
       "      <td>RR</td>\n",
       "      <td>12</td>\n",
       "      <td>600</td>\n",
       "    </tr>\n",
       "    <tr>\n",
       "      <th>5</th>\n",
       "      <td>Sanju Samson</td>\n",
       "      <td>RR</td>\n",
       "      <td>12</td>\n",
       "      <td>425</td>\n",
       "    </tr>\n",
       "    <tr>\n",
       "      <th>6</th>\n",
       "      <td>Shubman Gill</td>\n",
       "      <td>GT</td>\n",
       "      <td>12</td>\n",
       "      <td>610</td>\n",
       "    </tr>\n",
       "  </tbody>\n",
       "</table>\n",
       "</div>"
      ],
      "text/plain": [
       "     Player_Name IPL_Team  Matches_Played  Runs_Scored\n",
       "0       MS Dhoni      CSK              12          300\n",
       "1          Virat      RCB              12          350\n",
       "2  Faf Du plesis      RCB              12          625\n",
       "3          Surya       MI              12          575\n",
       "4      Yashashwi       RR              12          600\n",
       "5   Sanju Samson       RR              12          425\n",
       "6   Shubman Gill       GT              12          610"
      ]
     },
     "execution_count": 102,
     "metadata": {},
     "output_type": "execute_result"
    }
   ],
   "source": [
    "df"
   ]
  },
  {
   "cell_type": "code",
   "execution_count": 108,
   "id": "66bc5e33",
   "metadata": {},
   "outputs": [
    {
     "data": {
      "text/plain": [
       "0    CSK\n",
       "1    RCB\n",
       "2    RCB\n",
       "3     MI\n",
       "4     RR\n",
       "5     RR\n",
       "6     GT\n",
       "Name: IPL_Team, dtype: object"
      ]
     },
     "execution_count": 108,
     "metadata": {},
     "output_type": "execute_result"
    }
   ],
   "source": [
    "df['IPL_Team']"
   ]
  },
  {
   "cell_type": "code",
   "execution_count": 122,
   "id": "2a810752",
   "metadata": {},
   "outputs": [
    {
     "data": {
      "text/html": [
       "<div>\n",
       "<style scoped>\n",
       "    .dataframe tbody tr th:only-of-type {\n",
       "        vertical-align: middle;\n",
       "    }\n",
       "\n",
       "    .dataframe tbody tr th {\n",
       "        vertical-align: top;\n",
       "    }\n",
       "\n",
       "    .dataframe thead th {\n",
       "        text-align: right;\n",
       "    }\n",
       "</style>\n",
       "<table border=\"1\" class=\"dataframe\">\n",
       "  <thead>\n",
       "    <tr style=\"text-align: right;\">\n",
       "      <th></th>\n",
       "      <th>Player_Name</th>\n",
       "      <th>Runs_Scored</th>\n",
       "    </tr>\n",
       "  </thead>\n",
       "  <tbody>\n",
       "    <tr>\n",
       "      <th>2</th>\n",
       "      <td>Faf Du plesis</td>\n",
       "      <td>625</td>\n",
       "    </tr>\n",
       "    <tr>\n",
       "      <th>5</th>\n",
       "      <td>Sanju Samson</td>\n",
       "      <td>425</td>\n",
       "    </tr>\n",
       "  </tbody>\n",
       "</table>\n",
       "</div>"
      ],
      "text/plain": [
       "     Player_Name  Runs_Scored\n",
       "2  Faf Du plesis          625\n",
       "5   Sanju Samson          425"
      ]
     },
     "execution_count": 122,
     "metadata": {},
     "output_type": "execute_result"
    }
   ],
   "source": [
    "df.loc[[2,5],['Player_Name','Runs_Scored']]"
   ]
  },
  {
   "cell_type": "code",
   "execution_count": 111,
   "id": "2b95c536",
   "metadata": {},
   "outputs": [
    {
     "data": {
      "text/plain": [
       "pandas.core.series.Series"
      ]
     },
     "execution_count": 111,
     "metadata": {},
     "output_type": "execute_result"
    }
   ],
   "source": [
    "type(df.loc[2])"
   ]
  },
  {
   "cell_type": "code",
   "execution_count": 116,
   "id": "c1ab34b9",
   "metadata": {},
   "outputs": [
    {
     "data": {
      "text/plain": [
       "2    Faf Du plesis\n",
       "3            Surya\n",
       "4        Yashashwi\n",
       "5     Sanju Samson\n",
       "Name: Player_Name, dtype: object"
      ]
     },
     "execution_count": 116,
     "metadata": {},
     "output_type": "execute_result"
    }
   ],
   "source": [
    "df.loc[2:5,'Player_Name']"
   ]
  },
  {
   "cell_type": "code",
   "execution_count": 119,
   "id": "0d6e1f56",
   "metadata": {},
   "outputs": [
    {
     "data": {
      "text/plain": [
       "Matches_Played     12\n",
       "Runs_Scored       625\n",
       "Name: 2, dtype: object"
      ]
     },
     "execution_count": 119,
     "metadata": {},
     "output_type": "execute_result"
    }
   ],
   "source": [
    "df.iloc[2, 2:]"
   ]
  },
  {
   "cell_type": "code",
   "execution_count": 120,
   "id": "1dd0a4e5",
   "metadata": {},
   "outputs": [
    {
     "data": {
      "text/plain": [
       "Player_Name    Shubman Gill\n",
       "Runs_Scored             610\n",
       "Name: 6, dtype: object"
      ]
     },
     "execution_count": 120,
     "metadata": {},
     "output_type": "execute_result"
    }
   ],
   "source": [
    "df.iloc[6,[0,3]]"
   ]
  },
  {
   "cell_type": "code",
   "execution_count": 134,
   "id": "5d72ac1e",
   "metadata": {},
   "outputs": [
    {
     "data": {
      "text/html": [
       "<div>\n",
       "<style scoped>\n",
       "    .dataframe tbody tr th:only-of-type {\n",
       "        vertical-align: middle;\n",
       "    }\n",
       "\n",
       "    .dataframe tbody tr th {\n",
       "        vertical-align: top;\n",
       "    }\n",
       "\n",
       "    .dataframe thead th {\n",
       "        text-align: right;\n",
       "    }\n",
       "</style>\n",
       "<table border=\"1\" class=\"dataframe\">\n",
       "  <thead>\n",
       "    <tr style=\"text-align: right;\">\n",
       "      <th></th>\n",
       "      <th>0</th>\n",
       "      <th>1</th>\n",
       "      <th>2</th>\n",
       "      <th>3</th>\n",
       "    </tr>\n",
       "  </thead>\n",
       "  <tbody>\n",
       "    <tr>\n",
       "      <th>0</th>\n",
       "      <td>MS Dhoni</td>\n",
       "      <td>CSK</td>\n",
       "      <td>12</td>\n",
       "      <td>300</td>\n",
       "    </tr>\n",
       "    <tr>\n",
       "      <th>1</th>\n",
       "      <td>Virat</td>\n",
       "      <td>RCB</td>\n",
       "      <td>12</td>\n",
       "      <td>350</td>\n",
       "    </tr>\n",
       "  </tbody>\n",
       "</table>\n",
       "</div>"
      ],
      "text/plain": [
       "          0    1   2    3\n",
       "0  MS Dhoni  CSK  12  300\n",
       "1     Virat  RCB  12  350"
      ]
     },
     "execution_count": 134,
     "metadata": {},
     "output_type": "execute_result"
    }
   ],
   "source": [
    "df7 = pd.read_csv('players.csv', sep='\\t',header=None, nrows=2)\n",
    "df7"
   ]
  },
  {
   "cell_type": "code",
   "execution_count": 138,
   "id": "2c80f88d",
   "metadata": {},
   "outputs": [
    {
     "name": "stderr",
     "output_type": "stream",
     "text": [
      "C:\\Users\\lenovo\\AppData\\Local\\Temp/ipykernel_29776/2393183384.py:1: UserWarning: Parsing dates in DD/MM/YYYY format when dayfirst=False (the default) was specified. This may lead to inconsistently parsed dates! Specify a format to ensure consistent parsing.\n",
      "  df8=pd.date_range('17-05-2023',periods=7,freq='M')\n"
     ]
    }
   ],
   "source": [
    "df8=pd.date_range('17-05-2023',periods=7,freq='M')"
   ]
  },
  {
   "cell_type": "code",
   "execution_count": 139,
   "id": "e29a20c2",
   "metadata": {},
   "outputs": [
    {
     "data": {
      "text/plain": [
       "pandas.core.indexes.datetimes.DatetimeIndex"
      ]
     },
     "execution_count": 139,
     "metadata": {},
     "output_type": "execute_result"
    }
   ],
   "source": [
    "type(df8)"
   ]
  },
  {
   "cell_type": "code",
   "execution_count": 141,
   "id": "603b871a",
   "metadata": {},
   "outputs": [
    {
     "data": {
      "text/plain": [
       "array([0, 1, 2, 3, 4, 5, 6])"
      ]
     },
     "execution_count": 141,
     "metadata": {},
     "output_type": "execute_result"
    }
   ],
   "source": [
    "import numpy as np\n",
    "np.arange(7)"
   ]
  },
  {
   "cell_type": "code",
   "execution_count": 142,
   "id": "2c80e6f1",
   "metadata": {},
   "outputs": [
    {
     "data": {
      "text/plain": [
       "array([0., 1., 2., 3., 4., 5., 6.])"
      ]
     },
     "execution_count": 142,
     "metadata": {},
     "output_type": "execute_result"
    }
   ],
   "source": [
    "np.arange(7.0)"
   ]
  },
  {
   "cell_type": "code",
   "execution_count": 145,
   "id": "cd8a0583",
   "metadata": {},
   "outputs": [
    {
     "name": "stdout",
     "output_type": "stream",
     "text": [
      "0\n",
      "1\n",
      "2\n",
      "3\n",
      "4\n",
      "5\n",
      "6\n"
     ]
    }
   ],
   "source": [
    "for i in range(7):\n",
    "    print(i)"
   ]
  },
  {
   "cell_type": "code",
   "execution_count": 146,
   "id": "5d30840f",
   "metadata": {},
   "outputs": [
    {
     "name": "stdout",
     "output_type": "stream",
     "text": [
      "0\n",
      "1\n",
      "2\n",
      "3\n",
      "4\n",
      "5\n",
      "6\n"
     ]
    }
   ],
   "source": [
    "for i in np.arange(7):\n",
    "    print(i)"
   ]
  },
  {
   "cell_type": "code",
   "execution_count": 148,
   "id": "52a3b342",
   "metadata": {},
   "outputs": [
    {
     "data": {
      "text/plain": [
       "0    0\n",
       "1    1\n",
       "2    2\n",
       "3    3\n",
       "4    4\n",
       "dtype: int64"
      ]
     },
     "execution_count": 148,
     "metadata": {},
     "output_type": "execute_result"
    }
   ],
   "source": [
    "pd.Series(range(5))"
   ]
  },
  {
   "cell_type": "code",
   "execution_count": 152,
   "id": "61d1ed3e",
   "metadata": {},
   "outputs": [
    {
     "data": {
      "text/plain": [
       "0    5\n",
       "1    6\n",
       "2    7\n",
       "3    8\n",
       "4    9\n",
       "dtype: int32"
      ]
     },
     "execution_count": 152,
     "metadata": {},
     "output_type": "execute_result"
    }
   ],
   "source": [
    "pd.Series(np.arange(5,10))"
   ]
  },
  {
   "cell_type": "code",
   "execution_count": 157,
   "id": "9c118952",
   "metadata": {},
   "outputs": [],
   "source": [
    "index=['1st','2nd','3rd','4th','5th','Sumit']\n"
   ]
  },
  {
   "cell_type": "code",
   "execution_count": 158,
   "id": "d77ec55a",
   "metadata": {},
   "outputs": [
    {
     "data": {
      "text/plain": [
       "1st      0\n",
       "2nd      1\n",
       "3rd      2\n",
       "4th      3\n",
       "5th      4\n",
       "Sumit    5\n",
       "dtype: int32"
      ]
     },
     "execution_count": 158,
     "metadata": {},
     "output_type": "execute_result"
    }
   ],
   "source": [
    "pd.Series(np.arange(6), index=index)"
   ]
  },
  {
   "cell_type": "code",
   "execution_count": 162,
   "id": "c6cdae4f",
   "metadata": {},
   "outputs": [
    {
     "name": "stdout",
     "output_type": "stream",
     "text": [
      "['MS Dhoni\\tCSK\\t12\\t300']\n",
      "['Virat\\tRCB\\t12\\t350']\n",
      "['Faf Du plesis\\tRCB\\t12\\t625']\n",
      "['Surya\\tMI\\t12\\t575']\n",
      "['Yashashwi\\tRR\\t12\\t600']\n",
      "['Sanju Samson\\tRR\\t12\\t425']\n",
      "['Shubman Gill\\tGT\\t12\\t610']\n"
     ]
    }
   ],
   "source": [
    "import csv\n",
    "\n",
    "with open('players.csv') as f:\n",
    "    lines = csv.reader(f)\n",
    "    for i in lines:\n",
    "        print(i)"
   ]
  },
  {
   "cell_type": "code",
   "execution_count": 167,
   "id": "2e567c9b",
   "metadata": {},
   "outputs": [
    {
     "name": "stdout",
     "output_type": "stream",
     "text": [
      "(1, 3)\n",
      "(2, 4)\n"
     ]
    }
   ],
   "source": [
    "a=[1,2]\n",
    "b=[3,4]\n",
    "\n",
    "c=zip(a,b)\n",
    "for i in c:\n",
    "    print(i)"
   ]
  },
  {
   "cell_type": "code",
   "execution_count": 166,
   "id": "2e695eb5",
   "metadata": {},
   "outputs": [
    {
     "data": {
      "text/plain": [
       "[(1, 3), (2, 4)]"
      ]
     },
     "execution_count": 166,
     "metadata": {},
     "output_type": "execute_result"
    }
   ],
   "source": [
    "list(c)"
   ]
  },
  {
   "cell_type": "code",
   "execution_count": 168,
   "id": "cb1e1eeb",
   "metadata": {},
   "outputs": [],
   "source": [
    "lines = [[a, b, c], [1, 2, 3], [4, 5, 6]]"
   ]
  },
  {
   "cell_type": "code",
   "execution_count": 169,
   "id": "8745484a",
   "metadata": {},
   "outputs": [
    {
     "data": {
      "text/plain": [
       "[(1, 4), (2, 5), (3, 6)]"
      ]
     },
     "execution_count": 169,
     "metadata": {},
     "output_type": "execute_result"
    }
   ],
   "source": [
    "list(zip(lines[1],lines[2]))"
   ]
  },
  {
   "cell_type": "code",
   "execution_count": 170,
   "id": "cddfc2d0",
   "metadata": {},
   "outputs": [],
   "source": [
    "k, v = lines[0], lines[1:]"
   ]
  },
  {
   "cell_type": "code",
   "execution_count": 171,
   "id": "a7b2b58f",
   "metadata": {},
   "outputs": [
    {
     "data": {
      "text/plain": [
       "[[1, 2], [3, 4], <zip at 0x2b01f2224c0>]"
      ]
     },
     "execution_count": 171,
     "metadata": {},
     "output_type": "execute_result"
    }
   ],
   "source": [
    "k"
   ]
  },
  {
   "cell_type": "code",
   "execution_count": 172,
   "id": "f29429bd",
   "metadata": {},
   "outputs": [
    {
     "data": {
      "text/plain": [
       "[[1, 2, 3], [4, 5, 6]]"
      ]
     },
     "execution_count": 172,
     "metadata": {},
     "output_type": "execute_result"
    }
   ],
   "source": [
    "v"
   ]
  },
  {
   "cell_type": "code",
   "execution_count": 173,
   "id": "da85e8cc",
   "metadata": {},
   "outputs": [],
   "source": []
  },
  {
   "cell_type": "code",
   "execution_count": 175,
   "id": "c2ac4503",
   "metadata": {},
   "outputs": [],
   "source": [
    "from numpy.random import randn as rn"
   ]
  },
  {
   "cell_type": "code",
   "execution_count": 176,
   "id": "0db5a420",
   "metadata": {},
   "outputs": [],
   "source": [
    "np.random.seed(100)"
   ]
  },
  {
   "cell_type": "code",
   "execution_count": 177,
   "id": "c5462d9d",
   "metadata": {},
   "outputs": [
    {
     "data": {
      "text/plain": [
       "array([[-1.74976547,  0.3426804 ,  1.1530358 , -0.25243604],\n",
       "       [ 0.98132079,  0.51421884,  0.22117967, -1.07004333],\n",
       "       [-0.18949583,  0.25500144, -0.45802699,  0.43516349],\n",
       "       [-0.58359505,  0.81684707,  0.67272081, -0.10441114],\n",
       "       [-0.53128038,  1.02973269, -0.43813562, -1.11831825]])"
      ]
     },
     "execution_count": 177,
     "metadata": {},
     "output_type": "execute_result"
    }
   ],
   "source": [
    "rn(5,4)"
   ]
  },
  {
   "cell_type": "code",
   "execution_count": 178,
   "id": "2829ded6",
   "metadata": {},
   "outputs": [
    {
     "data": {
      "text/plain": [
       "array([[ 1.61898166,  1.54160517, -0.25187914, -0.84243574],\n",
       "       [ 0.18451869,  0.9370822 ,  0.73100034,  1.36155613],\n",
       "       [-0.32623806,  0.05567601,  0.22239961, -1.443217  ],\n",
       "       [-0.75635231,  0.81645401,  0.75044476, -0.45594693],\n",
       "       [ 1.18962227, -1.69061683, -1.35639905, -1.23243451]])"
      ]
     },
     "execution_count": 178,
     "metadata": {},
     "output_type": "execute_result"
    }
   ],
   "source": [
    "rn(5,4)"
   ]
  },
  {
   "cell_type": "code",
   "execution_count": 191,
   "id": "b3048b74",
   "metadata": {},
   "outputs": [
    {
     "data": {
      "text/plain": [
       "array([0.54340494, 0.27836939, 0.42451759, 0.84477613, 0.00471886])"
      ]
     },
     "execution_count": 191,
     "metadata": {},
     "output_type": "execute_result"
    }
   ],
   "source": [
    "np.random.seed(100)\n",
    "np.random.random(5)"
   ]
  },
  {
   "cell_type": "code",
   "execution_count": null,
   "id": "5af458e7",
   "metadata": {},
   "outputs": [],
   "source": []
  },
  {
   "cell_type": "code",
   "execution_count": 187,
   "id": "3b5f508a",
   "metadata": {},
   "outputs": [
    {
     "name": "stdout",
     "output_type": "stream",
     "text": [
      "[0.18340451 0.30424224 0.52475643 0.43194502 0.29122914]\n"
     ]
    }
   ],
   "source": [
    "import numpy as np\n",
    "\n",
    "np.random.seed(42)  # Set the seed to a specific value\n",
    "\n",
    "# Generate random numbers\n",
    "random_numbers = np.random.random(5)\n",
    "print(random_numbers)\n"
   ]
  },
  {
   "cell_type": "code",
   "execution_count": null,
   "id": "da1dd6b0",
   "metadata": {},
   "outputs": [],
   "source": []
  },
  {
   "cell_type": "code",
   "execution_count": 192,
   "id": "0db2d903",
   "metadata": {},
   "outputs": [
    {
     "data": {
      "text/html": [
       "<div>\n",
       "<style scoped>\n",
       "    .dataframe tbody tr th:only-of-type {\n",
       "        vertical-align: middle;\n",
       "    }\n",
       "\n",
       "    .dataframe tbody tr th {\n",
       "        vertical-align: top;\n",
       "    }\n",
       "\n",
       "    .dataframe thead th {\n",
       "        text-align: right;\n",
       "    }\n",
       "</style>\n",
       "<table border=\"1\" class=\"dataframe\">\n",
       "  <thead>\n",
       "    <tr style=\"text-align: right;\">\n",
       "      <th></th>\n",
       "      <th>Player_Name</th>\n",
       "      <th>IPL_Team</th>\n",
       "      <th>Matches_Played</th>\n",
       "      <th>Runs_Scored</th>\n",
       "    </tr>\n",
       "  </thead>\n",
       "  <tbody>\n",
       "    <tr>\n",
       "      <th>0</th>\n",
       "      <td>MS Dhoni</td>\n",
       "      <td>CSK</td>\n",
       "      <td>12</td>\n",
       "      <td>300</td>\n",
       "    </tr>\n",
       "    <tr>\n",
       "      <th>1</th>\n",
       "      <td>Virat</td>\n",
       "      <td>RCB</td>\n",
       "      <td>12</td>\n",
       "      <td>350</td>\n",
       "    </tr>\n",
       "    <tr>\n",
       "      <th>2</th>\n",
       "      <td>Faf Du plesis</td>\n",
       "      <td>RCB</td>\n",
       "      <td>12</td>\n",
       "      <td>625</td>\n",
       "    </tr>\n",
       "    <tr>\n",
       "      <th>3</th>\n",
       "      <td>Surya</td>\n",
       "      <td>MI</td>\n",
       "      <td>12</td>\n",
       "      <td>575</td>\n",
       "    </tr>\n",
       "    <tr>\n",
       "      <th>4</th>\n",
       "      <td>Yashashwi</td>\n",
       "      <td>RR</td>\n",
       "      <td>12</td>\n",
       "      <td>600</td>\n",
       "    </tr>\n",
       "    <tr>\n",
       "      <th>5</th>\n",
       "      <td>Sanju Samson</td>\n",
       "      <td>RR</td>\n",
       "      <td>12</td>\n",
       "      <td>425</td>\n",
       "    </tr>\n",
       "    <tr>\n",
       "      <th>6</th>\n",
       "      <td>Shubman Gill</td>\n",
       "      <td>GT</td>\n",
       "      <td>12</td>\n",
       "      <td>610</td>\n",
       "    </tr>\n",
       "  </tbody>\n",
       "</table>\n",
       "</div>"
      ],
      "text/plain": [
       "     Player_Name IPL_Team  Matches_Played  Runs_Scored\n",
       "0       MS Dhoni      CSK              12          300\n",
       "1          Virat      RCB              12          350\n",
       "2  Faf Du plesis      RCB              12          625\n",
       "3          Surya       MI              12          575\n",
       "4      Yashashwi       RR              12          600\n",
       "5   Sanju Samson       RR              12          425\n",
       "6   Shubman Gill       GT              12          610"
      ]
     },
     "execution_count": 192,
     "metadata": {},
     "output_type": "execute_result"
    }
   ],
   "source": [
    "df"
   ]
  },
  {
   "cell_type": "code",
   "execution_count": 200,
   "id": "2066bb06",
   "metadata": {},
   "outputs": [
    {
     "name": "stdout",
     "output_type": "stream",
     "text": [
      "Virat\n",
      "RCB\n",
      "12\n"
     ]
    }
   ],
   "source": [
    "print(df.loc[1].iloc[0])\n",
    "print(df.loc[1].iloc[1])\n",
    "print(df.loc[1].iloc[2])\n"
   ]
  },
  {
   "cell_type": "code",
   "execution_count": 202,
   "id": "a1040107",
   "metadata": {},
   "outputs": [
    {
     "data": {
      "text/html": [
       "<div>\n",
       "<style scoped>\n",
       "    .dataframe tbody tr th:only-of-type {\n",
       "        vertical-align: middle;\n",
       "    }\n",
       "\n",
       "    .dataframe tbody tr th {\n",
       "        vertical-align: top;\n",
       "    }\n",
       "\n",
       "    .dataframe thead th {\n",
       "        text-align: right;\n",
       "    }\n",
       "</style>\n",
       "<table border=\"1\" class=\"dataframe\">\n",
       "  <thead>\n",
       "    <tr style=\"text-align: right;\">\n",
       "      <th></th>\n",
       "      <th>Player_Name</th>\n",
       "      <th>IPL_Team</th>\n",
       "      <th>Matches_Played</th>\n",
       "      <th>Runs_Scored</th>\n",
       "    </tr>\n",
       "  </thead>\n",
       "  <tbody>\n",
       "    <tr>\n",
       "      <th>2</th>\n",
       "      <td>Faf Du plesis</td>\n",
       "      <td>RCB</td>\n",
       "      <td>12</td>\n",
       "      <td>625</td>\n",
       "    </tr>\n",
       "    <tr>\n",
       "      <th>3</th>\n",
       "      <td>Surya</td>\n",
       "      <td>MI</td>\n",
       "      <td>12</td>\n",
       "      <td>575</td>\n",
       "    </tr>\n",
       "    <tr>\n",
       "      <th>4</th>\n",
       "      <td>Yashashwi</td>\n",
       "      <td>RR</td>\n",
       "      <td>12</td>\n",
       "      <td>600</td>\n",
       "    </tr>\n",
       "    <tr>\n",
       "      <th>6</th>\n",
       "      <td>Shubman Gill</td>\n",
       "      <td>GT</td>\n",
       "      <td>12</td>\n",
       "      <td>610</td>\n",
       "    </tr>\n",
       "  </tbody>\n",
       "</table>\n",
       "</div>"
      ],
      "text/plain": [
       "     Player_Name IPL_Team  Matches_Played  Runs_Scored\n",
       "2  Faf Du plesis      RCB              12          625\n",
       "3          Surya       MI              12          575\n",
       "4      Yashashwi       RR              12          600\n",
       "6   Shubman Gill       GT              12          610"
      ]
     },
     "execution_count": 202,
     "metadata": {},
     "output_type": "execute_result"
    }
   ],
   "source": [
    "df[df['Runs_Scored']>=575]"
   ]
  },
  {
   "cell_type": "code",
   "execution_count": 204,
   "id": "cb035e17",
   "metadata": {},
   "outputs": [],
   "source": [
    "df['Age'] = [30,32,35,41,29,22,31]"
   ]
  },
  {
   "cell_type": "code",
   "execution_count": 205,
   "id": "6a127edf",
   "metadata": {},
   "outputs": [
    {
     "data": {
      "text/html": [
       "<div>\n",
       "<style scoped>\n",
       "    .dataframe tbody tr th:only-of-type {\n",
       "        vertical-align: middle;\n",
       "    }\n",
       "\n",
       "    .dataframe tbody tr th {\n",
       "        vertical-align: top;\n",
       "    }\n",
       "\n",
       "    .dataframe thead th {\n",
       "        text-align: right;\n",
       "    }\n",
       "</style>\n",
       "<table border=\"1\" class=\"dataframe\">\n",
       "  <thead>\n",
       "    <tr style=\"text-align: right;\">\n",
       "      <th></th>\n",
       "      <th>Player_Name</th>\n",
       "      <th>IPL_Team</th>\n",
       "      <th>Matches_Played</th>\n",
       "      <th>Runs_Scored</th>\n",
       "      <th>Age</th>\n",
       "    </tr>\n",
       "  </thead>\n",
       "  <tbody>\n",
       "    <tr>\n",
       "      <th>0</th>\n",
       "      <td>MS Dhoni</td>\n",
       "      <td>CSK</td>\n",
       "      <td>12</td>\n",
       "      <td>300</td>\n",
       "      <td>30</td>\n",
       "    </tr>\n",
       "    <tr>\n",
       "      <th>1</th>\n",
       "      <td>Virat</td>\n",
       "      <td>RCB</td>\n",
       "      <td>12</td>\n",
       "      <td>350</td>\n",
       "      <td>32</td>\n",
       "    </tr>\n",
       "    <tr>\n",
       "      <th>2</th>\n",
       "      <td>Faf Du plesis</td>\n",
       "      <td>RCB</td>\n",
       "      <td>12</td>\n",
       "      <td>625</td>\n",
       "      <td>35</td>\n",
       "    </tr>\n",
       "    <tr>\n",
       "      <th>3</th>\n",
       "      <td>Surya</td>\n",
       "      <td>MI</td>\n",
       "      <td>12</td>\n",
       "      <td>575</td>\n",
       "      <td>41</td>\n",
       "    </tr>\n",
       "    <tr>\n",
       "      <th>4</th>\n",
       "      <td>Yashashwi</td>\n",
       "      <td>RR</td>\n",
       "      <td>12</td>\n",
       "      <td>600</td>\n",
       "      <td>29</td>\n",
       "    </tr>\n",
       "    <tr>\n",
       "      <th>5</th>\n",
       "      <td>Sanju Samson</td>\n",
       "      <td>RR</td>\n",
       "      <td>12</td>\n",
       "      <td>425</td>\n",
       "      <td>22</td>\n",
       "    </tr>\n",
       "    <tr>\n",
       "      <th>6</th>\n",
       "      <td>Shubman Gill</td>\n",
       "      <td>GT</td>\n",
       "      <td>12</td>\n",
       "      <td>610</td>\n",
       "      <td>31</td>\n",
       "    </tr>\n",
       "  </tbody>\n",
       "</table>\n",
       "</div>"
      ],
      "text/plain": [
       "     Player_Name IPL_Team  Matches_Played  Runs_Scored  Age\n",
       "0       MS Dhoni      CSK              12          300   30\n",
       "1          Virat      RCB              12          350   32\n",
       "2  Faf Du plesis      RCB              12          625   35\n",
       "3          Surya       MI              12          575   41\n",
       "4      Yashashwi       RR              12          600   29\n",
       "5   Sanju Samson       RR              12          425   22\n",
       "6   Shubman Gill       GT              12          610   31"
      ]
     },
     "execution_count": 205,
     "metadata": {},
     "output_type": "execute_result"
    }
   ],
   "source": [
    "df"
   ]
  },
  {
   "cell_type": "code",
   "execution_count": 210,
   "id": "0272f844",
   "metadata": {},
   "outputs": [
    {
     "data": {
      "text/html": [
       "<div>\n",
       "<style scoped>\n",
       "    .dataframe tbody tr th:only-of-type {\n",
       "        vertical-align: middle;\n",
       "    }\n",
       "\n",
       "    .dataframe tbody tr th {\n",
       "        vertical-align: top;\n",
       "    }\n",
       "\n",
       "    .dataframe thead th {\n",
       "        text-align: right;\n",
       "    }\n",
       "</style>\n",
       "<table border=\"1\" class=\"dataframe\">\n",
       "  <thead>\n",
       "    <tr style=\"text-align: right;\">\n",
       "      <th></th>\n",
       "      <th>Player_Name</th>\n",
       "      <th>IPL_Team</th>\n",
       "      <th>Matches_Played</th>\n",
       "      <th>Runs_Scored</th>\n",
       "      <th>Age</th>\n",
       "    </tr>\n",
       "  </thead>\n",
       "  <tbody>\n",
       "    <tr>\n",
       "      <th>4</th>\n",
       "      <td>Yashashwi</td>\n",
       "      <td>RR</td>\n",
       "      <td>12</td>\n",
       "      <td>600</td>\n",
       "      <td>29</td>\n",
       "    </tr>\n",
       "  </tbody>\n",
       "</table>\n",
       "</div>"
      ],
      "text/plain": [
       "  Player_Name IPL_Team  Matches_Played  Runs_Scored  Age\n",
       "4   Yashashwi       RR              12          600   29"
      ]
     },
     "execution_count": 210,
     "metadata": {},
     "output_type": "execute_result"
    }
   ],
   "source": [
    "df[(df['Runs_Scored']>575) & (df['Age']<30)]"
   ]
  },
  {
   "cell_type": "code",
   "execution_count": 217,
   "id": "8ade50b0",
   "metadata": {},
   "outputs": [
    {
     "data": {
      "text/plain": [
       "'Yashashwi'"
      ]
     },
     "execution_count": 217,
     "metadata": {},
     "output_type": "execute_result"
    }
   ],
   "source": [
    "df[(df['Runs_Scored']>575) & (df['Age']<30)].iloc[0,0]"
   ]
  },
  {
   "cell_type": "code",
   "execution_count": 218,
   "id": "f7234e4e",
   "metadata": {},
   "outputs": [
    {
     "data": {
      "text/plain": [
       "4    Yashashwi\n",
       "Name: Player_Name, dtype: object"
      ]
     },
     "execution_count": 218,
     "metadata": {},
     "output_type": "execute_result"
    }
   ],
   "source": [
    "df[(df['Runs_Scored']>575) & (df['Age']<30)].loc[:,'Player_Name']"
   ]
  },
  {
   "cell_type": "code",
   "execution_count": 219,
   "id": "b56a17cd",
   "metadata": {},
   "outputs": [
    {
     "data": {
      "text/plain": [
       "4    Yashashwi\n",
       "Name: Player_Name, dtype: object"
      ]
     },
     "execution_count": 219,
     "metadata": {},
     "output_type": "execute_result"
    }
   ],
   "source": [
    "df[(df['Runs_Scored']>575) & (df['Age']<30)]['Player_Name']"
   ]
  },
  {
   "cell_type": "code",
   "execution_count": 223,
   "id": "dcb2cb7b",
   "metadata": {},
   "outputs": [],
   "source": [
    "d = {'name': ['s', 's', 's', 'k', 'k', 'k', 'l'],\n",
    "    'income': [10, 20, 30, 40, 50, 60, 70],\n",
    "    'comp': ['r','r','v','k','I','u','v']\n",
    "    }"
   ]
  },
  {
   "cell_type": "code",
   "execution_count": 225,
   "id": "684c914f",
   "metadata": {},
   "outputs": [
    {
     "data": {
      "text/html": [
       "<div>\n",
       "<style scoped>\n",
       "    .dataframe tbody tr th:only-of-type {\n",
       "        vertical-align: middle;\n",
       "    }\n",
       "\n",
       "    .dataframe tbody tr th {\n",
       "        vertical-align: top;\n",
       "    }\n",
       "\n",
       "    .dataframe thead th {\n",
       "        text-align: right;\n",
       "    }\n",
       "</style>\n",
       "<table border=\"1\" class=\"dataframe\">\n",
       "  <thead>\n",
       "    <tr style=\"text-align: right;\">\n",
       "      <th></th>\n",
       "      <th>name</th>\n",
       "      <th>income</th>\n",
       "      <th>comp</th>\n",
       "    </tr>\n",
       "  </thead>\n",
       "  <tbody>\n",
       "    <tr>\n",
       "      <th>0</th>\n",
       "      <td>s</td>\n",
       "      <td>10</td>\n",
       "      <td>r</td>\n",
       "    </tr>\n",
       "    <tr>\n",
       "      <th>1</th>\n",
       "      <td>s</td>\n",
       "      <td>20</td>\n",
       "      <td>r</td>\n",
       "    </tr>\n",
       "    <tr>\n",
       "      <th>2</th>\n",
       "      <td>s</td>\n",
       "      <td>30</td>\n",
       "      <td>v</td>\n",
       "    </tr>\n",
       "    <tr>\n",
       "      <th>3</th>\n",
       "      <td>k</td>\n",
       "      <td>40</td>\n",
       "      <td>k</td>\n",
       "    </tr>\n",
       "    <tr>\n",
       "      <th>4</th>\n",
       "      <td>k</td>\n",
       "      <td>50</td>\n",
       "      <td>I</td>\n",
       "    </tr>\n",
       "    <tr>\n",
       "      <th>5</th>\n",
       "      <td>k</td>\n",
       "      <td>60</td>\n",
       "      <td>u</td>\n",
       "    </tr>\n",
       "    <tr>\n",
       "      <th>6</th>\n",
       "      <td>l</td>\n",
       "      <td>70</td>\n",
       "      <td>v</td>\n",
       "    </tr>\n",
       "  </tbody>\n",
       "</table>\n",
       "</div>"
      ],
      "text/plain": [
       "  name  income comp\n",
       "0    s      10    r\n",
       "1    s      20    r\n",
       "2    s      30    v\n",
       "3    k      40    k\n",
       "4    k      50    I\n",
       "5    k      60    u\n",
       "6    l      70    v"
      ]
     },
     "execution_count": 225,
     "metadata": {},
     "output_type": "execute_result"
    }
   ],
   "source": [
    "df9 = pd.DataFrame(d)\n",
    "df9"
   ]
  },
  {
   "cell_type": "code",
   "execution_count": 228,
   "id": "3b8dbf2c",
   "metadata": {},
   "outputs": [
    {
     "data": {
      "text/html": [
       "<div>\n",
       "<style scoped>\n",
       "    .dataframe tbody tr th:only-of-type {\n",
       "        vertical-align: middle;\n",
       "    }\n",
       "\n",
       "    .dataframe tbody tr th {\n",
       "        vertical-align: top;\n",
       "    }\n",
       "\n",
       "    .dataframe thead tr th {\n",
       "        text-align: left;\n",
       "    }\n",
       "\n",
       "    .dataframe thead tr:last-of-type th {\n",
       "        text-align: right;\n",
       "    }\n",
       "</style>\n",
       "<table border=\"1\" class=\"dataframe\">\n",
       "  <thead>\n",
       "    <tr>\n",
       "      <th></th>\n",
       "      <th colspan=\"8\" halign=\"left\">income</th>\n",
       "    </tr>\n",
       "    <tr>\n",
       "      <th></th>\n",
       "      <th>count</th>\n",
       "      <th>mean</th>\n",
       "      <th>std</th>\n",
       "      <th>min</th>\n",
       "      <th>25%</th>\n",
       "      <th>50%</th>\n",
       "      <th>75%</th>\n",
       "      <th>max</th>\n",
       "    </tr>\n",
       "    <tr>\n",
       "      <th>name</th>\n",
       "      <th></th>\n",
       "      <th></th>\n",
       "      <th></th>\n",
       "      <th></th>\n",
       "      <th></th>\n",
       "      <th></th>\n",
       "      <th></th>\n",
       "      <th></th>\n",
       "    </tr>\n",
       "  </thead>\n",
       "  <tbody>\n",
       "    <tr>\n",
       "      <th>k</th>\n",
       "      <td>3.0</td>\n",
       "      <td>50.0</td>\n",
       "      <td>10.0</td>\n",
       "      <td>40.0</td>\n",
       "      <td>45.0</td>\n",
       "      <td>50.0</td>\n",
       "      <td>55.0</td>\n",
       "      <td>60.0</td>\n",
       "    </tr>\n",
       "    <tr>\n",
       "      <th>l</th>\n",
       "      <td>1.0</td>\n",
       "      <td>70.0</td>\n",
       "      <td>NaN</td>\n",
       "      <td>70.0</td>\n",
       "      <td>70.0</td>\n",
       "      <td>70.0</td>\n",
       "      <td>70.0</td>\n",
       "      <td>70.0</td>\n",
       "    </tr>\n",
       "    <tr>\n",
       "      <th>s</th>\n",
       "      <td>3.0</td>\n",
       "      <td>20.0</td>\n",
       "      <td>10.0</td>\n",
       "      <td>10.0</td>\n",
       "      <td>15.0</td>\n",
       "      <td>20.0</td>\n",
       "      <td>25.0</td>\n",
       "      <td>30.0</td>\n",
       "    </tr>\n",
       "  </tbody>\n",
       "</table>\n",
       "</div>"
      ],
      "text/plain": [
       "     income                                          \n",
       "      count  mean   std   min   25%   50%   75%   max\n",
       "name                                                 \n",
       "k       3.0  50.0  10.0  40.0  45.0  50.0  55.0  60.0\n",
       "l       1.0  70.0   NaN  70.0  70.0  70.0  70.0  70.0\n",
       "s       3.0  20.0  10.0  10.0  15.0  20.0  25.0  30.0"
      ]
     },
     "execution_count": 228,
     "metadata": {},
     "output_type": "execute_result"
    }
   ],
   "source": [
    "df9.groupby('name').describe()"
   ]
  },
  {
   "cell_type": "code",
   "execution_count": 233,
   "id": "a8f6a7fe",
   "metadata": {},
   "outputs": [
    {
     "data": {
      "text/html": [
       "<div>\n",
       "<style scoped>\n",
       "    .dataframe tbody tr th:only-of-type {\n",
       "        vertical-align: middle;\n",
       "    }\n",
       "\n",
       "    .dataframe tbody tr th {\n",
       "        vertical-align: top;\n",
       "    }\n",
       "\n",
       "    .dataframe thead th {\n",
       "        text-align: right;\n",
       "    }\n",
       "</style>\n",
       "<table border=\"1\" class=\"dataframe\">\n",
       "  <thead>\n",
       "    <tr style=\"text-align: right;\">\n",
       "      <th></th>\n",
       "      <th>A</th>\n",
       "      <th>B</th>\n",
       "      <th>C</th>\n",
       "    </tr>\n",
       "  </thead>\n",
       "  <tbody>\n",
       "    <tr>\n",
       "      <th>a</th>\n",
       "      <td>10</td>\n",
       "      <td>19</td>\n",
       "      <td>13</td>\n",
       "    </tr>\n",
       "    <tr>\n",
       "      <th>b</th>\n",
       "      <td>12</td>\n",
       "      <td>10</td>\n",
       "      <td>17</td>\n",
       "    </tr>\n",
       "    <tr>\n",
       "      <th>c</th>\n",
       "      <td>13</td>\n",
       "      <td>15</td>\n",
       "      <td>18</td>\n",
       "    </tr>\n",
       "    <tr>\n",
       "      <th>d</th>\n",
       "      <td>11</td>\n",
       "      <td>17</td>\n",
       "      <td>10</td>\n",
       "    </tr>\n",
       "    <tr>\n",
       "      <th>e</th>\n",
       "      <td>10</td>\n",
       "      <td>18</td>\n",
       "      <td>11</td>\n",
       "    </tr>\n",
       "  </tbody>\n",
       "</table>\n",
       "</div>"
      ],
      "text/plain": [
       "    A   B   C\n",
       "a  10  19  13\n",
       "b  12  10  17\n",
       "c  13  15  18\n",
       "d  11  17  10\n",
       "e  10  18  11"
      ]
     },
     "execution_count": 233,
     "metadata": {},
     "output_type": "execute_result"
    }
   ],
   "source": [
    "df11 = pd.DataFrame({'A': [10, 12, 13, 11, 10],\n",
    "              'B': [19, 10, 15, 17, 18],\n",
    "              'C': [13, 17, 18, 10, 11]}, index=['a','b','c','d','e'])\n",
    "df11"
   ]
  },
  {
   "cell_type": "code",
   "execution_count": 234,
   "id": "ad656396",
   "metadata": {},
   "outputs": [
    {
     "data": {
      "text/html": [
       "<div>\n",
       "<style scoped>\n",
       "    .dataframe tbody tr th:only-of-type {\n",
       "        vertical-align: middle;\n",
       "    }\n",
       "\n",
       "    .dataframe tbody tr th {\n",
       "        vertical-align: top;\n",
       "    }\n",
       "\n",
       "    .dataframe thead th {\n",
       "        text-align: right;\n",
       "    }\n",
       "</style>\n",
       "<table border=\"1\" class=\"dataframe\">\n",
       "  <thead>\n",
       "    <tr style=\"text-align: right;\">\n",
       "      <th></th>\n",
       "      <th>A</th>\n",
       "      <th>B</th>\n",
       "      <th>C</th>\n",
       "    </tr>\n",
       "  </thead>\n",
       "  <tbody>\n",
       "    <tr>\n",
       "      <th>f</th>\n",
       "      <td>10</td>\n",
       "      <td>19</td>\n",
       "      <td>13</td>\n",
       "    </tr>\n",
       "    <tr>\n",
       "      <th>g</th>\n",
       "      <td>12</td>\n",
       "      <td>10</td>\n",
       "      <td>17</td>\n",
       "    </tr>\n",
       "    <tr>\n",
       "      <th>h</th>\n",
       "      <td>13</td>\n",
       "      <td>15</td>\n",
       "      <td>18</td>\n",
       "    </tr>\n",
       "    <tr>\n",
       "      <th>i</th>\n",
       "      <td>11</td>\n",
       "      <td>17</td>\n",
       "      <td>10</td>\n",
       "    </tr>\n",
       "    <tr>\n",
       "      <th>j</th>\n",
       "      <td>10</td>\n",
       "      <td>18</td>\n",
       "      <td>11</td>\n",
       "    </tr>\n",
       "  </tbody>\n",
       "</table>\n",
       "</div>"
      ],
      "text/plain": [
       "    A   B   C\n",
       "f  10  19  13\n",
       "g  12  10  17\n",
       "h  13  15  18\n",
       "i  11  17  10\n",
       "j  10  18  11"
      ]
     },
     "execution_count": 234,
     "metadata": {},
     "output_type": "execute_result"
    }
   ],
   "source": [
    "df12 = pd.DataFrame({'A': [10, 12, 13, 11, 10],\n",
    "              'B': [19, 10, 15, 17, 18],\n",
    "              'C': [13, 17, 18, 10, 11]}, index=['f','g','h','i','j'])\n",
    "df12"
   ]
  },
  {
   "cell_type": "code",
   "execution_count": 235,
   "id": "04255571",
   "metadata": {},
   "outputs": [
    {
     "data": {
      "text/html": [
       "<div>\n",
       "<style scoped>\n",
       "    .dataframe tbody tr th:only-of-type {\n",
       "        vertical-align: middle;\n",
       "    }\n",
       "\n",
       "    .dataframe tbody tr th {\n",
       "        vertical-align: top;\n",
       "    }\n",
       "\n",
       "    .dataframe thead th {\n",
       "        text-align: right;\n",
       "    }\n",
       "</style>\n",
       "<table border=\"1\" class=\"dataframe\">\n",
       "  <thead>\n",
       "    <tr style=\"text-align: right;\">\n",
       "      <th></th>\n",
       "      <th>A</th>\n",
       "      <th>B</th>\n",
       "      <th>C</th>\n",
       "    </tr>\n",
       "  </thead>\n",
       "  <tbody>\n",
       "    <tr>\n",
       "      <th>k</th>\n",
       "      <td>10</td>\n",
       "      <td>19</td>\n",
       "      <td>13</td>\n",
       "    </tr>\n",
       "    <tr>\n",
       "      <th>l</th>\n",
       "      <td>12</td>\n",
       "      <td>10</td>\n",
       "      <td>17</td>\n",
       "    </tr>\n",
       "    <tr>\n",
       "      <th>m</th>\n",
       "      <td>13</td>\n",
       "      <td>15</td>\n",
       "      <td>18</td>\n",
       "    </tr>\n",
       "    <tr>\n",
       "      <th>n</th>\n",
       "      <td>11</td>\n",
       "      <td>17</td>\n",
       "      <td>10</td>\n",
       "    </tr>\n",
       "    <tr>\n",
       "      <th>o</th>\n",
       "      <td>10</td>\n",
       "      <td>18</td>\n",
       "      <td>11</td>\n",
       "    </tr>\n",
       "  </tbody>\n",
       "</table>\n",
       "</div>"
      ],
      "text/plain": [
       "    A   B   C\n",
       "k  10  19  13\n",
       "l  12  10  17\n",
       "m  13  15  18\n",
       "n  11  17  10\n",
       "o  10  18  11"
      ]
     },
     "execution_count": 235,
     "metadata": {},
     "output_type": "execute_result"
    }
   ],
   "source": [
    "df13 = pd.DataFrame({'A': [10, 12, 13, 11, 10],\n",
    "              'B': [19, 10, 15, 17, 18],\n",
    "              'C': [13, 17, 18, 10, 11]}, index=['k','l','m','n','o'])\n",
    "df13"
   ]
  },
  {
   "cell_type": "code",
   "execution_count": 236,
   "id": "aaf50ed6",
   "metadata": {},
   "outputs": [
    {
     "data": {
      "text/html": [
       "<div>\n",
       "<style scoped>\n",
       "    .dataframe tbody tr th:only-of-type {\n",
       "        vertical-align: middle;\n",
       "    }\n",
       "\n",
       "    .dataframe tbody tr th {\n",
       "        vertical-align: top;\n",
       "    }\n",
       "\n",
       "    .dataframe thead th {\n",
       "        text-align: right;\n",
       "    }\n",
       "</style>\n",
       "<table border=\"1\" class=\"dataframe\">\n",
       "  <thead>\n",
       "    <tr style=\"text-align: right;\">\n",
       "      <th></th>\n",
       "      <th>A</th>\n",
       "      <th>B</th>\n",
       "      <th>C</th>\n",
       "    </tr>\n",
       "  </thead>\n",
       "  <tbody>\n",
       "    <tr>\n",
       "      <th>a</th>\n",
       "      <td>10</td>\n",
       "      <td>19</td>\n",
       "      <td>13</td>\n",
       "    </tr>\n",
       "    <tr>\n",
       "      <th>b</th>\n",
       "      <td>12</td>\n",
       "      <td>10</td>\n",
       "      <td>17</td>\n",
       "    </tr>\n",
       "    <tr>\n",
       "      <th>c</th>\n",
       "      <td>13</td>\n",
       "      <td>15</td>\n",
       "      <td>18</td>\n",
       "    </tr>\n",
       "    <tr>\n",
       "      <th>d</th>\n",
       "      <td>11</td>\n",
       "      <td>17</td>\n",
       "      <td>10</td>\n",
       "    </tr>\n",
       "    <tr>\n",
       "      <th>e</th>\n",
       "      <td>10</td>\n",
       "      <td>18</td>\n",
       "      <td>11</td>\n",
       "    </tr>\n",
       "    <tr>\n",
       "      <th>f</th>\n",
       "      <td>10</td>\n",
       "      <td>19</td>\n",
       "      <td>13</td>\n",
       "    </tr>\n",
       "    <tr>\n",
       "      <th>g</th>\n",
       "      <td>12</td>\n",
       "      <td>10</td>\n",
       "      <td>17</td>\n",
       "    </tr>\n",
       "    <tr>\n",
       "      <th>h</th>\n",
       "      <td>13</td>\n",
       "      <td>15</td>\n",
       "      <td>18</td>\n",
       "    </tr>\n",
       "    <tr>\n",
       "      <th>i</th>\n",
       "      <td>11</td>\n",
       "      <td>17</td>\n",
       "      <td>10</td>\n",
       "    </tr>\n",
       "    <tr>\n",
       "      <th>j</th>\n",
       "      <td>10</td>\n",
       "      <td>18</td>\n",
       "      <td>11</td>\n",
       "    </tr>\n",
       "    <tr>\n",
       "      <th>k</th>\n",
       "      <td>10</td>\n",
       "      <td>19</td>\n",
       "      <td>13</td>\n",
       "    </tr>\n",
       "    <tr>\n",
       "      <th>l</th>\n",
       "      <td>12</td>\n",
       "      <td>10</td>\n",
       "      <td>17</td>\n",
       "    </tr>\n",
       "    <tr>\n",
       "      <th>m</th>\n",
       "      <td>13</td>\n",
       "      <td>15</td>\n",
       "      <td>18</td>\n",
       "    </tr>\n",
       "    <tr>\n",
       "      <th>n</th>\n",
       "      <td>11</td>\n",
       "      <td>17</td>\n",
       "      <td>10</td>\n",
       "    </tr>\n",
       "    <tr>\n",
       "      <th>o</th>\n",
       "      <td>10</td>\n",
       "      <td>18</td>\n",
       "      <td>11</td>\n",
       "    </tr>\n",
       "  </tbody>\n",
       "</table>\n",
       "</div>"
      ],
      "text/plain": [
       "    A   B   C\n",
       "a  10  19  13\n",
       "b  12  10  17\n",
       "c  13  15  18\n",
       "d  11  17  10\n",
       "e  10  18  11\n",
       "f  10  19  13\n",
       "g  12  10  17\n",
       "h  13  15  18\n",
       "i  11  17  10\n",
       "j  10  18  11\n",
       "k  10  19  13\n",
       "l  12  10  17\n",
       "m  13  15  18\n",
       "n  11  17  10\n",
       "o  10  18  11"
      ]
     },
     "execution_count": 236,
     "metadata": {},
     "output_type": "execute_result"
    }
   ],
   "source": [
    "pd.concat( [df11, df12, df13], axis=0)"
   ]
  },
  {
   "cell_type": "code",
   "execution_count": 237,
   "id": "b0648fb2",
   "metadata": {},
   "outputs": [
    {
     "data": {
      "text/html": [
       "<div>\n",
       "<style scoped>\n",
       "    .dataframe tbody tr th:only-of-type {\n",
       "        vertical-align: middle;\n",
       "    }\n",
       "\n",
       "    .dataframe tbody tr th {\n",
       "        vertical-align: top;\n",
       "    }\n",
       "\n",
       "    .dataframe thead th {\n",
       "        text-align: right;\n",
       "    }\n",
       "</style>\n",
       "<table border=\"1\" class=\"dataframe\">\n",
       "  <thead>\n",
       "    <tr style=\"text-align: right;\">\n",
       "      <th></th>\n",
       "      <th>A</th>\n",
       "      <th>B</th>\n",
       "      <th>C</th>\n",
       "      <th>A</th>\n",
       "      <th>B</th>\n",
       "      <th>C</th>\n",
       "      <th>A</th>\n",
       "      <th>B</th>\n",
       "      <th>C</th>\n",
       "    </tr>\n",
       "  </thead>\n",
       "  <tbody>\n",
       "    <tr>\n",
       "      <th>a</th>\n",
       "      <td>10.0</td>\n",
       "      <td>19.0</td>\n",
       "      <td>13.0</td>\n",
       "      <td>NaN</td>\n",
       "      <td>NaN</td>\n",
       "      <td>NaN</td>\n",
       "      <td>NaN</td>\n",
       "      <td>NaN</td>\n",
       "      <td>NaN</td>\n",
       "    </tr>\n",
       "    <tr>\n",
       "      <th>b</th>\n",
       "      <td>12.0</td>\n",
       "      <td>10.0</td>\n",
       "      <td>17.0</td>\n",
       "      <td>NaN</td>\n",
       "      <td>NaN</td>\n",
       "      <td>NaN</td>\n",
       "      <td>NaN</td>\n",
       "      <td>NaN</td>\n",
       "      <td>NaN</td>\n",
       "    </tr>\n",
       "    <tr>\n",
       "      <th>c</th>\n",
       "      <td>13.0</td>\n",
       "      <td>15.0</td>\n",
       "      <td>18.0</td>\n",
       "      <td>NaN</td>\n",
       "      <td>NaN</td>\n",
       "      <td>NaN</td>\n",
       "      <td>NaN</td>\n",
       "      <td>NaN</td>\n",
       "      <td>NaN</td>\n",
       "    </tr>\n",
       "    <tr>\n",
       "      <th>d</th>\n",
       "      <td>11.0</td>\n",
       "      <td>17.0</td>\n",
       "      <td>10.0</td>\n",
       "      <td>NaN</td>\n",
       "      <td>NaN</td>\n",
       "      <td>NaN</td>\n",
       "      <td>NaN</td>\n",
       "      <td>NaN</td>\n",
       "      <td>NaN</td>\n",
       "    </tr>\n",
       "    <tr>\n",
       "      <th>e</th>\n",
       "      <td>10.0</td>\n",
       "      <td>18.0</td>\n",
       "      <td>11.0</td>\n",
       "      <td>NaN</td>\n",
       "      <td>NaN</td>\n",
       "      <td>NaN</td>\n",
       "      <td>NaN</td>\n",
       "      <td>NaN</td>\n",
       "      <td>NaN</td>\n",
       "    </tr>\n",
       "    <tr>\n",
       "      <th>f</th>\n",
       "      <td>NaN</td>\n",
       "      <td>NaN</td>\n",
       "      <td>NaN</td>\n",
       "      <td>10.0</td>\n",
       "      <td>19.0</td>\n",
       "      <td>13.0</td>\n",
       "      <td>NaN</td>\n",
       "      <td>NaN</td>\n",
       "      <td>NaN</td>\n",
       "    </tr>\n",
       "    <tr>\n",
       "      <th>g</th>\n",
       "      <td>NaN</td>\n",
       "      <td>NaN</td>\n",
       "      <td>NaN</td>\n",
       "      <td>12.0</td>\n",
       "      <td>10.0</td>\n",
       "      <td>17.0</td>\n",
       "      <td>NaN</td>\n",
       "      <td>NaN</td>\n",
       "      <td>NaN</td>\n",
       "    </tr>\n",
       "    <tr>\n",
       "      <th>h</th>\n",
       "      <td>NaN</td>\n",
       "      <td>NaN</td>\n",
       "      <td>NaN</td>\n",
       "      <td>13.0</td>\n",
       "      <td>15.0</td>\n",
       "      <td>18.0</td>\n",
       "      <td>NaN</td>\n",
       "      <td>NaN</td>\n",
       "      <td>NaN</td>\n",
       "    </tr>\n",
       "    <tr>\n",
       "      <th>i</th>\n",
       "      <td>NaN</td>\n",
       "      <td>NaN</td>\n",
       "      <td>NaN</td>\n",
       "      <td>11.0</td>\n",
       "      <td>17.0</td>\n",
       "      <td>10.0</td>\n",
       "      <td>NaN</td>\n",
       "      <td>NaN</td>\n",
       "      <td>NaN</td>\n",
       "    </tr>\n",
       "    <tr>\n",
       "      <th>j</th>\n",
       "      <td>NaN</td>\n",
       "      <td>NaN</td>\n",
       "      <td>NaN</td>\n",
       "      <td>10.0</td>\n",
       "      <td>18.0</td>\n",
       "      <td>11.0</td>\n",
       "      <td>NaN</td>\n",
       "      <td>NaN</td>\n",
       "      <td>NaN</td>\n",
       "    </tr>\n",
       "    <tr>\n",
       "      <th>k</th>\n",
       "      <td>NaN</td>\n",
       "      <td>NaN</td>\n",
       "      <td>NaN</td>\n",
       "      <td>NaN</td>\n",
       "      <td>NaN</td>\n",
       "      <td>NaN</td>\n",
       "      <td>10.0</td>\n",
       "      <td>19.0</td>\n",
       "      <td>13.0</td>\n",
       "    </tr>\n",
       "    <tr>\n",
       "      <th>l</th>\n",
       "      <td>NaN</td>\n",
       "      <td>NaN</td>\n",
       "      <td>NaN</td>\n",
       "      <td>NaN</td>\n",
       "      <td>NaN</td>\n",
       "      <td>NaN</td>\n",
       "      <td>12.0</td>\n",
       "      <td>10.0</td>\n",
       "      <td>17.0</td>\n",
       "    </tr>\n",
       "    <tr>\n",
       "      <th>m</th>\n",
       "      <td>NaN</td>\n",
       "      <td>NaN</td>\n",
       "      <td>NaN</td>\n",
       "      <td>NaN</td>\n",
       "      <td>NaN</td>\n",
       "      <td>NaN</td>\n",
       "      <td>13.0</td>\n",
       "      <td>15.0</td>\n",
       "      <td>18.0</td>\n",
       "    </tr>\n",
       "    <tr>\n",
       "      <th>n</th>\n",
       "      <td>NaN</td>\n",
       "      <td>NaN</td>\n",
       "      <td>NaN</td>\n",
       "      <td>NaN</td>\n",
       "      <td>NaN</td>\n",
       "      <td>NaN</td>\n",
       "      <td>11.0</td>\n",
       "      <td>17.0</td>\n",
       "      <td>10.0</td>\n",
       "    </tr>\n",
       "    <tr>\n",
       "      <th>o</th>\n",
       "      <td>NaN</td>\n",
       "      <td>NaN</td>\n",
       "      <td>NaN</td>\n",
       "      <td>NaN</td>\n",
       "      <td>NaN</td>\n",
       "      <td>NaN</td>\n",
       "      <td>10.0</td>\n",
       "      <td>18.0</td>\n",
       "      <td>11.0</td>\n",
       "    </tr>\n",
       "  </tbody>\n",
       "</table>\n",
       "</div>"
      ],
      "text/plain": [
       "      A     B     C     A     B     C     A     B     C\n",
       "a  10.0  19.0  13.0   NaN   NaN   NaN   NaN   NaN   NaN\n",
       "b  12.0  10.0  17.0   NaN   NaN   NaN   NaN   NaN   NaN\n",
       "c  13.0  15.0  18.0   NaN   NaN   NaN   NaN   NaN   NaN\n",
       "d  11.0  17.0  10.0   NaN   NaN   NaN   NaN   NaN   NaN\n",
       "e  10.0  18.0  11.0   NaN   NaN   NaN   NaN   NaN   NaN\n",
       "f   NaN   NaN   NaN  10.0  19.0  13.0   NaN   NaN   NaN\n",
       "g   NaN   NaN   NaN  12.0  10.0  17.0   NaN   NaN   NaN\n",
       "h   NaN   NaN   NaN  13.0  15.0  18.0   NaN   NaN   NaN\n",
       "i   NaN   NaN   NaN  11.0  17.0  10.0   NaN   NaN   NaN\n",
       "j   NaN   NaN   NaN  10.0  18.0  11.0   NaN   NaN   NaN\n",
       "k   NaN   NaN   NaN   NaN   NaN   NaN  10.0  19.0  13.0\n",
       "l   NaN   NaN   NaN   NaN   NaN   NaN  12.0  10.0  17.0\n",
       "m   NaN   NaN   NaN   NaN   NaN   NaN  13.0  15.0  18.0\n",
       "n   NaN   NaN   NaN   NaN   NaN   NaN  11.0  17.0  10.0\n",
       "o   NaN   NaN   NaN   NaN   NaN   NaN  10.0  18.0  11.0"
      ]
     },
     "execution_count": 237,
     "metadata": {},
     "output_type": "execute_result"
    }
   ],
   "source": [
    "pd.concat( [df11, df12, df13], axis=1)"
   ]
  },
  {
   "cell_type": "code",
   "execution_count": 2,
   "id": "9ef98fb2",
   "metadata": {},
   "outputs": [
    {
     "data": {
      "text/html": [
       "<div>\n",
       "<style scoped>\n",
       "    .dataframe tbody tr th:only-of-type {\n",
       "        vertical-align: middle;\n",
       "    }\n",
       "\n",
       "    .dataframe tbody tr th {\n",
       "        vertical-align: top;\n",
       "    }\n",
       "\n",
       "    .dataframe thead th {\n",
       "        text-align: right;\n",
       "    }\n",
       "</style>\n",
       "<table border=\"1\" class=\"dataframe\">\n",
       "  <thead>\n",
       "    <tr style=\"text-align: right;\">\n",
       "      <th></th>\n",
       "      <th>Name</th>\n",
       "      <th>Subject</th>\n",
       "      <th>Country</th>\n",
       "      <th>Fav_Celebrity</th>\n",
       "    </tr>\n",
       "  </thead>\n",
       "  <tbody>\n",
       "    <tr>\n",
       "      <th>0</th>\n",
       "      <td>Mark</td>\n",
       "      <td>Economics</td>\n",
       "      <td>US</td>\n",
       "      <td>Obama</td>\n",
       "    </tr>\n",
       "    <tr>\n",
       "      <th>1</th>\n",
       "      <td>Dave</td>\n",
       "      <td>Botany</td>\n",
       "      <td>Sweden</td>\n",
       "      <td>Albert</td>\n",
       "    </tr>\n",
       "    <tr>\n",
       "      <th>2</th>\n",
       "      <td>Corey</td>\n",
       "      <td>Zoology</td>\n",
       "      <td>Germany</td>\n",
       "      <td>Newton</td>\n",
       "    </tr>\n",
       "    <tr>\n",
       "      <th>3</th>\n",
       "      <td>Liza</td>\n",
       "      <td>Physics</td>\n",
       "      <td>Mexico</td>\n",
       "      <td>Alfred</td>\n",
       "    </tr>\n",
       "    <tr>\n",
       "      <th>4</th>\n",
       "      <td>Mayur</td>\n",
       "      <td>AI</td>\n",
       "      <td>India</td>\n",
       "      <td>Ramanuja</td>\n",
       "    </tr>\n",
       "  </tbody>\n",
       "</table>\n",
       "</div>"
      ],
      "text/plain": [
       "    Name    Subject  Country Fav_Celebrity\n",
       "0   Mark  Economics       US         Obama\n",
       "1   Dave     Botany   Sweden        Albert\n",
       "2  Corey    Zoology  Germany        Newton\n",
       "3   Liza    Physics   Mexico        Alfred\n",
       "4  Mayur         AI    India      Ramanuja"
      ]
     },
     "execution_count": 2,
     "metadata": {},
     "output_type": "execute_result"
    }
   ],
   "source": [
    "import pandas as pd\n",
    "import numpy as np\n",
    "students = {'Name':['Mark','Dave','Corey','Liza','Mayur'],\n",
    "           'Subject':['Economics','Botany','Zoology','Physics','AI'],\n",
    "           'Country':['US','Sweden','Germany','Mexico','India'],\n",
    "           'Fav_Celebrity':['Obama','Albert','Newton','Alfred','Ramanuja']}\n",
    "\n",
    "df10=pd.DataFrame(students)\n",
    "df10"
   ]
  },
  {
   "cell_type": "code",
   "execution_count": 5,
   "id": "e96fe2eb",
   "metadata": {},
   "outputs": [
    {
     "data": {
      "text/html": [
       "<div>\n",
       "<style scoped>\n",
       "    .dataframe tbody tr th:only-of-type {\n",
       "        vertical-align: middle;\n",
       "    }\n",
       "\n",
       "    .dataframe tbody tr th {\n",
       "        vertical-align: top;\n",
       "    }\n",
       "\n",
       "    .dataframe thead th {\n",
       "        text-align: right;\n",
       "    }\n",
       "</style>\n",
       "<table border=\"1\" class=\"dataframe\">\n",
       "  <thead>\n",
       "    <tr style=\"text-align: right;\">\n",
       "      <th></th>\n",
       "      <th>Name</th>\n",
       "      <th>Country</th>\n",
       "    </tr>\n",
       "  </thead>\n",
       "  <tbody>\n",
       "    <tr>\n",
       "      <th>0</th>\n",
       "      <td>Mark</td>\n",
       "      <td>US</td>\n",
       "    </tr>\n",
       "    <tr>\n",
       "      <th>1</th>\n",
       "      <td>Dave</td>\n",
       "      <td>Sweden</td>\n",
       "    </tr>\n",
       "    <tr>\n",
       "      <th>2</th>\n",
       "      <td>Corey</td>\n",
       "      <td>Germany</td>\n",
       "    </tr>\n",
       "    <tr>\n",
       "      <th>3</th>\n",
       "      <td>Liza</td>\n",
       "      <td>Mexico</td>\n",
       "    </tr>\n",
       "    <tr>\n",
       "      <th>4</th>\n",
       "      <td>Mayur</td>\n",
       "      <td>India</td>\n",
       "    </tr>\n",
       "  </tbody>\n",
       "</table>\n",
       "</div>"
      ],
      "text/plain": [
       "    Name  Country\n",
       "0   Mark       US\n",
       "1   Dave   Sweden\n",
       "2  Corey  Germany\n",
       "3   Liza   Mexico\n",
       "4  Mayur    India"
      ]
     },
     "execution_count": 5,
     "metadata": {},
     "output_type": "execute_result"
    }
   ],
   "source": [
    "df10[['Name','Country']]"
   ]
  },
  {
   "cell_type": "code",
   "execution_count": 6,
   "id": "a2def5b2",
   "metadata": {},
   "outputs": [
    {
     "data": {
      "text/plain": [
       "Name                Liza\n",
       "Subject          Physics\n",
       "Country           Mexico\n",
       "Fav_Celebrity     Alfred\n",
       "Name: 3, dtype: object"
      ]
     },
     "execution_count": 6,
     "metadata": {},
     "output_type": "execute_result"
    }
   ],
   "source": [
    "df10.iloc[3]"
   ]
  },
  {
   "cell_type": "code",
   "execution_count": 7,
   "id": "1bff7d9a",
   "metadata": {},
   "outputs": [
    {
     "data": {
      "text/plain": [
       "'Mexico'"
      ]
     },
     "execution_count": 7,
     "metadata": {},
     "output_type": "execute_result"
    }
   ],
   "source": [
    "df10.iloc[3,2]"
   ]
  },
  {
   "cell_type": "code",
   "execution_count": 8,
   "id": "08e7aa38",
   "metadata": {},
   "outputs": [
    {
     "data": {
      "text/plain": [
       "3    Mexico\n",
       "4     India\n",
       "Name: Country, dtype: object"
      ]
     },
     "execution_count": 8,
     "metadata": {},
     "output_type": "execute_result"
    }
   ],
   "source": [
    "df10.iloc[[3,4],2]"
   ]
  },
  {
   "cell_type": "code",
   "execution_count": 9,
   "id": "59a26215",
   "metadata": {},
   "outputs": [
    {
     "data": {
      "text/plain": [
       "3    Mexico\n",
       "4     India\n",
       "Name: Country, dtype: object"
      ]
     },
     "execution_count": 9,
     "metadata": {},
     "output_type": "execute_result"
    }
   ],
   "source": [
    "df10.loc[[3,4],'Country']"
   ]
  },
  {
   "cell_type": "code",
   "execution_count": 10,
   "id": "7743a1ee",
   "metadata": {},
   "outputs": [
    {
     "data": {
      "text/plain": [
       "Mark     1\n",
       "Dave     1\n",
       "Corey    1\n",
       "Liza     1\n",
       "Mayur    1\n",
       "Name: Name, dtype: int64"
      ]
     },
     "execution_count": 10,
     "metadata": {},
     "output_type": "execute_result"
    }
   ],
   "source": [
    "df10['Name'].value_counts()"
   ]
  },
  {
   "cell_type": "code",
   "execution_count": 22,
   "id": "2614f5ee",
   "metadata": {},
   "outputs": [],
   "source": [
    "df10.set_index('Name',inplace=True)"
   ]
  },
  {
   "cell_type": "code",
   "execution_count": 23,
   "id": "3e652c9f",
   "metadata": {},
   "outputs": [
    {
     "data": {
      "text/html": [
       "<div>\n",
       "<style scoped>\n",
       "    .dataframe tbody tr th:only-of-type {\n",
       "        vertical-align: middle;\n",
       "    }\n",
       "\n",
       "    .dataframe tbody tr th {\n",
       "        vertical-align: top;\n",
       "    }\n",
       "\n",
       "    .dataframe thead th {\n",
       "        text-align: right;\n",
       "    }\n",
       "</style>\n",
       "<table border=\"1\" class=\"dataframe\">\n",
       "  <thead>\n",
       "    <tr style=\"text-align: right;\">\n",
       "      <th></th>\n",
       "      <th>Subject</th>\n",
       "      <th>Country</th>\n",
       "      <th>Fav_Celebrity</th>\n",
       "    </tr>\n",
       "    <tr>\n",
       "      <th>Name</th>\n",
       "      <th></th>\n",
       "      <th></th>\n",
       "      <th></th>\n",
       "    </tr>\n",
       "  </thead>\n",
       "  <tbody>\n",
       "    <tr>\n",
       "      <th>Mark</th>\n",
       "      <td>Economics</td>\n",
       "      <td>US</td>\n",
       "      <td>Obama</td>\n",
       "    </tr>\n",
       "    <tr>\n",
       "      <th>Dave</th>\n",
       "      <td>Botany</td>\n",
       "      <td>Sweden</td>\n",
       "      <td>Albert</td>\n",
       "    </tr>\n",
       "    <tr>\n",
       "      <th>Corey</th>\n",
       "      <td>Zoology</td>\n",
       "      <td>Germany</td>\n",
       "      <td>Newton</td>\n",
       "    </tr>\n",
       "    <tr>\n",
       "      <th>Liza</th>\n",
       "      <td>Physics</td>\n",
       "      <td>Mexico</td>\n",
       "      <td>Alfred</td>\n",
       "    </tr>\n",
       "    <tr>\n",
       "      <th>Mayur</th>\n",
       "      <td>AI</td>\n",
       "      <td>India</td>\n",
       "      <td>Ramanuja</td>\n",
       "    </tr>\n",
       "  </tbody>\n",
       "</table>\n",
       "</div>"
      ],
      "text/plain": [
       "         Subject  Country Fav_Celebrity\n",
       "Name                                   \n",
       "Mark   Economics       US         Obama\n",
       "Dave      Botany   Sweden        Albert\n",
       "Corey    Zoology  Germany        Newton\n",
       "Liza     Physics   Mexico        Alfred\n",
       "Mayur         AI    India      Ramanuja"
      ]
     },
     "execution_count": 23,
     "metadata": {},
     "output_type": "execute_result"
    }
   ],
   "source": [
    "df10"
   ]
  },
  {
   "cell_type": "code",
   "execution_count": 31,
   "id": "2ae9ba77",
   "metadata": {},
   "outputs": [],
   "source": [
    "df10.reset_index(inplace=True)"
   ]
  },
  {
   "cell_type": "code",
   "execution_count": 16,
   "id": "03c6d93e",
   "metadata": {},
   "outputs": [
    {
     "data": {
      "text/html": [
       "<div>\n",
       "<style scoped>\n",
       "    .dataframe tbody tr th:only-of-type {\n",
       "        vertical-align: middle;\n",
       "    }\n",
       "\n",
       "    .dataframe tbody tr th {\n",
       "        vertical-align: top;\n",
       "    }\n",
       "\n",
       "    .dataframe thead th {\n",
       "        text-align: right;\n",
       "    }\n",
       "</style>\n",
       "<table border=\"1\" class=\"dataframe\">\n",
       "  <thead>\n",
       "    <tr style=\"text-align: right;\">\n",
       "      <th></th>\n",
       "      <th>Name</th>\n",
       "      <th>Subject</th>\n",
       "      <th>Country</th>\n",
       "      <th>Fav_Celebrity</th>\n",
       "    </tr>\n",
       "  </thead>\n",
       "  <tbody>\n",
       "    <tr>\n",
       "      <th>0</th>\n",
       "      <td>Mark</td>\n",
       "      <td>Economics</td>\n",
       "      <td>US</td>\n",
       "      <td>Obama</td>\n",
       "    </tr>\n",
       "    <tr>\n",
       "      <th>1</th>\n",
       "      <td>Dave</td>\n",
       "      <td>Botany</td>\n",
       "      <td>Sweden</td>\n",
       "      <td>Albert</td>\n",
       "    </tr>\n",
       "    <tr>\n",
       "      <th>2</th>\n",
       "      <td>Corey</td>\n",
       "      <td>Zoology</td>\n",
       "      <td>Germany</td>\n",
       "      <td>Newton</td>\n",
       "    </tr>\n",
       "    <tr>\n",
       "      <th>3</th>\n",
       "      <td>Liza</td>\n",
       "      <td>Physics</td>\n",
       "      <td>Mexico</td>\n",
       "      <td>Alfred</td>\n",
       "    </tr>\n",
       "    <tr>\n",
       "      <th>4</th>\n",
       "      <td>Mayur</td>\n",
       "      <td>AI</td>\n",
       "      <td>India</td>\n",
       "      <td>Ramanuja</td>\n",
       "    </tr>\n",
       "  </tbody>\n",
       "</table>\n",
       "</div>"
      ],
      "text/plain": [
       "    Name    Subject  Country Fav_Celebrity\n",
       "0   Mark  Economics       US         Obama\n",
       "1   Dave     Botany   Sweden        Albert\n",
       "2  Corey    Zoology  Germany        Newton\n",
       "3   Liza    Physics   Mexico        Alfred\n",
       "4  Mayur         AI    India      Ramanuja"
      ]
     },
     "execution_count": 16,
     "metadata": {},
     "output_type": "execute_result"
    }
   ],
   "source": [
    "df10"
   ]
  },
  {
   "cell_type": "code",
   "execution_count": 17,
   "id": "a512380b",
   "metadata": {},
   "outputs": [
    {
     "data": {
      "text/html": [
       "<div>\n",
       "<style scoped>\n",
       "    .dataframe tbody tr th:only-of-type {\n",
       "        vertical-align: middle;\n",
       "    }\n",
       "\n",
       "    .dataframe tbody tr th {\n",
       "        vertical-align: top;\n",
       "    }\n",
       "\n",
       "    .dataframe thead th {\n",
       "        text-align: right;\n",
       "    }\n",
       "</style>\n",
       "<table border=\"1\" class=\"dataframe\">\n",
       "  <thead>\n",
       "    <tr style=\"text-align: right;\">\n",
       "      <th></th>\n",
       "      <th></th>\n",
       "      <th>Subject</th>\n",
       "      <th>Fav_Celebrity</th>\n",
       "    </tr>\n",
       "    <tr>\n",
       "      <th>Name</th>\n",
       "      <th>Country</th>\n",
       "      <th></th>\n",
       "      <th></th>\n",
       "    </tr>\n",
       "  </thead>\n",
       "  <tbody>\n",
       "    <tr>\n",
       "      <th>Mark</th>\n",
       "      <th>US</th>\n",
       "      <td>Economics</td>\n",
       "      <td>Obama</td>\n",
       "    </tr>\n",
       "    <tr>\n",
       "      <th>Dave</th>\n",
       "      <th>Sweden</th>\n",
       "      <td>Botany</td>\n",
       "      <td>Albert</td>\n",
       "    </tr>\n",
       "    <tr>\n",
       "      <th>Corey</th>\n",
       "      <th>Germany</th>\n",
       "      <td>Zoology</td>\n",
       "      <td>Newton</td>\n",
       "    </tr>\n",
       "    <tr>\n",
       "      <th>Liza</th>\n",
       "      <th>Mexico</th>\n",
       "      <td>Physics</td>\n",
       "      <td>Alfred</td>\n",
       "    </tr>\n",
       "    <tr>\n",
       "      <th>Mayur</th>\n",
       "      <th>India</th>\n",
       "      <td>AI</td>\n",
       "      <td>Ramanuja</td>\n",
       "    </tr>\n",
       "  </tbody>\n",
       "</table>\n",
       "</div>"
      ],
      "text/plain": [
       "                 Subject Fav_Celebrity\n",
       "Name  Country                         \n",
       "Mark  US       Economics         Obama\n",
       "Dave  Sweden      Botany        Albert\n",
       "Corey Germany    Zoology        Newton\n",
       "Liza  Mexico     Physics        Alfred\n",
       "Mayur India           AI      Ramanuja"
      ]
     },
     "execution_count": 17,
     "metadata": {},
     "output_type": "execute_result"
    }
   ],
   "source": [
    "df10.set_index(['Name','Country'])"
   ]
  },
  {
   "cell_type": "code",
   "execution_count": 20,
   "id": "cb28a70d",
   "metadata": {},
   "outputs": [
    {
     "data": {
      "text/plain": [
       "Name               Corey\n",
       "Subject          Zoology\n",
       "Country          Germany\n",
       "Fav_Celebrity     Newton\n",
       "Name: 2, dtype: object"
      ]
     },
     "execution_count": 20,
     "metadata": {},
     "output_type": "execute_result"
    }
   ],
   "source": [
    "df10.iloc[2]"
   ]
  },
  {
   "cell_type": "code",
   "execution_count": 24,
   "id": "6ae3e652",
   "metadata": {},
   "outputs": [
    {
     "data": {
      "text/html": [
       "<div>\n",
       "<style scoped>\n",
       "    .dataframe tbody tr th:only-of-type {\n",
       "        vertical-align: middle;\n",
       "    }\n",
       "\n",
       "    .dataframe tbody tr th {\n",
       "        vertical-align: top;\n",
       "    }\n",
       "\n",
       "    .dataframe thead th {\n",
       "        text-align: right;\n",
       "    }\n",
       "</style>\n",
       "<table border=\"1\" class=\"dataframe\">\n",
       "  <thead>\n",
       "    <tr style=\"text-align: right;\">\n",
       "      <th></th>\n",
       "      <th>Subject</th>\n",
       "      <th>Country</th>\n",
       "      <th>Fav_Celebrity</th>\n",
       "    </tr>\n",
       "    <tr>\n",
       "      <th>Name</th>\n",
       "      <th></th>\n",
       "      <th></th>\n",
       "      <th></th>\n",
       "    </tr>\n",
       "  </thead>\n",
       "  <tbody>\n",
       "    <tr>\n",
       "      <th>Corey</th>\n",
       "      <td>Zoology</td>\n",
       "      <td>Germany</td>\n",
       "      <td>Newton</td>\n",
       "    </tr>\n",
       "    <tr>\n",
       "      <th>Dave</th>\n",
       "      <td>Botany</td>\n",
       "      <td>Sweden</td>\n",
       "      <td>Albert</td>\n",
       "    </tr>\n",
       "    <tr>\n",
       "      <th>Liza</th>\n",
       "      <td>Physics</td>\n",
       "      <td>Mexico</td>\n",
       "      <td>Alfred</td>\n",
       "    </tr>\n",
       "    <tr>\n",
       "      <th>Mark</th>\n",
       "      <td>Economics</td>\n",
       "      <td>US</td>\n",
       "      <td>Obama</td>\n",
       "    </tr>\n",
       "    <tr>\n",
       "      <th>Mayur</th>\n",
       "      <td>AI</td>\n",
       "      <td>India</td>\n",
       "      <td>Ramanuja</td>\n",
       "    </tr>\n",
       "  </tbody>\n",
       "</table>\n",
       "</div>"
      ],
      "text/plain": [
       "         Subject  Country Fav_Celebrity\n",
       "Name                                   \n",
       "Corey    Zoology  Germany        Newton\n",
       "Dave      Botany   Sweden        Albert\n",
       "Liza     Physics   Mexico        Alfred\n",
       "Mark   Economics       US         Obama\n",
       "Mayur         AI    India      Ramanuja"
      ]
     },
     "execution_count": 24,
     "metadata": {},
     "output_type": "execute_result"
    }
   ],
   "source": [
    "df10.sort_index(ascending= True)"
   ]
  },
  {
   "cell_type": "code",
   "execution_count": 32,
   "id": "12678606",
   "metadata": {},
   "outputs": [
    {
     "data": {
      "text/plain": [
       "0    False\n",
       "1     True\n",
       "2    False\n",
       "3    False\n",
       "4    False\n",
       "dtype: bool"
      ]
     },
     "execution_count": 32,
     "metadata": {},
     "output_type": "execute_result"
    }
   ],
   "source": [
    "filt = (df10['Country']=='Sweden') & (df10['Subject']=='Botany')\n",
    "filt"
   ]
  },
  {
   "cell_type": "code",
   "execution_count": 33,
   "id": "89bcb035",
   "metadata": {},
   "outputs": [
    {
     "data": {
      "text/plain": [
       "1    Dave\n",
       "Name: Name, dtype: object"
      ]
     },
     "execution_count": 33,
     "metadata": {},
     "output_type": "execute_result"
    }
   ],
   "source": [
    "df10.loc[filt, 'Name']"
   ]
  },
  {
   "cell_type": "code",
   "execution_count": 36,
   "id": "3d12789b",
   "metadata": {},
   "outputs": [
    {
     "data": {
      "text/plain": [
       "0     Mark\n",
       "2    Corey\n",
       "3     Liza\n",
       "4    Mayur\n",
       "Name: Name, dtype: object"
      ]
     },
     "execution_count": 36,
     "metadata": {},
     "output_type": "execute_result"
    }
   ],
   "source": [
    "df10.loc[~filt, 'Name']"
   ]
  },
  {
   "cell_type": "code",
   "execution_count": 37,
   "id": "86d417bd",
   "metadata": {},
   "outputs": [],
   "source": [
    "list = ['India', 'Srilanka', 'Austria', 'Newzealand', 'Australia']"
   ]
  },
  {
   "cell_type": "code",
   "execution_count": 38,
   "id": "1dbec975",
   "metadata": {},
   "outputs": [
    {
     "data": {
      "text/plain": [
       "0    False\n",
       "1    False\n",
       "2    False\n",
       "3    False\n",
       "4     True\n",
       "Name: Country, dtype: bool"
      ]
     },
     "execution_count": 38,
     "metadata": {},
     "output_type": "execute_result"
    }
   ],
   "source": [
    "df10['Country'].isin(list)"
   ]
  },
  {
   "cell_type": "code",
   "execution_count": 40,
   "id": "5015779a",
   "metadata": {},
   "outputs": [
    {
     "data": {
      "text/html": [
       "<div>\n",
       "<style scoped>\n",
       "    .dataframe tbody tr th:only-of-type {\n",
       "        vertical-align: middle;\n",
       "    }\n",
       "\n",
       "    .dataframe tbody tr th {\n",
       "        vertical-align: top;\n",
       "    }\n",
       "\n",
       "    .dataframe thead th {\n",
       "        text-align: right;\n",
       "    }\n",
       "</style>\n",
       "<table border=\"1\" class=\"dataframe\">\n",
       "  <thead>\n",
       "    <tr style=\"text-align: right;\">\n",
       "      <th></th>\n",
       "      <th>Name</th>\n",
       "      <th>Subject</th>\n",
       "      <th>Country</th>\n",
       "      <th>Fav_Celebrity</th>\n",
       "    </tr>\n",
       "  </thead>\n",
       "  <tbody>\n",
       "    <tr>\n",
       "      <th>4</th>\n",
       "      <td>Mayur</td>\n",
       "      <td>AI</td>\n",
       "      <td>India</td>\n",
       "      <td>Ramanuja</td>\n",
       "    </tr>\n",
       "  </tbody>\n",
       "</table>\n",
       "</div>"
      ],
      "text/plain": [
       "    Name Subject Country Fav_Celebrity\n",
       "4  Mayur      AI   India      Ramanuja"
      ]
     },
     "execution_count": 40,
     "metadata": {},
     "output_type": "execute_result"
    }
   ],
   "source": [
    "df10.loc[df10['Country'].isin(list)]"
   ]
  },
  {
   "cell_type": "code",
   "execution_count": 41,
   "id": "349aee08",
   "metadata": {},
   "outputs": [
    {
     "data": {
      "text/html": [
       "<div>\n",
       "<style scoped>\n",
       "    .dataframe tbody tr th:only-of-type {\n",
       "        vertical-align: middle;\n",
       "    }\n",
       "\n",
       "    .dataframe tbody tr th {\n",
       "        vertical-align: top;\n",
       "    }\n",
       "\n",
       "    .dataframe thead th {\n",
       "        text-align: right;\n",
       "    }\n",
       "</style>\n",
       "<table border=\"1\" class=\"dataframe\">\n",
       "  <thead>\n",
       "    <tr style=\"text-align: right;\">\n",
       "      <th></th>\n",
       "      <th>Name</th>\n",
       "      <th>Subject</th>\n",
       "      <th>Country</th>\n",
       "      <th>Fav_Celebrity</th>\n",
       "    </tr>\n",
       "  </thead>\n",
       "  <tbody>\n",
       "    <tr>\n",
       "      <th>4</th>\n",
       "      <td>Mayur</td>\n",
       "      <td>AI</td>\n",
       "      <td>India</td>\n",
       "      <td>Ramanuja</td>\n",
       "    </tr>\n",
       "  </tbody>\n",
       "</table>\n",
       "</div>"
      ],
      "text/plain": [
       "    Name Subject Country Fav_Celebrity\n",
       "4  Mayur      AI   India      Ramanuja"
      ]
     },
     "execution_count": 41,
     "metadata": {},
     "output_type": "execute_result"
    }
   ],
   "source": [
    "df10[df10['Country'].isin(list)]"
   ]
  },
  {
   "cell_type": "code",
   "execution_count": 42,
   "id": "c040e6b4",
   "metadata": {},
   "outputs": [
    {
     "data": {
      "text/plain": [
       "4    Mayur\n",
       "Name: Name, dtype: object"
      ]
     },
     "execution_count": 42,
     "metadata": {},
     "output_type": "execute_result"
    }
   ],
   "source": [
    "df10[df10['Country'].isin(list)]['Name']"
   ]
  },
  {
   "cell_type": "code",
   "execution_count": 43,
   "id": "ef172fed",
   "metadata": {},
   "outputs": [
    {
     "data": {
      "text/plain": [
       "4    Mayur\n",
       "Name: Name, dtype: object"
      ]
     },
     "execution_count": 43,
     "metadata": {},
     "output_type": "execute_result"
    }
   ],
   "source": [
    "df10.loc[df10['Country'].isin(list)]['Name']"
   ]
  },
  {
   "cell_type": "code",
   "execution_count": 44,
   "id": "2935afd6",
   "metadata": {},
   "outputs": [
    {
     "data": {
      "text/plain": [
       "4    Mayur\n",
       "Name: Name, dtype: object"
      ]
     },
     "execution_count": 44,
     "metadata": {},
     "output_type": "execute_result"
    }
   ],
   "source": [
    "df10.loc[df10['Country'].isin(list),'Name']"
   ]
  },
  {
   "cell_type": "code",
   "execution_count": 47,
   "id": "1556bc87",
   "metadata": {},
   "outputs": [
    {
     "data": {
      "text/plain": [
       "Index(['Name', 'Subject', 'Country', 'Fav_Celebrity'], dtype='object')"
      ]
     },
     "execution_count": 47,
     "metadata": {},
     "output_type": "execute_result"
    }
   ],
   "source": [
    "df10.columns"
   ]
  },
  {
   "cell_type": "code",
   "execution_count": 48,
   "id": "4db5c323",
   "metadata": {},
   "outputs": [],
   "source": [
    "df10.columns=['Name','Subject','Country_born','Fav_Celebrity']"
   ]
  },
  {
   "cell_type": "code",
   "execution_count": 49,
   "id": "eda47f0c",
   "metadata": {},
   "outputs": [
    {
     "data": {
      "text/html": [
       "<div>\n",
       "<style scoped>\n",
       "    .dataframe tbody tr th:only-of-type {\n",
       "        vertical-align: middle;\n",
       "    }\n",
       "\n",
       "    .dataframe tbody tr th {\n",
       "        vertical-align: top;\n",
       "    }\n",
       "\n",
       "    .dataframe thead th {\n",
       "        text-align: right;\n",
       "    }\n",
       "</style>\n",
       "<table border=\"1\" class=\"dataframe\">\n",
       "  <thead>\n",
       "    <tr style=\"text-align: right;\">\n",
       "      <th></th>\n",
       "      <th>Name</th>\n",
       "      <th>Subject</th>\n",
       "      <th>Country_born</th>\n",
       "      <th>Fav_Celebrity</th>\n",
       "    </tr>\n",
       "  </thead>\n",
       "  <tbody>\n",
       "    <tr>\n",
       "      <th>0</th>\n",
       "      <td>Mark</td>\n",
       "      <td>Economics</td>\n",
       "      <td>US</td>\n",
       "      <td>Obama</td>\n",
       "    </tr>\n",
       "    <tr>\n",
       "      <th>1</th>\n",
       "      <td>Dave</td>\n",
       "      <td>Botany</td>\n",
       "      <td>Sweden</td>\n",
       "      <td>Albert</td>\n",
       "    </tr>\n",
       "    <tr>\n",
       "      <th>2</th>\n",
       "      <td>Corey</td>\n",
       "      <td>Zoology</td>\n",
       "      <td>Germany</td>\n",
       "      <td>Newton</td>\n",
       "    </tr>\n",
       "    <tr>\n",
       "      <th>3</th>\n",
       "      <td>Liza</td>\n",
       "      <td>Physics</td>\n",
       "      <td>Mexico</td>\n",
       "      <td>Alfred</td>\n",
       "    </tr>\n",
       "    <tr>\n",
       "      <th>4</th>\n",
       "      <td>Mayur</td>\n",
       "      <td>AI</td>\n",
       "      <td>India</td>\n",
       "      <td>Ramanuja</td>\n",
       "    </tr>\n",
       "  </tbody>\n",
       "</table>\n",
       "</div>"
      ],
      "text/plain": [
       "    Name    Subject Country_born Fav_Celebrity\n",
       "0   Mark  Economics           US         Obama\n",
       "1   Dave     Botany       Sweden        Albert\n",
       "2  Corey    Zoology      Germany        Newton\n",
       "3   Liza    Physics       Mexico        Alfred\n",
       "4  Mayur         AI        India      Ramanuja"
      ]
     },
     "execution_count": 49,
     "metadata": {},
     "output_type": "execute_result"
    }
   ],
   "source": [
    "df10"
   ]
  },
  {
   "cell_type": "code",
   "execution_count": 50,
   "id": "b3b02d6b",
   "metadata": {},
   "outputs": [],
   "source": [
    "df10.columns=[x.upper() for x in df10.columns]"
   ]
  },
  {
   "cell_type": "code",
   "execution_count": 51,
   "id": "cb1f8af9",
   "metadata": {},
   "outputs": [
    {
     "data": {
      "text/html": [
       "<div>\n",
       "<style scoped>\n",
       "    .dataframe tbody tr th:only-of-type {\n",
       "        vertical-align: middle;\n",
       "    }\n",
       "\n",
       "    .dataframe tbody tr th {\n",
       "        vertical-align: top;\n",
       "    }\n",
       "\n",
       "    .dataframe thead th {\n",
       "        text-align: right;\n",
       "    }\n",
       "</style>\n",
       "<table border=\"1\" class=\"dataframe\">\n",
       "  <thead>\n",
       "    <tr style=\"text-align: right;\">\n",
       "      <th></th>\n",
       "      <th>NAME</th>\n",
       "      <th>SUBJECT</th>\n",
       "      <th>COUNTRY_BORN</th>\n",
       "      <th>FAV_CELEBRITY</th>\n",
       "    </tr>\n",
       "  </thead>\n",
       "  <tbody>\n",
       "    <tr>\n",
       "      <th>0</th>\n",
       "      <td>Mark</td>\n",
       "      <td>Economics</td>\n",
       "      <td>US</td>\n",
       "      <td>Obama</td>\n",
       "    </tr>\n",
       "    <tr>\n",
       "      <th>1</th>\n",
       "      <td>Dave</td>\n",
       "      <td>Botany</td>\n",
       "      <td>Sweden</td>\n",
       "      <td>Albert</td>\n",
       "    </tr>\n",
       "    <tr>\n",
       "      <th>2</th>\n",
       "      <td>Corey</td>\n",
       "      <td>Zoology</td>\n",
       "      <td>Germany</td>\n",
       "      <td>Newton</td>\n",
       "    </tr>\n",
       "    <tr>\n",
       "      <th>3</th>\n",
       "      <td>Liza</td>\n",
       "      <td>Physics</td>\n",
       "      <td>Mexico</td>\n",
       "      <td>Alfred</td>\n",
       "    </tr>\n",
       "    <tr>\n",
       "      <th>4</th>\n",
       "      <td>Mayur</td>\n",
       "      <td>AI</td>\n",
       "      <td>India</td>\n",
       "      <td>Ramanuja</td>\n",
       "    </tr>\n",
       "  </tbody>\n",
       "</table>\n",
       "</div>"
      ],
      "text/plain": [
       "    NAME    SUBJECT COUNTRY_BORN FAV_CELEBRITY\n",
       "0   Mark  Economics           US         Obama\n",
       "1   Dave     Botany       Sweden        Albert\n",
       "2  Corey    Zoology      Germany        Newton\n",
       "3   Liza    Physics       Mexico        Alfred\n",
       "4  Mayur         AI        India      Ramanuja"
      ]
     },
     "execution_count": 51,
     "metadata": {},
     "output_type": "execute_result"
    }
   ],
   "source": [
    "df10"
   ]
  },
  {
   "cell_type": "code",
   "execution_count": 54,
   "id": "5ce36be3",
   "metadata": {},
   "outputs": [
    {
     "data": {
      "text/plain": [
       "['NAME', 'SUBJECT', 'COUNTRY_BORN', 'FAV_CELEBRITY']"
      ]
     },
     "execution_count": 54,
     "metadata": {},
     "output_type": "execute_result"
    }
   ],
   "source": [
    "[x.upper() for x in df10.columns]"
   ]
  },
  {
   "cell_type": "code",
   "execution_count": 55,
   "id": "81481204",
   "metadata": {},
   "outputs": [],
   "source": [
    "df10.columns = ['Student Name', 'Fav Subject', 'Country Born', 'Fav Celebrity']"
   ]
  },
  {
   "cell_type": "code",
   "execution_count": 58,
   "id": "32b636b6",
   "metadata": {},
   "outputs": [
    {
     "data": {
      "text/html": [
       "<div>\n",
       "<style scoped>\n",
       "    .dataframe tbody tr th:only-of-type {\n",
       "        vertical-align: middle;\n",
       "    }\n",
       "\n",
       "    .dataframe tbody tr th {\n",
       "        vertical-align: top;\n",
       "    }\n",
       "\n",
       "    .dataframe thead th {\n",
       "        text-align: right;\n",
       "    }\n",
       "</style>\n",
       "<table border=\"1\" class=\"dataframe\">\n",
       "  <thead>\n",
       "    <tr style=\"text-align: right;\">\n",
       "      <th></th>\n",
       "      <th>Student Name</th>\n",
       "      <th>Fav Subject</th>\n",
       "      <th>Country Born</th>\n",
       "      <th>Fav Celebrity</th>\n",
       "    </tr>\n",
       "  </thead>\n",
       "  <tbody>\n",
       "    <tr>\n",
       "      <th>0</th>\n",
       "      <td>Mark</td>\n",
       "      <td>Economics</td>\n",
       "      <td>US</td>\n",
       "      <td>Obama</td>\n",
       "    </tr>\n",
       "    <tr>\n",
       "      <th>1</th>\n",
       "      <td>Dave</td>\n",
       "      <td>Botany</td>\n",
       "      <td>Sweden</td>\n",
       "      <td>Albert</td>\n",
       "    </tr>\n",
       "    <tr>\n",
       "      <th>2</th>\n",
       "      <td>Corey</td>\n",
       "      <td>Zoology</td>\n",
       "      <td>Germany</td>\n",
       "      <td>Newton</td>\n",
       "    </tr>\n",
       "    <tr>\n",
       "      <th>3</th>\n",
       "      <td>Liza</td>\n",
       "      <td>Physics</td>\n",
       "      <td>Mexico</td>\n",
       "      <td>Alfred</td>\n",
       "    </tr>\n",
       "    <tr>\n",
       "      <th>4</th>\n",
       "      <td>Mayur</td>\n",
       "      <td>AI</td>\n",
       "      <td>India</td>\n",
       "      <td>Ramanuja</td>\n",
       "    </tr>\n",
       "  </tbody>\n",
       "</table>\n",
       "</div>"
      ],
      "text/plain": [
       "  Student Name Fav Subject Country Born Fav Celebrity\n",
       "0         Mark   Economics           US         Obama\n",
       "1         Dave      Botany       Sweden        Albert\n",
       "2        Corey     Zoology      Germany        Newton\n",
       "3         Liza     Physics       Mexico        Alfred\n",
       "4        Mayur          AI        India      Ramanuja"
      ]
     },
     "execution_count": 58,
     "metadata": {},
     "output_type": "execute_result"
    }
   ],
   "source": [
    "df10"
   ]
  },
  {
   "cell_type": "code",
   "execution_count": 72,
   "id": "922ceb95",
   "metadata": {},
   "outputs": [],
   "source": [
    "df10.columns = df10.columns.str.replace(' ', '_')"
   ]
  },
  {
   "cell_type": "code",
   "execution_count": 73,
   "id": "058a6999",
   "metadata": {},
   "outputs": [
    {
     "data": {
      "text/html": [
       "<div>\n",
       "<style scoped>\n",
       "    .dataframe tbody tr th:only-of-type {\n",
       "        vertical-align: middle;\n",
       "    }\n",
       "\n",
       "    .dataframe tbody tr th {\n",
       "        vertical-align: top;\n",
       "    }\n",
       "\n",
       "    .dataframe thead th {\n",
       "        text-align: right;\n",
       "    }\n",
       "</style>\n",
       "<table border=\"1\" class=\"dataframe\">\n",
       "  <thead>\n",
       "    <tr style=\"text-align: right;\">\n",
       "      <th></th>\n",
       "      <th>Student_Name</th>\n",
       "      <th>Fav_Subject</th>\n",
       "      <th>Country_Born</th>\n",
       "      <th>Fav_Celebrity</th>\n",
       "    </tr>\n",
       "  </thead>\n",
       "  <tbody>\n",
       "    <tr>\n",
       "      <th>0</th>\n",
       "      <td>Mark</td>\n",
       "      <td>Economics</td>\n",
       "      <td>US</td>\n",
       "      <td>Obama</td>\n",
       "    </tr>\n",
       "    <tr>\n",
       "      <th>1</th>\n",
       "      <td>Dave</td>\n",
       "      <td>Botany</td>\n",
       "      <td>Sweden</td>\n",
       "      <td>Albert</td>\n",
       "    </tr>\n",
       "    <tr>\n",
       "      <th>2</th>\n",
       "      <td>Corey</td>\n",
       "      <td>Zoology</td>\n",
       "      <td>Germany</td>\n",
       "      <td>Newton</td>\n",
       "    </tr>\n",
       "    <tr>\n",
       "      <th>3</th>\n",
       "      <td>Liza</td>\n",
       "      <td>Physics</td>\n",
       "      <td>Mexico</td>\n",
       "      <td>Alfred</td>\n",
       "    </tr>\n",
       "    <tr>\n",
       "      <th>4</th>\n",
       "      <td>Mayur</td>\n",
       "      <td>AI</td>\n",
       "      <td>India</td>\n",
       "      <td>Ramanuja</td>\n",
       "    </tr>\n",
       "  </tbody>\n",
       "</table>\n",
       "</div>"
      ],
      "text/plain": [
       "  Student_Name Fav_Subject Country_Born Fav_Celebrity\n",
       "0         Mark   Economics           US         Obama\n",
       "1         Dave      Botany       Sweden        Albert\n",
       "2        Corey     Zoology      Germany        Newton\n",
       "3         Liza     Physics       Mexico        Alfred\n",
       "4        Mayur          AI        India      Ramanuja"
      ]
     },
     "execution_count": 73,
     "metadata": {},
     "output_type": "execute_result"
    }
   ],
   "source": [
    "df10"
   ]
  },
  {
   "cell_type": "code",
   "execution_count": 74,
   "id": "2e8908c2",
   "metadata": {},
   "outputs": [],
   "source": [
    "# incase not all column names to be changed\n",
    "\n",
    "df10.rename(columns={'Student_Name':'Student', 'Country_Born':'Country'}, inplace = True)"
   ]
  },
  {
   "cell_type": "code",
   "execution_count": 75,
   "id": "08f0781f",
   "metadata": {},
   "outputs": [
    {
     "data": {
      "text/html": [
       "<div>\n",
       "<style scoped>\n",
       "    .dataframe tbody tr th:only-of-type {\n",
       "        vertical-align: middle;\n",
       "    }\n",
       "\n",
       "    .dataframe tbody tr th {\n",
       "        vertical-align: top;\n",
       "    }\n",
       "\n",
       "    .dataframe thead th {\n",
       "        text-align: right;\n",
       "    }\n",
       "</style>\n",
       "<table border=\"1\" class=\"dataframe\">\n",
       "  <thead>\n",
       "    <tr style=\"text-align: right;\">\n",
       "      <th></th>\n",
       "      <th>Student</th>\n",
       "      <th>Fav_Subject</th>\n",
       "      <th>Country</th>\n",
       "      <th>Fav_Celebrity</th>\n",
       "    </tr>\n",
       "  </thead>\n",
       "  <tbody>\n",
       "    <tr>\n",
       "      <th>0</th>\n",
       "      <td>Mark</td>\n",
       "      <td>Economics</td>\n",
       "      <td>US</td>\n",
       "      <td>Obama</td>\n",
       "    </tr>\n",
       "    <tr>\n",
       "      <th>1</th>\n",
       "      <td>Dave</td>\n",
       "      <td>Botany</td>\n",
       "      <td>Sweden</td>\n",
       "      <td>Albert</td>\n",
       "    </tr>\n",
       "    <tr>\n",
       "      <th>2</th>\n",
       "      <td>Corey</td>\n",
       "      <td>Zoology</td>\n",
       "      <td>Germany</td>\n",
       "      <td>Newton</td>\n",
       "    </tr>\n",
       "    <tr>\n",
       "      <th>3</th>\n",
       "      <td>Liza</td>\n",
       "      <td>Physics</td>\n",
       "      <td>Mexico</td>\n",
       "      <td>Alfred</td>\n",
       "    </tr>\n",
       "    <tr>\n",
       "      <th>4</th>\n",
       "      <td>Mayur</td>\n",
       "      <td>AI</td>\n",
       "      <td>India</td>\n",
       "      <td>Ramanuja</td>\n",
       "    </tr>\n",
       "  </tbody>\n",
       "</table>\n",
       "</div>"
      ],
      "text/plain": [
       "  Student Fav_Subject  Country Fav_Celebrity\n",
       "0    Mark   Economics       US         Obama\n",
       "1    Dave      Botany   Sweden        Albert\n",
       "2   Corey     Zoology  Germany        Newton\n",
       "3    Liza     Physics   Mexico        Alfred\n",
       "4   Mayur          AI    India      Ramanuja"
      ]
     },
     "execution_count": 75,
     "metadata": {},
     "output_type": "execute_result"
    }
   ],
   "source": [
    "df10"
   ]
  },
  {
   "cell_type": "code",
   "execution_count": 78,
   "id": "186dfb14",
   "metadata": {},
   "outputs": [],
   "source": [
    "# renaming country & fav_subject for Dave\n",
    "\n",
    "df10.loc[1,['Fav_Subject','Country']] = ['Mathematics', 'Denmark']"
   ]
  },
  {
   "cell_type": "code",
   "execution_count": 79,
   "id": "7918feac",
   "metadata": {},
   "outputs": [
    {
     "data": {
      "text/html": [
       "<div>\n",
       "<style scoped>\n",
       "    .dataframe tbody tr th:only-of-type {\n",
       "        vertical-align: middle;\n",
       "    }\n",
       "\n",
       "    .dataframe tbody tr th {\n",
       "        vertical-align: top;\n",
       "    }\n",
       "\n",
       "    .dataframe thead th {\n",
       "        text-align: right;\n",
       "    }\n",
       "</style>\n",
       "<table border=\"1\" class=\"dataframe\">\n",
       "  <thead>\n",
       "    <tr style=\"text-align: right;\">\n",
       "      <th></th>\n",
       "      <th>Student</th>\n",
       "      <th>Fav_Subject</th>\n",
       "      <th>Country</th>\n",
       "      <th>Fav_Celebrity</th>\n",
       "    </tr>\n",
       "  </thead>\n",
       "  <tbody>\n",
       "    <tr>\n",
       "      <th>0</th>\n",
       "      <td>Mark</td>\n",
       "      <td>Economics</td>\n",
       "      <td>US</td>\n",
       "      <td>Obama</td>\n",
       "    </tr>\n",
       "    <tr>\n",
       "      <th>1</th>\n",
       "      <td>Dave</td>\n",
       "      <td>Mathematics</td>\n",
       "      <td>Denmark</td>\n",
       "      <td>Albert</td>\n",
       "    </tr>\n",
       "    <tr>\n",
       "      <th>2</th>\n",
       "      <td>Corey</td>\n",
       "      <td>Zoology</td>\n",
       "      <td>Germany</td>\n",
       "      <td>Newton</td>\n",
       "    </tr>\n",
       "    <tr>\n",
       "      <th>3</th>\n",
       "      <td>Liza</td>\n",
       "      <td>Physics</td>\n",
       "      <td>Mexico</td>\n",
       "      <td>Alfred</td>\n",
       "    </tr>\n",
       "    <tr>\n",
       "      <th>4</th>\n",
       "      <td>Mayur</td>\n",
       "      <td>AI</td>\n",
       "      <td>India</td>\n",
       "      <td>Ramanuja</td>\n",
       "    </tr>\n",
       "  </tbody>\n",
       "</table>\n",
       "</div>"
      ],
      "text/plain": [
       "  Student  Fav_Subject  Country Fav_Celebrity\n",
       "0    Mark    Economics       US         Obama\n",
       "1    Dave  Mathematics  Denmark        Albert\n",
       "2   Corey      Zoology  Germany        Newton\n",
       "3    Liza      Physics   Mexico        Alfred\n",
       "4   Mayur           AI    India      Ramanuja"
      ]
     },
     "execution_count": 79,
     "metadata": {},
     "output_type": "execute_result"
    }
   ],
   "source": [
    "df10"
   ]
  },
  {
   "cell_type": "code",
   "execution_count": 81,
   "id": "8d0cd4bb",
   "metadata": {},
   "outputs": [],
   "source": [
    "df10.at[2,'Fav_Subject'] = 'Computer Science'"
   ]
  },
  {
   "cell_type": "code",
   "execution_count": 82,
   "id": "7a21277d",
   "metadata": {},
   "outputs": [
    {
     "data": {
      "text/html": [
       "<div>\n",
       "<style scoped>\n",
       "    .dataframe tbody tr th:only-of-type {\n",
       "        vertical-align: middle;\n",
       "    }\n",
       "\n",
       "    .dataframe tbody tr th {\n",
       "        vertical-align: top;\n",
       "    }\n",
       "\n",
       "    .dataframe thead th {\n",
       "        text-align: right;\n",
       "    }\n",
       "</style>\n",
       "<table border=\"1\" class=\"dataframe\">\n",
       "  <thead>\n",
       "    <tr style=\"text-align: right;\">\n",
       "      <th></th>\n",
       "      <th>Student</th>\n",
       "      <th>Fav_Subject</th>\n",
       "      <th>Country</th>\n",
       "      <th>Fav_Celebrity</th>\n",
       "    </tr>\n",
       "  </thead>\n",
       "  <tbody>\n",
       "    <tr>\n",
       "      <th>0</th>\n",
       "      <td>Mark</td>\n",
       "      <td>Economics</td>\n",
       "      <td>US</td>\n",
       "      <td>Obama</td>\n",
       "    </tr>\n",
       "    <tr>\n",
       "      <th>1</th>\n",
       "      <td>Dave</td>\n",
       "      <td>Mathematics</td>\n",
       "      <td>Denmark</td>\n",
       "      <td>Albert</td>\n",
       "    </tr>\n",
       "    <tr>\n",
       "      <th>2</th>\n",
       "      <td>Corey</td>\n",
       "      <td>Computer Science</td>\n",
       "      <td>Germany</td>\n",
       "      <td>Newton</td>\n",
       "    </tr>\n",
       "    <tr>\n",
       "      <th>3</th>\n",
       "      <td>Liza</td>\n",
       "      <td>Physics</td>\n",
       "      <td>Mexico</td>\n",
       "      <td>Alfred</td>\n",
       "    </tr>\n",
       "    <tr>\n",
       "      <th>4</th>\n",
       "      <td>Mayur</td>\n",
       "      <td>AI</td>\n",
       "      <td>India</td>\n",
       "      <td>Ramanuja</td>\n",
       "    </tr>\n",
       "  </tbody>\n",
       "</table>\n",
       "</div>"
      ],
      "text/plain": [
       "  Student       Fav_Subject  Country Fav_Celebrity\n",
       "0    Mark         Economics       US         Obama\n",
       "1    Dave       Mathematics  Denmark        Albert\n",
       "2   Corey  Computer Science  Germany        Newton\n",
       "3    Liza           Physics   Mexico        Alfred\n",
       "4   Mayur                AI    India      Ramanuja"
      ]
     },
     "execution_count": 82,
     "metadata": {},
     "output_type": "execute_result"
    }
   ],
   "source": [
    "df10"
   ]
  },
  {
   "cell_type": "code",
   "execution_count": 83,
   "id": "d2a74fd3",
   "metadata": {},
   "outputs": [],
   "source": [
    "def update_name(name):\n",
    "    return name.upper()"
   ]
  },
  {
   "cell_type": "code",
   "execution_count": 86,
   "id": "0a4015a1",
   "metadata": {},
   "outputs": [],
   "source": [
    "df10['Student'] = df10['Student'].apply(update_name)"
   ]
  },
  {
   "cell_type": "code",
   "execution_count": 87,
   "id": "474582e4",
   "metadata": {},
   "outputs": [
    {
     "data": {
      "text/html": [
       "<div>\n",
       "<style scoped>\n",
       "    .dataframe tbody tr th:only-of-type {\n",
       "        vertical-align: middle;\n",
       "    }\n",
       "\n",
       "    .dataframe tbody tr th {\n",
       "        vertical-align: top;\n",
       "    }\n",
       "\n",
       "    .dataframe thead th {\n",
       "        text-align: right;\n",
       "    }\n",
       "</style>\n",
       "<table border=\"1\" class=\"dataframe\">\n",
       "  <thead>\n",
       "    <tr style=\"text-align: right;\">\n",
       "      <th></th>\n",
       "      <th>Student</th>\n",
       "      <th>Fav_Subject</th>\n",
       "      <th>Country</th>\n",
       "      <th>Fav_Celebrity</th>\n",
       "    </tr>\n",
       "  </thead>\n",
       "  <tbody>\n",
       "    <tr>\n",
       "      <th>0</th>\n",
       "      <td>MARK</td>\n",
       "      <td>Economics</td>\n",
       "      <td>US</td>\n",
       "      <td>Obama</td>\n",
       "    </tr>\n",
       "    <tr>\n",
       "      <th>1</th>\n",
       "      <td>DAVE</td>\n",
       "      <td>Mathematics</td>\n",
       "      <td>Denmark</td>\n",
       "      <td>Albert</td>\n",
       "    </tr>\n",
       "    <tr>\n",
       "      <th>2</th>\n",
       "      <td>COREY</td>\n",
       "      <td>Computer Science</td>\n",
       "      <td>Germany</td>\n",
       "      <td>Newton</td>\n",
       "    </tr>\n",
       "    <tr>\n",
       "      <th>3</th>\n",
       "      <td>LIZA</td>\n",
       "      <td>Physics</td>\n",
       "      <td>Mexico</td>\n",
       "      <td>Alfred</td>\n",
       "    </tr>\n",
       "    <tr>\n",
       "      <th>4</th>\n",
       "      <td>MAYUR</td>\n",
       "      <td>AI</td>\n",
       "      <td>India</td>\n",
       "      <td>Ramanuja</td>\n",
       "    </tr>\n",
       "  </tbody>\n",
       "</table>\n",
       "</div>"
      ],
      "text/plain": [
       "  Student       Fav_Subject  Country Fav_Celebrity\n",
       "0    MARK         Economics       US         Obama\n",
       "1    DAVE       Mathematics  Denmark        Albert\n",
       "2   COREY  Computer Science  Germany        Newton\n",
       "3    LIZA           Physics   Mexico        Alfred\n",
       "4   MAYUR                AI    India      Ramanuja"
      ]
     },
     "execution_count": 87,
     "metadata": {},
     "output_type": "execute_result"
    }
   ],
   "source": [
    "df10"
   ]
  },
  {
   "cell_type": "markdown",
   "id": "cc2af1bd",
   "metadata": {},
   "source": [
    "Here's how the apply() function works:\n",
    "\n",
    "It takes as an argument the function you want to apply to each element of the Series or column. In your case, the function is update_name.\n",
    "\n",
    "The apply() function iterates over each element of the Series or column and applies the specified function to it.\n",
    "\n",
    "The result of the function is assigned to the corresponding element in the resulting Series or column.\n",
    "\n",
    "In our specific example, df10['Student'].apply(update_name), it implies that there is a function called update_name defined elsewhere. This function is applied to each element in the 'Student' column of df10. The result is a new Series or column with the updated values.\n",
    "\n",
    "The apply() function is often used when you want to perform some transformation or computation on each element of a Series or column, and you want to store the result in a new Series or column. It provides a convenient way to apply custom functions to your data.\n",
    "\n",
    "\n",
    "\n",
    "\n",
    "\n"
   ]
  },
  {
   "cell_type": "code",
   "execution_count": 90,
   "id": "13098f53",
   "metadata": {},
   "outputs": [],
   "source": [
    "# Using lamda functions\n",
    "\n",
    "df10['Fav_Subject'] = df10['Fav_Subject'].apply(lambda x:x.upper())"
   ]
  },
  {
   "cell_type": "code",
   "execution_count": 91,
   "id": "a00cbd2b",
   "metadata": {},
   "outputs": [
    {
     "data": {
      "text/html": [
       "<div>\n",
       "<style scoped>\n",
       "    .dataframe tbody tr th:only-of-type {\n",
       "        vertical-align: middle;\n",
       "    }\n",
       "\n",
       "    .dataframe tbody tr th {\n",
       "        vertical-align: top;\n",
       "    }\n",
       "\n",
       "    .dataframe thead th {\n",
       "        text-align: right;\n",
       "    }\n",
       "</style>\n",
       "<table border=\"1\" class=\"dataframe\">\n",
       "  <thead>\n",
       "    <tr style=\"text-align: right;\">\n",
       "      <th></th>\n",
       "      <th>Student</th>\n",
       "      <th>Fav_Subject</th>\n",
       "      <th>Country</th>\n",
       "      <th>Fav_Celebrity</th>\n",
       "    </tr>\n",
       "  </thead>\n",
       "  <tbody>\n",
       "    <tr>\n",
       "      <th>0</th>\n",
       "      <td>MARK</td>\n",
       "      <td>ECONOMICS</td>\n",
       "      <td>US</td>\n",
       "      <td>Obama</td>\n",
       "    </tr>\n",
       "    <tr>\n",
       "      <th>1</th>\n",
       "      <td>DAVE</td>\n",
       "      <td>MATHEMATICS</td>\n",
       "      <td>Denmark</td>\n",
       "      <td>Albert</td>\n",
       "    </tr>\n",
       "    <tr>\n",
       "      <th>2</th>\n",
       "      <td>COREY</td>\n",
       "      <td>COMPUTER SCIENCE</td>\n",
       "      <td>Germany</td>\n",
       "      <td>Newton</td>\n",
       "    </tr>\n",
       "    <tr>\n",
       "      <th>3</th>\n",
       "      <td>LIZA</td>\n",
       "      <td>PHYSICS</td>\n",
       "      <td>Mexico</td>\n",
       "      <td>Alfred</td>\n",
       "    </tr>\n",
       "    <tr>\n",
       "      <th>4</th>\n",
       "      <td>MAYUR</td>\n",
       "      <td>AI</td>\n",
       "      <td>India</td>\n",
       "      <td>Ramanuja</td>\n",
       "    </tr>\n",
       "  </tbody>\n",
       "</table>\n",
       "</div>"
      ],
      "text/plain": [
       "  Student       Fav_Subject  Country Fav_Celebrity\n",
       "0    MARK         ECONOMICS       US         Obama\n",
       "1    DAVE       MATHEMATICS  Denmark        Albert\n",
       "2   COREY  COMPUTER SCIENCE  Germany        Newton\n",
       "3    LIZA           PHYSICS   Mexico        Alfred\n",
       "4   MAYUR                AI    India      Ramanuja"
      ]
     },
     "execution_count": 91,
     "metadata": {},
     "output_type": "execute_result"
    }
   ],
   "source": [
    "df10"
   ]
  },
  {
   "cell_type": "code",
   "execution_count": 99,
   "id": "f26ba5e5",
   "metadata": {},
   "outputs": [
    {
     "data": {
      "text/html": [
       "<div>\n",
       "<style scoped>\n",
       "    .dataframe tbody tr th:only-of-type {\n",
       "        vertical-align: middle;\n",
       "    }\n",
       "\n",
       "    .dataframe tbody tr th {\n",
       "        vertical-align: top;\n",
       "    }\n",
       "\n",
       "    .dataframe thead th {\n",
       "        text-align: right;\n",
       "    }\n",
       "</style>\n",
       "<table border=\"1\" class=\"dataframe\">\n",
       "  <thead>\n",
       "    <tr style=\"text-align: right;\">\n",
       "      <th></th>\n",
       "      <th>Student</th>\n",
       "      <th>Fav_Subject</th>\n",
       "      <th>Country</th>\n",
       "      <th>Fav_Celebrity</th>\n",
       "    </tr>\n",
       "  </thead>\n",
       "  <tbody>\n",
       "    <tr>\n",
       "      <th>0</th>\n",
       "      <td>mark</td>\n",
       "      <td>economics</td>\n",
       "      <td>us</td>\n",
       "      <td>obama</td>\n",
       "    </tr>\n",
       "    <tr>\n",
       "      <th>1</th>\n",
       "      <td>dave</td>\n",
       "      <td>mathematics</td>\n",
       "      <td>denmark</td>\n",
       "      <td>albert</td>\n",
       "    </tr>\n",
       "    <tr>\n",
       "      <th>2</th>\n",
       "      <td>corey</td>\n",
       "      <td>computer science</td>\n",
       "      <td>germany</td>\n",
       "      <td>newton</td>\n",
       "    </tr>\n",
       "    <tr>\n",
       "      <th>3</th>\n",
       "      <td>liza</td>\n",
       "      <td>physics</td>\n",
       "      <td>mexico</td>\n",
       "      <td>alfred</td>\n",
       "    </tr>\n",
       "    <tr>\n",
       "      <th>4</th>\n",
       "      <td>mayur</td>\n",
       "      <td>ai</td>\n",
       "      <td>india</td>\n",
       "      <td>ramanuja</td>\n",
       "    </tr>\n",
       "  </tbody>\n",
       "</table>\n",
       "</div>"
      ],
      "text/plain": [
       "  Student       Fav_Subject  Country Fav_Celebrity\n",
       "0    mark         economics       us         obama\n",
       "1    dave       mathematics  denmark        albert\n",
       "2   corey  computer science  germany        newton\n",
       "3    liza           physics   mexico        alfred\n",
       "4   mayur                ai    india      ramanuja"
      ]
     },
     "execution_count": 99,
     "metadata": {},
     "output_type": "execute_result"
    }
   ],
   "source": [
    "df10.applymap(str.lower) \n",
    "\n",
    "# Apply a function to a Dataframe elementwise.\n",
    "# This method applies a function that accepts and returns a scalar\n",
    "# to every element of a DataFrame."
   ]
  },
  {
   "cell_type": "markdown",
   "id": "0d0a0f8a",
   "metadata": {},
   "source": [
    "The applymap() function in pandas is used to apply a function element-wise to each cell of a DataFrame. It operates on each individual value in the DataFrame, as opposed to apply() which operates on columns or rows.\n",
    "\n",
    "Here's how the applymap() function works:\n",
    "\n",
    "It takes as an argument the function you want to apply to each cell of the DataFrame.\n",
    "\n",
    "The applymap() function iterates over each cell of the DataFrame and applies the specified function to it.\n",
    "\n",
    "The result of the function is assigned to the corresponding cell in the resulting DataFrame."
   ]
  },
  {
   "cell_type": "code",
   "execution_count": 100,
   "id": "a99e6ee6",
   "metadata": {},
   "outputs": [
    {
     "data": {
      "text/html": [
       "<div>\n",
       "<style scoped>\n",
       "    .dataframe tbody tr th:only-of-type {\n",
       "        vertical-align: middle;\n",
       "    }\n",
       "\n",
       "    .dataframe tbody tr th {\n",
       "        vertical-align: top;\n",
       "    }\n",
       "\n",
       "    .dataframe thead th {\n",
       "        text-align: right;\n",
       "    }\n",
       "</style>\n",
       "<table border=\"1\" class=\"dataframe\">\n",
       "  <thead>\n",
       "    <tr style=\"text-align: right;\">\n",
       "      <th></th>\n",
       "      <th>Student</th>\n",
       "      <th>Fav_Subject</th>\n",
       "      <th>Country</th>\n",
       "      <th>Fav_Celebrity</th>\n",
       "    </tr>\n",
       "  </thead>\n",
       "  <tbody>\n",
       "    <tr>\n",
       "      <th>0</th>\n",
       "      <td>MARK</td>\n",
       "      <td>ECONOMICS</td>\n",
       "      <td>US</td>\n",
       "      <td>Obama</td>\n",
       "    </tr>\n",
       "    <tr>\n",
       "      <th>1</th>\n",
       "      <td>DAVE</td>\n",
       "      <td>MATHEMATICS</td>\n",
       "      <td>Denmark</td>\n",
       "      <td>Albert</td>\n",
       "    </tr>\n",
       "    <tr>\n",
       "      <th>2</th>\n",
       "      <td>COREY</td>\n",
       "      <td>COMPUTER SCIENCE</td>\n",
       "      <td>Germany</td>\n",
       "      <td>Newton</td>\n",
       "    </tr>\n",
       "    <tr>\n",
       "      <th>3</th>\n",
       "      <td>LIZA</td>\n",
       "      <td>PHYSICS</td>\n",
       "      <td>Mexico</td>\n",
       "      <td>Alfred</td>\n",
       "    </tr>\n",
       "    <tr>\n",
       "      <th>4</th>\n",
       "      <td>MAYUR</td>\n",
       "      <td>AI</td>\n",
       "      <td>India</td>\n",
       "      <td>Ramanuja</td>\n",
       "    </tr>\n",
       "  </tbody>\n",
       "</table>\n",
       "</div>"
      ],
      "text/plain": [
       "  Student       Fav_Subject  Country Fav_Celebrity\n",
       "0    MARK         ECONOMICS       US         Obama\n",
       "1    DAVE       MATHEMATICS  Denmark        Albert\n",
       "2   COREY  COMPUTER SCIENCE  Germany        Newton\n",
       "3    LIZA           PHYSICS   Mexico        Alfred\n",
       "4   MAYUR                AI    India      Ramanuja"
      ]
     },
     "execution_count": 100,
     "metadata": {},
     "output_type": "execute_result"
    }
   ],
   "source": [
    "df10"
   ]
  },
  {
   "cell_type": "code",
   "execution_count": 101,
   "id": "0f7d08c2",
   "metadata": {},
   "outputs": [
    {
     "data": {
      "text/plain": [
       "0    Mathew\n",
       "1     David\n",
       "2       NaN\n",
       "3       NaN\n",
       "4       NaN\n",
       "Name: Student, dtype: object"
      ]
     },
     "execution_count": 101,
     "metadata": {},
     "output_type": "execute_result"
    }
   ],
   "source": [
    "df10['Student'].map({'MARK':'Mathew', 'DAVE':'David'})"
   ]
  },
  {
   "cell_type": "code",
   "execution_count": 102,
   "id": "df5b7ce0",
   "metadata": {},
   "outputs": [
    {
     "data": {
      "text/html": [
       "<div>\n",
       "<style scoped>\n",
       "    .dataframe tbody tr th:only-of-type {\n",
       "        vertical-align: middle;\n",
       "    }\n",
       "\n",
       "    .dataframe tbody tr th {\n",
       "        vertical-align: top;\n",
       "    }\n",
       "\n",
       "    .dataframe thead th {\n",
       "        text-align: right;\n",
       "    }\n",
       "</style>\n",
       "<table border=\"1\" class=\"dataframe\">\n",
       "  <thead>\n",
       "    <tr style=\"text-align: right;\">\n",
       "      <th></th>\n",
       "      <th>Student</th>\n",
       "      <th>Fav_Subject</th>\n",
       "      <th>Country</th>\n",
       "      <th>Fav_Celebrity</th>\n",
       "    </tr>\n",
       "  </thead>\n",
       "  <tbody>\n",
       "    <tr>\n",
       "      <th>0</th>\n",
       "      <td>MARK</td>\n",
       "      <td>ECONOMICS</td>\n",
       "      <td>US</td>\n",
       "      <td>Obama</td>\n",
       "    </tr>\n",
       "    <tr>\n",
       "      <th>1</th>\n",
       "      <td>DAVE</td>\n",
       "      <td>MATHEMATICS</td>\n",
       "      <td>Denmark</td>\n",
       "      <td>Albert</td>\n",
       "    </tr>\n",
       "    <tr>\n",
       "      <th>2</th>\n",
       "      <td>COREY</td>\n",
       "      <td>COMPUTER SCIENCE</td>\n",
       "      <td>Germany</td>\n",
       "      <td>Newton</td>\n",
       "    </tr>\n",
       "    <tr>\n",
       "      <th>3</th>\n",
       "      <td>LIZA</td>\n",
       "      <td>PHYSICS</td>\n",
       "      <td>Mexico</td>\n",
       "      <td>Alfred</td>\n",
       "    </tr>\n",
       "    <tr>\n",
       "      <th>4</th>\n",
       "      <td>MAYUR</td>\n",
       "      <td>AI</td>\n",
       "      <td>India</td>\n",
       "      <td>Ramanuja</td>\n",
       "    </tr>\n",
       "  </tbody>\n",
       "</table>\n",
       "</div>"
      ],
      "text/plain": [
       "  Student       Fav_Subject  Country Fav_Celebrity\n",
       "0    MARK         ECONOMICS       US         Obama\n",
       "1    DAVE       MATHEMATICS  Denmark        Albert\n",
       "2   COREY  COMPUTER SCIENCE  Germany        Newton\n",
       "3    LIZA           PHYSICS   Mexico        Alfred\n",
       "4   MAYUR                AI    India      Ramanuja"
      ]
     },
     "execution_count": 102,
     "metadata": {},
     "output_type": "execute_result"
    }
   ],
   "source": [
    "df10"
   ]
  },
  {
   "cell_type": "code",
   "execution_count": 107,
   "id": "290bcd39",
   "metadata": {},
   "outputs": [],
   "source": [
    "df10.rename(columns={'Student':'First_Name'}, inplace=True)"
   ]
  },
  {
   "cell_type": "code",
   "execution_count": 108,
   "id": "5ddba841",
   "metadata": {},
   "outputs": [
    {
     "data": {
      "text/html": [
       "<div>\n",
       "<style scoped>\n",
       "    .dataframe tbody tr th:only-of-type {\n",
       "        vertical-align: middle;\n",
       "    }\n",
       "\n",
       "    .dataframe tbody tr th {\n",
       "        vertical-align: top;\n",
       "    }\n",
       "\n",
       "    .dataframe thead th {\n",
       "        text-align: right;\n",
       "    }\n",
       "</style>\n",
       "<table border=\"1\" class=\"dataframe\">\n",
       "  <thead>\n",
       "    <tr style=\"text-align: right;\">\n",
       "      <th></th>\n",
       "      <th>First_Name</th>\n",
       "      <th>Fav_Subject</th>\n",
       "      <th>Country</th>\n",
       "      <th>Fav_Celebrity</th>\n",
       "    </tr>\n",
       "  </thead>\n",
       "  <tbody>\n",
       "    <tr>\n",
       "      <th>0</th>\n",
       "      <td>MARK</td>\n",
       "      <td>ECONOMICS</td>\n",
       "      <td>US</td>\n",
       "      <td>Obama</td>\n",
       "    </tr>\n",
       "    <tr>\n",
       "      <th>1</th>\n",
       "      <td>DAVE</td>\n",
       "      <td>MATHEMATICS</td>\n",
       "      <td>Denmark</td>\n",
       "      <td>Albert</td>\n",
       "    </tr>\n",
       "    <tr>\n",
       "      <th>2</th>\n",
       "      <td>COREY</td>\n",
       "      <td>COMPUTER SCIENCE</td>\n",
       "      <td>Germany</td>\n",
       "      <td>Newton</td>\n",
       "    </tr>\n",
       "    <tr>\n",
       "      <th>3</th>\n",
       "      <td>LIZA</td>\n",
       "      <td>PHYSICS</td>\n",
       "      <td>Mexico</td>\n",
       "      <td>Alfred</td>\n",
       "    </tr>\n",
       "    <tr>\n",
       "      <th>4</th>\n",
       "      <td>MAYUR</td>\n",
       "      <td>AI</td>\n",
       "      <td>India</td>\n",
       "      <td>Ramanuja</td>\n",
       "    </tr>\n",
       "  </tbody>\n",
       "</table>\n",
       "</div>"
      ],
      "text/plain": [
       "  First_Name       Fav_Subject  Country Fav_Celebrity\n",
       "0       MARK         ECONOMICS       US         Obama\n",
       "1       DAVE       MATHEMATICS  Denmark        Albert\n",
       "2      COREY  COMPUTER SCIENCE  Germany        Newton\n",
       "3       LIZA           PHYSICS   Mexico        Alfred\n",
       "4      MAYUR                AI    India      Ramanuja"
      ]
     },
     "execution_count": 108,
     "metadata": {},
     "output_type": "execute_result"
    }
   ],
   "source": [
    "df10"
   ]
  },
  {
   "cell_type": "code",
   "execution_count": 122,
   "id": "e2831b71",
   "metadata": {},
   "outputs": [],
   "source": [
    "df10['Last_Name']=['Wood','Warner','Schaffer','Taylor','Wang']"
   ]
  },
  {
   "cell_type": "code",
   "execution_count": 123,
   "id": "8b33e124",
   "metadata": {},
   "outputs": [
    {
     "data": {
      "text/html": [
       "<div>\n",
       "<style scoped>\n",
       "    .dataframe tbody tr th:only-of-type {\n",
       "        vertical-align: middle;\n",
       "    }\n",
       "\n",
       "    .dataframe tbody tr th {\n",
       "        vertical-align: top;\n",
       "    }\n",
       "\n",
       "    .dataframe thead th {\n",
       "        text-align: right;\n",
       "    }\n",
       "</style>\n",
       "<table border=\"1\" class=\"dataframe\">\n",
       "  <thead>\n",
       "    <tr style=\"text-align: right;\">\n",
       "      <th></th>\n",
       "      <th>First_Name</th>\n",
       "      <th>Fav_Subject</th>\n",
       "      <th>Country</th>\n",
       "      <th>Fav_Celebrity</th>\n",
       "      <th>Student_Name</th>\n",
       "      <th>Last_Name</th>\n",
       "    </tr>\n",
       "  </thead>\n",
       "  <tbody>\n",
       "    <tr>\n",
       "      <th>0</th>\n",
       "      <td>MARK</td>\n",
       "      <td>ECONOMICS</td>\n",
       "      <td>US</td>\n",
       "      <td>Obama</td>\n",
       "      <td>MARK Wood</td>\n",
       "      <td>Wood</td>\n",
       "    </tr>\n",
       "    <tr>\n",
       "      <th>1</th>\n",
       "      <td>DAVE</td>\n",
       "      <td>MATHEMATICS</td>\n",
       "      <td>Denmark</td>\n",
       "      <td>Albert</td>\n",
       "      <td>DAVE Warner</td>\n",
       "      <td>Warner</td>\n",
       "    </tr>\n",
       "    <tr>\n",
       "      <th>2</th>\n",
       "      <td>COREY</td>\n",
       "      <td>COMPUTER SCIENCE</td>\n",
       "      <td>Germany</td>\n",
       "      <td>Newton</td>\n",
       "      <td>COREY Schaffer</td>\n",
       "      <td>Schaffer</td>\n",
       "    </tr>\n",
       "    <tr>\n",
       "      <th>3</th>\n",
       "      <td>LIZA</td>\n",
       "      <td>PHYSICS</td>\n",
       "      <td>Mexico</td>\n",
       "      <td>Alfred</td>\n",
       "      <td>LIZA Taylor</td>\n",
       "      <td>Taylor</td>\n",
       "    </tr>\n",
       "    <tr>\n",
       "      <th>4</th>\n",
       "      <td>MAYUR</td>\n",
       "      <td>AI</td>\n",
       "      <td>India</td>\n",
       "      <td>Ramanuja</td>\n",
       "      <td>MAYUR Wang</td>\n",
       "      <td>Wang</td>\n",
       "    </tr>\n",
       "  </tbody>\n",
       "</table>\n",
       "</div>"
      ],
      "text/plain": [
       "  First_Name       Fav_Subject  Country Fav_Celebrity    Student_Name  \\\n",
       "0       MARK         ECONOMICS       US         Obama       MARK Wood   \n",
       "1       DAVE       MATHEMATICS  Denmark        Albert     DAVE Warner   \n",
       "2      COREY  COMPUTER SCIENCE  Germany        Newton  COREY Schaffer   \n",
       "3       LIZA           PHYSICS   Mexico        Alfred     LIZA Taylor   \n",
       "4      MAYUR                AI    India      Ramanuja      MAYUR Wang   \n",
       "\n",
       "  Last_Name  \n",
       "0      Wood  \n",
       "1    Warner  \n",
       "2  Schaffer  \n",
       "3    Taylor  \n",
       "4      Wang  "
      ]
     },
     "execution_count": 123,
     "metadata": {},
     "output_type": "execute_result"
    }
   ],
   "source": [
    "df10"
   ]
  },
  {
   "cell_type": "code",
   "execution_count": 114,
   "id": "02e6f1b0",
   "metadata": {},
   "outputs": [],
   "source": [
    "df10['Student_Name'] = df10['First_Name'] +' '+ df10['Last_Name']"
   ]
  },
  {
   "cell_type": "code",
   "execution_count": 115,
   "id": "0bd54e48",
   "metadata": {},
   "outputs": [
    {
     "data": {
      "text/html": [
       "<div>\n",
       "<style scoped>\n",
       "    .dataframe tbody tr th:only-of-type {\n",
       "        vertical-align: middle;\n",
       "    }\n",
       "\n",
       "    .dataframe tbody tr th {\n",
       "        vertical-align: top;\n",
       "    }\n",
       "\n",
       "    .dataframe thead th {\n",
       "        text-align: right;\n",
       "    }\n",
       "</style>\n",
       "<table border=\"1\" class=\"dataframe\">\n",
       "  <thead>\n",
       "    <tr style=\"text-align: right;\">\n",
       "      <th></th>\n",
       "      <th>First_Name</th>\n",
       "      <th>Fav_Subject</th>\n",
       "      <th>Country</th>\n",
       "      <th>Fav_Celebrity</th>\n",
       "      <th>Last_Name</th>\n",
       "      <th>Student_Name</th>\n",
       "    </tr>\n",
       "  </thead>\n",
       "  <tbody>\n",
       "    <tr>\n",
       "      <th>0</th>\n",
       "      <td>MARK</td>\n",
       "      <td>ECONOMICS</td>\n",
       "      <td>US</td>\n",
       "      <td>Obama</td>\n",
       "      <td>Wood</td>\n",
       "      <td>MARK Wood</td>\n",
       "    </tr>\n",
       "    <tr>\n",
       "      <th>1</th>\n",
       "      <td>DAVE</td>\n",
       "      <td>MATHEMATICS</td>\n",
       "      <td>Denmark</td>\n",
       "      <td>Albert</td>\n",
       "      <td>Warner</td>\n",
       "      <td>DAVE Warner</td>\n",
       "    </tr>\n",
       "    <tr>\n",
       "      <th>2</th>\n",
       "      <td>COREY</td>\n",
       "      <td>COMPUTER SCIENCE</td>\n",
       "      <td>Germany</td>\n",
       "      <td>Newton</td>\n",
       "      <td>Schaffer</td>\n",
       "      <td>COREY Schaffer</td>\n",
       "    </tr>\n",
       "    <tr>\n",
       "      <th>3</th>\n",
       "      <td>LIZA</td>\n",
       "      <td>PHYSICS</td>\n",
       "      <td>Mexico</td>\n",
       "      <td>Alfred</td>\n",
       "      <td>Taylor</td>\n",
       "      <td>LIZA Taylor</td>\n",
       "    </tr>\n",
       "    <tr>\n",
       "      <th>4</th>\n",
       "      <td>MAYUR</td>\n",
       "      <td>AI</td>\n",
       "      <td>India</td>\n",
       "      <td>Ramanuja</td>\n",
       "      <td>Wang</td>\n",
       "      <td>MAYUR Wang</td>\n",
       "    </tr>\n",
       "  </tbody>\n",
       "</table>\n",
       "</div>"
      ],
      "text/plain": [
       "  First_Name       Fav_Subject  Country Fav_Celebrity Last_Name  \\\n",
       "0       MARK         ECONOMICS       US         Obama      Wood   \n",
       "1       DAVE       MATHEMATICS  Denmark        Albert    Warner   \n",
       "2      COREY  COMPUTER SCIENCE  Germany        Newton  Schaffer   \n",
       "3       LIZA           PHYSICS   Mexico        Alfred    Taylor   \n",
       "4      MAYUR                AI    India      Ramanuja      Wang   \n",
       "\n",
       "     Student_Name  \n",
       "0       MARK Wood  \n",
       "1     DAVE Warner  \n",
       "2  COREY Schaffer  \n",
       "3     LIZA Taylor  \n",
       "4      MAYUR Wang  "
      ]
     },
     "execution_count": 115,
     "metadata": {},
     "output_type": "execute_result"
    }
   ],
   "source": [
    "df10"
   ]
  },
  {
   "cell_type": "code",
   "execution_count": 124,
   "id": "fc310a4a",
   "metadata": {},
   "outputs": [],
   "source": [
    "df10.drop(columns=['First_Name','Last_Name'], inplace=True)"
   ]
  },
  {
   "cell_type": "code",
   "execution_count": 125,
   "id": "cd40e3e4",
   "metadata": {},
   "outputs": [
    {
     "data": {
      "text/html": [
       "<div>\n",
       "<style scoped>\n",
       "    .dataframe tbody tr th:only-of-type {\n",
       "        vertical-align: middle;\n",
       "    }\n",
       "\n",
       "    .dataframe tbody tr th {\n",
       "        vertical-align: top;\n",
       "    }\n",
       "\n",
       "    .dataframe thead th {\n",
       "        text-align: right;\n",
       "    }\n",
       "</style>\n",
       "<table border=\"1\" class=\"dataframe\">\n",
       "  <thead>\n",
       "    <tr style=\"text-align: right;\">\n",
       "      <th></th>\n",
       "      <th>Fav_Subject</th>\n",
       "      <th>Country</th>\n",
       "      <th>Fav_Celebrity</th>\n",
       "      <th>Student_Name</th>\n",
       "    </tr>\n",
       "  </thead>\n",
       "  <tbody>\n",
       "    <tr>\n",
       "      <th>0</th>\n",
       "      <td>ECONOMICS</td>\n",
       "      <td>US</td>\n",
       "      <td>Obama</td>\n",
       "      <td>MARK Wood</td>\n",
       "    </tr>\n",
       "    <tr>\n",
       "      <th>1</th>\n",
       "      <td>MATHEMATICS</td>\n",
       "      <td>Denmark</td>\n",
       "      <td>Albert</td>\n",
       "      <td>DAVE Warner</td>\n",
       "    </tr>\n",
       "    <tr>\n",
       "      <th>2</th>\n",
       "      <td>COMPUTER SCIENCE</td>\n",
       "      <td>Germany</td>\n",
       "      <td>Newton</td>\n",
       "      <td>COREY Schaffer</td>\n",
       "    </tr>\n",
       "    <tr>\n",
       "      <th>3</th>\n",
       "      <td>PHYSICS</td>\n",
       "      <td>Mexico</td>\n",
       "      <td>Alfred</td>\n",
       "      <td>LIZA Taylor</td>\n",
       "    </tr>\n",
       "    <tr>\n",
       "      <th>4</th>\n",
       "      <td>AI</td>\n",
       "      <td>India</td>\n",
       "      <td>Ramanuja</td>\n",
       "      <td>MAYUR Wang</td>\n",
       "    </tr>\n",
       "  </tbody>\n",
       "</table>\n",
       "</div>"
      ],
      "text/plain": [
       "        Fav_Subject  Country Fav_Celebrity    Student_Name\n",
       "0         ECONOMICS       US         Obama       MARK Wood\n",
       "1       MATHEMATICS  Denmark        Albert     DAVE Warner\n",
       "2  COMPUTER SCIENCE  Germany        Newton  COREY Schaffer\n",
       "3           PHYSICS   Mexico        Alfred     LIZA Taylor\n",
       "4                AI    India      Ramanuja      MAYUR Wang"
      ]
     },
     "execution_count": 125,
     "metadata": {},
     "output_type": "execute_result"
    }
   ],
   "source": [
    "df10"
   ]
  },
  {
   "cell_type": "code",
   "execution_count": 126,
   "id": "c55ded34",
   "metadata": {},
   "outputs": [
    {
     "data": {
      "text/html": [
       "<div>\n",
       "<style scoped>\n",
       "    .dataframe tbody tr th:only-of-type {\n",
       "        vertical-align: middle;\n",
       "    }\n",
       "\n",
       "    .dataframe tbody tr th {\n",
       "        vertical-align: top;\n",
       "    }\n",
       "\n",
       "    .dataframe thead th {\n",
       "        text-align: right;\n",
       "    }\n",
       "</style>\n",
       "<table border=\"1\" class=\"dataframe\">\n",
       "  <thead>\n",
       "    <tr style=\"text-align: right;\">\n",
       "      <th></th>\n",
       "      <th>0</th>\n",
       "      <th>1</th>\n",
       "    </tr>\n",
       "  </thead>\n",
       "  <tbody>\n",
       "    <tr>\n",
       "      <th>0</th>\n",
       "      <td>MARK</td>\n",
       "      <td>Wood</td>\n",
       "    </tr>\n",
       "    <tr>\n",
       "      <th>1</th>\n",
       "      <td>DAVE</td>\n",
       "      <td>Warner</td>\n",
       "    </tr>\n",
       "    <tr>\n",
       "      <th>2</th>\n",
       "      <td>COREY</td>\n",
       "      <td>Schaffer</td>\n",
       "    </tr>\n",
       "    <tr>\n",
       "      <th>3</th>\n",
       "      <td>LIZA</td>\n",
       "      <td>Taylor</td>\n",
       "    </tr>\n",
       "    <tr>\n",
       "      <th>4</th>\n",
       "      <td>MAYUR</td>\n",
       "      <td>Wang</td>\n",
       "    </tr>\n",
       "  </tbody>\n",
       "</table>\n",
       "</div>"
      ],
      "text/plain": [
       "       0         1\n",
       "0   MARK      Wood\n",
       "1   DAVE    Warner\n",
       "2  COREY  Schaffer\n",
       "3   LIZA    Taylor\n",
       "4  MAYUR      Wang"
      ]
     },
     "execution_count": 126,
     "metadata": {},
     "output_type": "execute_result"
    }
   ],
   "source": [
    "df10['Student_Name'].str.split(' ', expand=True)"
   ]
  },
  {
   "cell_type": "code",
   "execution_count": 128,
   "id": "8ee893e7",
   "metadata": {},
   "outputs": [],
   "source": [
    "df10[['First_Name','Last_Name']] = df10['Student_Name'].str.split(' ', expand=True)"
   ]
  },
  {
   "cell_type": "code",
   "execution_count": 129,
   "id": "969422cb",
   "metadata": {},
   "outputs": [
    {
     "data": {
      "text/html": [
       "<div>\n",
       "<style scoped>\n",
       "    .dataframe tbody tr th:only-of-type {\n",
       "        vertical-align: middle;\n",
       "    }\n",
       "\n",
       "    .dataframe tbody tr th {\n",
       "        vertical-align: top;\n",
       "    }\n",
       "\n",
       "    .dataframe thead th {\n",
       "        text-align: right;\n",
       "    }\n",
       "</style>\n",
       "<table border=\"1\" class=\"dataframe\">\n",
       "  <thead>\n",
       "    <tr style=\"text-align: right;\">\n",
       "      <th></th>\n",
       "      <th>Fav_Subject</th>\n",
       "      <th>Country</th>\n",
       "      <th>Fav_Celebrity</th>\n",
       "      <th>Student_Name</th>\n",
       "      <th>First_Name</th>\n",
       "      <th>Last_Name</th>\n",
       "    </tr>\n",
       "  </thead>\n",
       "  <tbody>\n",
       "    <tr>\n",
       "      <th>0</th>\n",
       "      <td>ECONOMICS</td>\n",
       "      <td>US</td>\n",
       "      <td>Obama</td>\n",
       "      <td>MARK Wood</td>\n",
       "      <td>MARK</td>\n",
       "      <td>Wood</td>\n",
       "    </tr>\n",
       "    <tr>\n",
       "      <th>1</th>\n",
       "      <td>MATHEMATICS</td>\n",
       "      <td>Denmark</td>\n",
       "      <td>Albert</td>\n",
       "      <td>DAVE Warner</td>\n",
       "      <td>DAVE</td>\n",
       "      <td>Warner</td>\n",
       "    </tr>\n",
       "    <tr>\n",
       "      <th>2</th>\n",
       "      <td>COMPUTER SCIENCE</td>\n",
       "      <td>Germany</td>\n",
       "      <td>Newton</td>\n",
       "      <td>COREY Schaffer</td>\n",
       "      <td>COREY</td>\n",
       "      <td>Schaffer</td>\n",
       "    </tr>\n",
       "    <tr>\n",
       "      <th>3</th>\n",
       "      <td>PHYSICS</td>\n",
       "      <td>Mexico</td>\n",
       "      <td>Alfred</td>\n",
       "      <td>LIZA Taylor</td>\n",
       "      <td>LIZA</td>\n",
       "      <td>Taylor</td>\n",
       "    </tr>\n",
       "    <tr>\n",
       "      <th>4</th>\n",
       "      <td>AI</td>\n",
       "      <td>India</td>\n",
       "      <td>Ramanuja</td>\n",
       "      <td>MAYUR Wang</td>\n",
       "      <td>MAYUR</td>\n",
       "      <td>Wang</td>\n",
       "    </tr>\n",
       "  </tbody>\n",
       "</table>\n",
       "</div>"
      ],
      "text/plain": [
       "        Fav_Subject  Country Fav_Celebrity    Student_Name First_Name  \\\n",
       "0         ECONOMICS       US         Obama       MARK Wood       MARK   \n",
       "1       MATHEMATICS  Denmark        Albert     DAVE Warner       DAVE   \n",
       "2  COMPUTER SCIENCE  Germany        Newton  COREY Schaffer      COREY   \n",
       "3           PHYSICS   Mexico        Alfred     LIZA Taylor       LIZA   \n",
       "4                AI    India      Ramanuja      MAYUR Wang      MAYUR   \n",
       "\n",
       "  Last_Name  \n",
       "0      Wood  \n",
       "1    Warner  \n",
       "2  Schaffer  \n",
       "3    Taylor  \n",
       "4      Wang  "
      ]
     },
     "execution_count": 129,
     "metadata": {},
     "output_type": "execute_result"
    }
   ],
   "source": [
    "df10"
   ]
  },
  {
   "cell_type": "code",
   "execution_count": 131,
   "id": "47db8300",
   "metadata": {},
   "outputs": [
    {
     "name": "stderr",
     "output_type": "stream",
     "text": [
      "C:\\Users\\lenovo\\AppData\\Local\\Temp/ipykernel_11988/2509801955.py:1: FutureWarning: The frame.append method is deprecated and will be removed from pandas in a future version. Use pandas.concat instead.\n",
      "  df10.append({'Student_Name':'Steve'}, ignore_index=True)\n"
     ]
    },
    {
     "data": {
      "text/html": [
       "<div>\n",
       "<style scoped>\n",
       "    .dataframe tbody tr th:only-of-type {\n",
       "        vertical-align: middle;\n",
       "    }\n",
       "\n",
       "    .dataframe tbody tr th {\n",
       "        vertical-align: top;\n",
       "    }\n",
       "\n",
       "    .dataframe thead th {\n",
       "        text-align: right;\n",
       "    }\n",
       "</style>\n",
       "<table border=\"1\" class=\"dataframe\">\n",
       "  <thead>\n",
       "    <tr style=\"text-align: right;\">\n",
       "      <th></th>\n",
       "      <th>Fav_Subject</th>\n",
       "      <th>Country</th>\n",
       "      <th>Fav_Celebrity</th>\n",
       "      <th>Student_Name</th>\n",
       "      <th>First_Name</th>\n",
       "      <th>Last_Name</th>\n",
       "    </tr>\n",
       "  </thead>\n",
       "  <tbody>\n",
       "    <tr>\n",
       "      <th>0</th>\n",
       "      <td>ECONOMICS</td>\n",
       "      <td>US</td>\n",
       "      <td>Obama</td>\n",
       "      <td>MARK Wood</td>\n",
       "      <td>MARK</td>\n",
       "      <td>Wood</td>\n",
       "    </tr>\n",
       "    <tr>\n",
       "      <th>1</th>\n",
       "      <td>MATHEMATICS</td>\n",
       "      <td>Denmark</td>\n",
       "      <td>Albert</td>\n",
       "      <td>DAVE Warner</td>\n",
       "      <td>DAVE</td>\n",
       "      <td>Warner</td>\n",
       "    </tr>\n",
       "    <tr>\n",
       "      <th>2</th>\n",
       "      <td>COMPUTER SCIENCE</td>\n",
       "      <td>Germany</td>\n",
       "      <td>Newton</td>\n",
       "      <td>COREY Schaffer</td>\n",
       "      <td>COREY</td>\n",
       "      <td>Schaffer</td>\n",
       "    </tr>\n",
       "    <tr>\n",
       "      <th>3</th>\n",
       "      <td>PHYSICS</td>\n",
       "      <td>Mexico</td>\n",
       "      <td>Alfred</td>\n",
       "      <td>LIZA Taylor</td>\n",
       "      <td>LIZA</td>\n",
       "      <td>Taylor</td>\n",
       "    </tr>\n",
       "    <tr>\n",
       "      <th>4</th>\n",
       "      <td>AI</td>\n",
       "      <td>India</td>\n",
       "      <td>Ramanuja</td>\n",
       "      <td>MAYUR Wang</td>\n",
       "      <td>MAYUR</td>\n",
       "      <td>Wang</td>\n",
       "    </tr>\n",
       "    <tr>\n",
       "      <th>5</th>\n",
       "      <td>NaN</td>\n",
       "      <td>NaN</td>\n",
       "      <td>NaN</td>\n",
       "      <td>Steve</td>\n",
       "      <td>NaN</td>\n",
       "      <td>NaN</td>\n",
       "    </tr>\n",
       "  </tbody>\n",
       "</table>\n",
       "</div>"
      ],
      "text/plain": [
       "        Fav_Subject  Country Fav_Celebrity    Student_Name First_Name  \\\n",
       "0         ECONOMICS       US         Obama       MARK Wood       MARK   \n",
       "1       MATHEMATICS  Denmark        Albert     DAVE Warner       DAVE   \n",
       "2  COMPUTER SCIENCE  Germany        Newton  COREY Schaffer      COREY   \n",
       "3           PHYSICS   Mexico        Alfred     LIZA Taylor       LIZA   \n",
       "4                AI    India      Ramanuja      MAYUR Wang      MAYUR   \n",
       "5               NaN      NaN           NaN           Steve        NaN   \n",
       "\n",
       "  Last_Name  \n",
       "0      Wood  \n",
       "1    Warner  \n",
       "2  Schaffer  \n",
       "3    Taylor  \n",
       "4      Wang  \n",
       "5       NaN  "
      ]
     },
     "execution_count": 131,
     "metadata": {},
     "output_type": "execute_result"
    }
   ],
   "source": [
    "df10.append({'Student_Name':'Steve'}, ignore_index=True)"
   ]
  },
  {
   "cell_type": "code",
   "execution_count": 132,
   "id": "cc1ee126",
   "metadata": {},
   "outputs": [
    {
     "data": {
      "text/html": [
       "<div>\n",
       "<style scoped>\n",
       "    .dataframe tbody tr th:only-of-type {\n",
       "        vertical-align: middle;\n",
       "    }\n",
       "\n",
       "    .dataframe tbody tr th {\n",
       "        vertical-align: top;\n",
       "    }\n",
       "\n",
       "    .dataframe thead th {\n",
       "        text-align: right;\n",
       "    }\n",
       "</style>\n",
       "<table border=\"1\" class=\"dataframe\">\n",
       "  <thead>\n",
       "    <tr style=\"text-align: right;\">\n",
       "      <th></th>\n",
       "      <th>Name</th>\n",
       "      <th>Subject</th>\n",
       "      <th>Country</th>\n",
       "      <th>Fav_Celebrity</th>\n",
       "    </tr>\n",
       "  </thead>\n",
       "  <tbody>\n",
       "    <tr>\n",
       "      <th>0</th>\n",
       "      <td>Stephny</td>\n",
       "      <td>Mathematics</td>\n",
       "      <td>Norway</td>\n",
       "      <td>Ash</td>\n",
       "    </tr>\n",
       "    <tr>\n",
       "      <th>1</th>\n",
       "      <td>Selena</td>\n",
       "      <td>History</td>\n",
       "      <td>England</td>\n",
       "      <td>Gilbert</td>\n",
       "    </tr>\n",
       "    <tr>\n",
       "      <th>2</th>\n",
       "      <td>Justin</td>\n",
       "      <td>Geography</td>\n",
       "      <td>Italy</td>\n",
       "      <td>Faraday</td>\n",
       "    </tr>\n",
       "    <tr>\n",
       "      <th>3</th>\n",
       "      <td>Adarsh</td>\n",
       "      <td>Physics</td>\n",
       "      <td>France</td>\n",
       "      <td>Benjamin</td>\n",
       "    </tr>\n",
       "    <tr>\n",
       "      <th>4</th>\n",
       "      <td>Michael</td>\n",
       "      <td>Statistics</td>\n",
       "      <td>Nepal</td>\n",
       "      <td>Raman</td>\n",
       "    </tr>\n",
       "  </tbody>\n",
       "</table>\n",
       "</div>"
      ],
      "text/plain": [
       "      Name      Subject  Country Fav_Celebrity\n",
       "0  Stephny  Mathematics   Norway           Ash\n",
       "1   Selena      History  England       Gilbert\n",
       "2   Justin    Geography    Italy       Faraday\n",
       "3   Adarsh      Physics   France      Benjamin\n",
       "4  Michael   Statistics    Nepal         Raman"
      ]
     },
     "execution_count": 132,
     "metadata": {},
     "output_type": "execute_result"
    }
   ],
   "source": [
    "students2 = {'Student_Name':['Stephny','Selena','Justin','Adarsh','Michael'],\n",
    "           'Subject':['Mathematics','History','Geography','Physics','Statistics'],\n",
    "           'Country':['Norway','England','Italy','France','Nepal'],\n",
    "           'Fav_Celebrity':['Ash','Gilbert','Faraday','Benjamin','Raman']}\n",
    "\n",
    "df11=pd.DataFrame(students2)\n",
    "df11"
   ]
  },
  {
   "cell_type": "code",
   "execution_count": 133,
   "id": "d5705c58",
   "metadata": {},
   "outputs": [
    {
     "name": "stderr",
     "output_type": "stream",
     "text": [
      "C:\\Users\\lenovo\\AppData\\Local\\Temp/ipykernel_11988/2751696150.py:1: FutureWarning: The frame.append method is deprecated and will be removed from pandas in a future version. Use pandas.concat instead.\n",
      "  df10.append(df11, ignore_index=True)\n"
     ]
    },
    {
     "data": {
      "text/html": [
       "<div>\n",
       "<style scoped>\n",
       "    .dataframe tbody tr th:only-of-type {\n",
       "        vertical-align: middle;\n",
       "    }\n",
       "\n",
       "    .dataframe tbody tr th {\n",
       "        vertical-align: top;\n",
       "    }\n",
       "\n",
       "    .dataframe thead th {\n",
       "        text-align: right;\n",
       "    }\n",
       "</style>\n",
       "<table border=\"1\" class=\"dataframe\">\n",
       "  <thead>\n",
       "    <tr style=\"text-align: right;\">\n",
       "      <th></th>\n",
       "      <th>Fav_Subject</th>\n",
       "      <th>Country</th>\n",
       "      <th>Fav_Celebrity</th>\n",
       "      <th>Student_Name</th>\n",
       "      <th>First_Name</th>\n",
       "      <th>Last_Name</th>\n",
       "      <th>Name</th>\n",
       "      <th>Subject</th>\n",
       "    </tr>\n",
       "  </thead>\n",
       "  <tbody>\n",
       "    <tr>\n",
       "      <th>0</th>\n",
       "      <td>ECONOMICS</td>\n",
       "      <td>US</td>\n",
       "      <td>Obama</td>\n",
       "      <td>MARK Wood</td>\n",
       "      <td>MARK</td>\n",
       "      <td>Wood</td>\n",
       "      <td>NaN</td>\n",
       "      <td>NaN</td>\n",
       "    </tr>\n",
       "    <tr>\n",
       "      <th>1</th>\n",
       "      <td>MATHEMATICS</td>\n",
       "      <td>Denmark</td>\n",
       "      <td>Albert</td>\n",
       "      <td>DAVE Warner</td>\n",
       "      <td>DAVE</td>\n",
       "      <td>Warner</td>\n",
       "      <td>NaN</td>\n",
       "      <td>NaN</td>\n",
       "    </tr>\n",
       "    <tr>\n",
       "      <th>2</th>\n",
       "      <td>COMPUTER SCIENCE</td>\n",
       "      <td>Germany</td>\n",
       "      <td>Newton</td>\n",
       "      <td>COREY Schaffer</td>\n",
       "      <td>COREY</td>\n",
       "      <td>Schaffer</td>\n",
       "      <td>NaN</td>\n",
       "      <td>NaN</td>\n",
       "    </tr>\n",
       "    <tr>\n",
       "      <th>3</th>\n",
       "      <td>PHYSICS</td>\n",
       "      <td>Mexico</td>\n",
       "      <td>Alfred</td>\n",
       "      <td>LIZA Taylor</td>\n",
       "      <td>LIZA</td>\n",
       "      <td>Taylor</td>\n",
       "      <td>NaN</td>\n",
       "      <td>NaN</td>\n",
       "    </tr>\n",
       "    <tr>\n",
       "      <th>4</th>\n",
       "      <td>AI</td>\n",
       "      <td>India</td>\n",
       "      <td>Ramanuja</td>\n",
       "      <td>MAYUR Wang</td>\n",
       "      <td>MAYUR</td>\n",
       "      <td>Wang</td>\n",
       "      <td>NaN</td>\n",
       "      <td>NaN</td>\n",
       "    </tr>\n",
       "    <tr>\n",
       "      <th>5</th>\n",
       "      <td>NaN</td>\n",
       "      <td>Norway</td>\n",
       "      <td>Ash</td>\n",
       "      <td>NaN</td>\n",
       "      <td>NaN</td>\n",
       "      <td>NaN</td>\n",
       "      <td>Stephny</td>\n",
       "      <td>Mathematics</td>\n",
       "    </tr>\n",
       "    <tr>\n",
       "      <th>6</th>\n",
       "      <td>NaN</td>\n",
       "      <td>England</td>\n",
       "      <td>Gilbert</td>\n",
       "      <td>NaN</td>\n",
       "      <td>NaN</td>\n",
       "      <td>NaN</td>\n",
       "      <td>Selena</td>\n",
       "      <td>History</td>\n",
       "    </tr>\n",
       "    <tr>\n",
       "      <th>7</th>\n",
       "      <td>NaN</td>\n",
       "      <td>Italy</td>\n",
       "      <td>Faraday</td>\n",
       "      <td>NaN</td>\n",
       "      <td>NaN</td>\n",
       "      <td>NaN</td>\n",
       "      <td>Justin</td>\n",
       "      <td>Geography</td>\n",
       "    </tr>\n",
       "    <tr>\n",
       "      <th>8</th>\n",
       "      <td>NaN</td>\n",
       "      <td>France</td>\n",
       "      <td>Benjamin</td>\n",
       "      <td>NaN</td>\n",
       "      <td>NaN</td>\n",
       "      <td>NaN</td>\n",
       "      <td>Adarsh</td>\n",
       "      <td>Physics</td>\n",
       "    </tr>\n",
       "    <tr>\n",
       "      <th>9</th>\n",
       "      <td>NaN</td>\n",
       "      <td>Nepal</td>\n",
       "      <td>Raman</td>\n",
       "      <td>NaN</td>\n",
       "      <td>NaN</td>\n",
       "      <td>NaN</td>\n",
       "      <td>Michael</td>\n",
       "      <td>Statistics</td>\n",
       "    </tr>\n",
       "  </tbody>\n",
       "</table>\n",
       "</div>"
      ],
      "text/plain": [
       "        Fav_Subject  Country Fav_Celebrity    Student_Name First_Name  \\\n",
       "0         ECONOMICS       US         Obama       MARK Wood       MARK   \n",
       "1       MATHEMATICS  Denmark        Albert     DAVE Warner       DAVE   \n",
       "2  COMPUTER SCIENCE  Germany        Newton  COREY Schaffer      COREY   \n",
       "3           PHYSICS   Mexico        Alfred     LIZA Taylor       LIZA   \n",
       "4                AI    India      Ramanuja      MAYUR Wang      MAYUR   \n",
       "5               NaN   Norway           Ash             NaN        NaN   \n",
       "6               NaN  England       Gilbert             NaN        NaN   \n",
       "7               NaN    Italy       Faraday             NaN        NaN   \n",
       "8               NaN   France      Benjamin             NaN        NaN   \n",
       "9               NaN    Nepal         Raman             NaN        NaN   \n",
       "\n",
       "  Last_Name     Name      Subject  \n",
       "0      Wood      NaN          NaN  \n",
       "1    Warner      NaN          NaN  \n",
       "2  Schaffer      NaN          NaN  \n",
       "3    Taylor      NaN          NaN  \n",
       "4      Wang      NaN          NaN  \n",
       "5       NaN  Stephny  Mathematics  \n",
       "6       NaN   Selena      History  \n",
       "7       NaN   Justin    Geography  \n",
       "8       NaN   Adarsh      Physics  \n",
       "9       NaN  Michael   Statistics  "
      ]
     },
     "execution_count": 133,
     "metadata": {},
     "output_type": "execute_result"
    }
   ],
   "source": [
    "df10.append(df11, ignore_index=True)"
   ]
  },
  {
   "cell_type": "code",
   "execution_count": 134,
   "id": "4d167b15",
   "metadata": {},
   "outputs": [
    {
     "data": {
      "text/html": [
       "<div>\n",
       "<style scoped>\n",
       "    .dataframe tbody tr th:only-of-type {\n",
       "        vertical-align: middle;\n",
       "    }\n",
       "\n",
       "    .dataframe tbody tr th {\n",
       "        vertical-align: top;\n",
       "    }\n",
       "\n",
       "    .dataframe thead th {\n",
       "        text-align: right;\n",
       "    }\n",
       "</style>\n",
       "<table border=\"1\" class=\"dataframe\">\n",
       "  <thead>\n",
       "    <tr style=\"text-align: right;\">\n",
       "      <th></th>\n",
       "      <th>Fav_Subject</th>\n",
       "      <th>Country</th>\n",
       "      <th>Fav_Celebrity</th>\n",
       "      <th>Student_Name</th>\n",
       "      <th>First_Name</th>\n",
       "      <th>Last_Name</th>\n",
       "    </tr>\n",
       "  </thead>\n",
       "  <tbody>\n",
       "    <tr>\n",
       "      <th>0</th>\n",
       "      <td>ECONOMICS</td>\n",
       "      <td>US</td>\n",
       "      <td>Obama</td>\n",
       "      <td>MARK Wood</td>\n",
       "      <td>MARK</td>\n",
       "      <td>Wood</td>\n",
       "    </tr>\n",
       "    <tr>\n",
       "      <th>1</th>\n",
       "      <td>MATHEMATICS</td>\n",
       "      <td>Denmark</td>\n",
       "      <td>Albert</td>\n",
       "      <td>DAVE Warner</td>\n",
       "      <td>DAVE</td>\n",
       "      <td>Warner</td>\n",
       "    </tr>\n",
       "    <tr>\n",
       "      <th>2</th>\n",
       "      <td>COMPUTER SCIENCE</td>\n",
       "      <td>Germany</td>\n",
       "      <td>Newton</td>\n",
       "      <td>COREY Schaffer</td>\n",
       "      <td>COREY</td>\n",
       "      <td>Schaffer</td>\n",
       "    </tr>\n",
       "    <tr>\n",
       "      <th>3</th>\n",
       "      <td>PHYSICS</td>\n",
       "      <td>Mexico</td>\n",
       "      <td>Alfred</td>\n",
       "      <td>LIZA Taylor</td>\n",
       "      <td>LIZA</td>\n",
       "      <td>Taylor</td>\n",
       "    </tr>\n",
       "    <tr>\n",
       "      <th>4</th>\n",
       "      <td>AI</td>\n",
       "      <td>India</td>\n",
       "      <td>Ramanuja</td>\n",
       "      <td>MAYUR Wang</td>\n",
       "      <td>MAYUR</td>\n",
       "      <td>Wang</td>\n",
       "    </tr>\n",
       "  </tbody>\n",
       "</table>\n",
       "</div>"
      ],
      "text/plain": [
       "        Fav_Subject  Country Fav_Celebrity    Student_Name First_Name  \\\n",
       "0         ECONOMICS       US         Obama       MARK Wood       MARK   \n",
       "1       MATHEMATICS  Denmark        Albert     DAVE Warner       DAVE   \n",
       "2  COMPUTER SCIENCE  Germany        Newton  COREY Schaffer      COREY   \n",
       "3           PHYSICS   Mexico        Alfred     LIZA Taylor       LIZA   \n",
       "4                AI    India      Ramanuja      MAYUR Wang      MAYUR   \n",
       "\n",
       "  Last_Name  \n",
       "0      Wood  \n",
       "1    Warner  \n",
       "2  Schaffer  \n",
       "3    Taylor  \n",
       "4      Wang  "
      ]
     },
     "execution_count": 134,
     "metadata": {},
     "output_type": "execute_result"
    }
   ],
   "source": [
    "df10"
   ]
  },
  {
   "cell_type": "code",
   "execution_count": 136,
   "id": "bf6619f5",
   "metadata": {},
   "outputs": [
    {
     "data": {
      "text/html": [
       "<div>\n",
       "<style scoped>\n",
       "    .dataframe tbody tr th:only-of-type {\n",
       "        vertical-align: middle;\n",
       "    }\n",
       "\n",
       "    .dataframe tbody tr th {\n",
       "        vertical-align: top;\n",
       "    }\n",
       "\n",
       "    .dataframe thead th {\n",
       "        text-align: right;\n",
       "    }\n",
       "</style>\n",
       "<table border=\"1\" class=\"dataframe\">\n",
       "  <thead>\n",
       "    <tr style=\"text-align: right;\">\n",
       "      <th></th>\n",
       "      <th>Fav_Subject</th>\n",
       "      <th>Country</th>\n",
       "      <th>Fav_Celebrity</th>\n",
       "      <th>Student_Name</th>\n",
       "      <th>First_Name</th>\n",
       "      <th>Last_Name</th>\n",
       "    </tr>\n",
       "  </thead>\n",
       "  <tbody>\n",
       "    <tr>\n",
       "      <th>2</th>\n",
       "      <td>COMPUTER SCIENCE</td>\n",
       "      <td>Germany</td>\n",
       "      <td>Newton</td>\n",
       "      <td>COREY Schaffer</td>\n",
       "      <td>COREY</td>\n",
       "      <td>Schaffer</td>\n",
       "    </tr>\n",
       "    <tr>\n",
       "      <th>1</th>\n",
       "      <td>MATHEMATICS</td>\n",
       "      <td>Denmark</td>\n",
       "      <td>Albert</td>\n",
       "      <td>DAVE Warner</td>\n",
       "      <td>DAVE</td>\n",
       "      <td>Warner</td>\n",
       "    </tr>\n",
       "    <tr>\n",
       "      <th>3</th>\n",
       "      <td>PHYSICS</td>\n",
       "      <td>Mexico</td>\n",
       "      <td>Alfred</td>\n",
       "      <td>LIZA Taylor</td>\n",
       "      <td>LIZA</td>\n",
       "      <td>Taylor</td>\n",
       "    </tr>\n",
       "    <tr>\n",
       "      <th>0</th>\n",
       "      <td>ECONOMICS</td>\n",
       "      <td>US</td>\n",
       "      <td>Obama</td>\n",
       "      <td>MARK Wood</td>\n",
       "      <td>MARK</td>\n",
       "      <td>Wood</td>\n",
       "    </tr>\n",
       "    <tr>\n",
       "      <th>4</th>\n",
       "      <td>AI</td>\n",
       "      <td>India</td>\n",
       "      <td>Ramanuja</td>\n",
       "      <td>MAYUR Wang</td>\n",
       "      <td>MAYUR</td>\n",
       "      <td>Wang</td>\n",
       "    </tr>\n",
       "  </tbody>\n",
       "</table>\n",
       "</div>"
      ],
      "text/plain": [
       "        Fav_Subject  Country Fav_Celebrity    Student_Name First_Name  \\\n",
       "2  COMPUTER SCIENCE  Germany        Newton  COREY Schaffer      COREY   \n",
       "1       MATHEMATICS  Denmark        Albert     DAVE Warner       DAVE   \n",
       "3           PHYSICS   Mexico        Alfred     LIZA Taylor       LIZA   \n",
       "0         ECONOMICS       US         Obama       MARK Wood       MARK   \n",
       "4                AI    India      Ramanuja      MAYUR Wang      MAYUR   \n",
       "\n",
       "  Last_Name  \n",
       "2  Schaffer  \n",
       "1    Warner  \n",
       "3    Taylor  \n",
       "0      Wood  \n",
       "4      Wang  "
      ]
     },
     "execution_count": 136,
     "metadata": {},
     "output_type": "execute_result"
    }
   ],
   "source": [
    "df10.sort_values(by='Student_Name')"
   ]
  },
  {
   "cell_type": "code",
   "execution_count": 137,
   "id": "29abad31",
   "metadata": {},
   "outputs": [
    {
     "data": {
      "text/html": [
       "<div>\n",
       "<style scoped>\n",
       "    .dataframe tbody tr th:only-of-type {\n",
       "        vertical-align: middle;\n",
       "    }\n",
       "\n",
       "    .dataframe tbody tr th {\n",
       "        vertical-align: top;\n",
       "    }\n",
       "\n",
       "    .dataframe thead th {\n",
       "        text-align: right;\n",
       "    }\n",
       "</style>\n",
       "<table border=\"1\" class=\"dataframe\">\n",
       "  <thead>\n",
       "    <tr style=\"text-align: right;\">\n",
       "      <th></th>\n",
       "      <th>Fav_Subject</th>\n",
       "      <th>Country</th>\n",
       "      <th>Fav_Celebrity</th>\n",
       "      <th>Student_Name</th>\n",
       "      <th>First_Name</th>\n",
       "      <th>Last_Name</th>\n",
       "    </tr>\n",
       "  </thead>\n",
       "  <tbody>\n",
       "    <tr>\n",
       "      <th>4</th>\n",
       "      <td>AI</td>\n",
       "      <td>India</td>\n",
       "      <td>Ramanuja</td>\n",
       "      <td>MAYUR Wang</td>\n",
       "      <td>MAYUR</td>\n",
       "      <td>Wang</td>\n",
       "    </tr>\n",
       "    <tr>\n",
       "      <th>0</th>\n",
       "      <td>ECONOMICS</td>\n",
       "      <td>US</td>\n",
       "      <td>Obama</td>\n",
       "      <td>MARK Wood</td>\n",
       "      <td>MARK</td>\n",
       "      <td>Wood</td>\n",
       "    </tr>\n",
       "    <tr>\n",
       "      <th>3</th>\n",
       "      <td>PHYSICS</td>\n",
       "      <td>Mexico</td>\n",
       "      <td>Alfred</td>\n",
       "      <td>LIZA Taylor</td>\n",
       "      <td>LIZA</td>\n",
       "      <td>Taylor</td>\n",
       "    </tr>\n",
       "    <tr>\n",
       "      <th>1</th>\n",
       "      <td>MATHEMATICS</td>\n",
       "      <td>Denmark</td>\n",
       "      <td>Albert</td>\n",
       "      <td>DAVE Warner</td>\n",
       "      <td>DAVE</td>\n",
       "      <td>Warner</td>\n",
       "    </tr>\n",
       "    <tr>\n",
       "      <th>2</th>\n",
       "      <td>COMPUTER SCIENCE</td>\n",
       "      <td>Germany</td>\n",
       "      <td>Newton</td>\n",
       "      <td>COREY Schaffer</td>\n",
       "      <td>COREY</td>\n",
       "      <td>Schaffer</td>\n",
       "    </tr>\n",
       "  </tbody>\n",
       "</table>\n",
       "</div>"
      ],
      "text/plain": [
       "        Fav_Subject  Country Fav_Celebrity    Student_Name First_Name  \\\n",
       "4                AI    India      Ramanuja      MAYUR Wang      MAYUR   \n",
       "0         ECONOMICS       US         Obama       MARK Wood       MARK   \n",
       "3           PHYSICS   Mexico        Alfred     LIZA Taylor       LIZA   \n",
       "1       MATHEMATICS  Denmark        Albert     DAVE Warner       DAVE   \n",
       "2  COMPUTER SCIENCE  Germany        Newton  COREY Schaffer      COREY   \n",
       "\n",
       "  Last_Name  \n",
       "4      Wang  \n",
       "0      Wood  \n",
       "3    Taylor  \n",
       "1    Warner  \n",
       "2  Schaffer  "
      ]
     },
     "execution_count": 137,
     "metadata": {},
     "output_type": "execute_result"
    }
   ],
   "source": [
    "df10.sort_values(by='Student_Name', ascending=False)"
   ]
  },
  {
   "cell_type": "code",
   "execution_count": 138,
   "id": "682ec8a7",
   "metadata": {},
   "outputs": [
    {
     "data": {
      "text/html": [
       "<div>\n",
       "<style scoped>\n",
       "    .dataframe tbody tr th:only-of-type {\n",
       "        vertical-align: middle;\n",
       "    }\n",
       "\n",
       "    .dataframe tbody tr th {\n",
       "        vertical-align: top;\n",
       "    }\n",
       "\n",
       "    .dataframe thead th {\n",
       "        text-align: right;\n",
       "    }\n",
       "</style>\n",
       "<table border=\"1\" class=\"dataframe\">\n",
       "  <thead>\n",
       "    <tr style=\"text-align: right;\">\n",
       "      <th></th>\n",
       "      <th>Fav_Subject</th>\n",
       "      <th>Country</th>\n",
       "      <th>Fav_Celebrity</th>\n",
       "      <th>Student_Name</th>\n",
       "      <th>First_Name</th>\n",
       "      <th>Last_Name</th>\n",
       "    </tr>\n",
       "  </thead>\n",
       "  <tbody>\n",
       "    <tr>\n",
       "      <th>0</th>\n",
       "      <td>ECONOMICS</td>\n",
       "      <td>US</td>\n",
       "      <td>Obama</td>\n",
       "      <td>MARK Wood</td>\n",
       "      <td>MARK</td>\n",
       "      <td>Wood</td>\n",
       "    </tr>\n",
       "    <tr>\n",
       "      <th>1</th>\n",
       "      <td>MATHEMATICS</td>\n",
       "      <td>Denmark</td>\n",
       "      <td>Albert</td>\n",
       "      <td>DAVE Warner</td>\n",
       "      <td>DAVE</td>\n",
       "      <td>Warner</td>\n",
       "    </tr>\n",
       "    <tr>\n",
       "      <th>2</th>\n",
       "      <td>COMPUTER SCIENCE</td>\n",
       "      <td>Germany</td>\n",
       "      <td>Newton</td>\n",
       "      <td>COREY Schaffer</td>\n",
       "      <td>COREY</td>\n",
       "      <td>Schaffer</td>\n",
       "    </tr>\n",
       "    <tr>\n",
       "      <th>3</th>\n",
       "      <td>PHYSICS</td>\n",
       "      <td>Mexico</td>\n",
       "      <td>Alfred</td>\n",
       "      <td>LIZA Taylor</td>\n",
       "      <td>LIZA</td>\n",
       "      <td>Taylor</td>\n",
       "    </tr>\n",
       "    <tr>\n",
       "      <th>4</th>\n",
       "      <td>AI</td>\n",
       "      <td>India</td>\n",
       "      <td>Ramanuja</td>\n",
       "      <td>MAYUR Wang</td>\n",
       "      <td>MAYUR</td>\n",
       "      <td>Wang</td>\n",
       "    </tr>\n",
       "  </tbody>\n",
       "</table>\n",
       "</div>"
      ],
      "text/plain": [
       "        Fav_Subject  Country Fav_Celebrity    Student_Name First_Name  \\\n",
       "0         ECONOMICS       US         Obama       MARK Wood       MARK   \n",
       "1       MATHEMATICS  Denmark        Albert     DAVE Warner       DAVE   \n",
       "2  COMPUTER SCIENCE  Germany        Newton  COREY Schaffer      COREY   \n",
       "3           PHYSICS   Mexico        Alfred     LIZA Taylor       LIZA   \n",
       "4                AI    India      Ramanuja      MAYUR Wang      MAYUR   \n",
       "\n",
       "  Last_Name  \n",
       "0      Wood  \n",
       "1    Warner  \n",
       "2  Schaffer  \n",
       "3    Taylor  \n",
       "4      Wang  "
      ]
     },
     "execution_count": 138,
     "metadata": {},
     "output_type": "execute_result"
    }
   ],
   "source": [
    "df10"
   ]
  },
  {
   "cell_type": "code",
   "execution_count": 140,
   "id": "eb353f06",
   "metadata": {},
   "outputs": [
    {
     "data": {
      "text/html": [
       "<div>\n",
       "<style scoped>\n",
       "    .dataframe tbody tr th:only-of-type {\n",
       "        vertical-align: middle;\n",
       "    }\n",
       "\n",
       "    .dataframe tbody tr th {\n",
       "        vertical-align: top;\n",
       "    }\n",
       "\n",
       "    .dataframe thead th {\n",
       "        text-align: right;\n",
       "    }\n",
       "</style>\n",
       "<table border=\"1\" class=\"dataframe\">\n",
       "  <thead>\n",
       "    <tr style=\"text-align: right;\">\n",
       "      <th></th>\n",
       "      <th>Fav_Subject</th>\n",
       "      <th>Country</th>\n",
       "      <th>Fav_Celebrity</th>\n",
       "      <th>Student_Name</th>\n",
       "      <th>First_Name</th>\n",
       "      <th>Last_Name</th>\n",
       "    </tr>\n",
       "  </thead>\n",
       "  <tbody>\n",
       "    <tr>\n",
       "      <th>2</th>\n",
       "      <td>COMPUTER SCIENCE</td>\n",
       "      <td>Germany</td>\n",
       "      <td>Newton</td>\n",
       "      <td>COREY Schaffer</td>\n",
       "      <td>COREY</td>\n",
       "      <td>Schaffer</td>\n",
       "    </tr>\n",
       "    <tr>\n",
       "      <th>1</th>\n",
       "      <td>MATHEMATICS</td>\n",
       "      <td>Denmark</td>\n",
       "      <td>Albert</td>\n",
       "      <td>DAVE Warner</td>\n",
       "      <td>DAVE</td>\n",
       "      <td>Warner</td>\n",
       "    </tr>\n",
       "    <tr>\n",
       "      <th>3</th>\n",
       "      <td>PHYSICS</td>\n",
       "      <td>Mexico</td>\n",
       "      <td>Alfred</td>\n",
       "      <td>LIZA Taylor</td>\n",
       "      <td>LIZA</td>\n",
       "      <td>Taylor</td>\n",
       "    </tr>\n",
       "    <tr>\n",
       "      <th>0</th>\n",
       "      <td>ECONOMICS</td>\n",
       "      <td>US</td>\n",
       "      <td>Obama</td>\n",
       "      <td>MARK Wood</td>\n",
       "      <td>MARK</td>\n",
       "      <td>Wood</td>\n",
       "    </tr>\n",
       "    <tr>\n",
       "      <th>4</th>\n",
       "      <td>AI</td>\n",
       "      <td>India</td>\n",
       "      <td>Ramanuja</td>\n",
       "      <td>MAYUR Wang</td>\n",
       "      <td>MAYUR</td>\n",
       "      <td>Wang</td>\n",
       "    </tr>\n",
       "  </tbody>\n",
       "</table>\n",
       "</div>"
      ],
      "text/plain": [
       "        Fav_Subject  Country Fav_Celebrity    Student_Name First_Name  \\\n",
       "2  COMPUTER SCIENCE  Germany        Newton  COREY Schaffer      COREY   \n",
       "1       MATHEMATICS  Denmark        Albert     DAVE Warner       DAVE   \n",
       "3           PHYSICS   Mexico        Alfred     LIZA Taylor       LIZA   \n",
       "0         ECONOMICS       US         Obama       MARK Wood       MARK   \n",
       "4                AI    India      Ramanuja      MAYUR Wang      MAYUR   \n",
       "\n",
       "  Last_Name  \n",
       "2  Schaffer  \n",
       "1    Warner  \n",
       "3    Taylor  \n",
       "0      Wood  \n",
       "4      Wang  "
      ]
     },
     "execution_count": 140,
     "metadata": {},
     "output_type": "execute_result"
    }
   ],
   "source": [
    "df10.sort_values(by=['Student_Name','Country'], ascending=True)"
   ]
  },
  {
   "cell_type": "code",
   "execution_count": null,
   "id": "b7e6cfc0",
   "metadata": {},
   "outputs": [],
   "source": []
  }
 ],
 "metadata": {
  "kernelspec": {
   "display_name": "Python 3 (ipykernel)",
   "language": "python",
   "name": "python3"
  },
  "language_info": {
   "codemirror_mode": {
    "name": "ipython",
    "version": 3
   },
   "file_extension": ".py",
   "mimetype": "text/x-python",
   "name": "python",
   "nbconvert_exporter": "python",
   "pygments_lexer": "ipython3",
   "version": "3.9.7"
  }
 },
 "nbformat": 4,
 "nbformat_minor": 5
}
